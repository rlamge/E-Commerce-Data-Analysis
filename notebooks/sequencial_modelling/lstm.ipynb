{
 "cells": [
  {
   "cell_type": "code",
   "execution_count": 1,
   "id": "0e0b6d6b",
   "metadata": {},
   "outputs": [],
   "source": [
    "import pandas as pd\n",
    "import numpy as np\n",
    "from matplotlib import pyplot\n",
    "from keras.layers import BatchNormalization\n",
    "from keras.models import Sequential\n",
    "from keras.layers import Dense\n",
    "from keras.layers import LSTM\n",
    "from sklearn import preprocessing"
   ]
  },
  {
   "cell_type": "code",
   "execution_count": 2,
   "id": "06c38a46",
   "metadata": {},
   "outputs": [],
   "source": [
    "path=r\"C:\\Users\\Shibbs\\Desktop\\Praxis\\CAPP\\cwd\\datasets\\final\\df.csv\""
   ]
  },
  {
   "cell_type": "code",
   "execution_count": 5,
   "id": "bdb10790",
   "metadata": {},
   "outputs": [
    {
     "name": "stderr",
     "output_type": "stream",
     "text": [
      "C:\\Users\\Shibbs\\anaconda3\\lib\\site-packages\\IPython\\core\\interactiveshell.py:3444: DtypeWarning: Columns (6) have mixed types.Specify dtype option on import or set low_memory=False.\n",
      "  exec(code_obj, self.user_global_ns, self.user_ns)\n"
     ]
    }
   ],
   "source": [
    "df = pd.read_csv(path)"
   ]
  },
  {
   "cell_type": "code",
   "execution_count": 6,
   "id": "f31555b3",
   "metadata": {},
   "outputs": [
    {
     "data": {
      "text/plain": [
       "Index(['Unnamed: 0', 'event_time', 'event_type', 'product_id', 'category_id',\n",
       "       'category_code', 'brand', 'price', 'user_id', 'user_session'],\n",
       "      dtype='object')"
      ]
     },
     "execution_count": 6,
     "metadata": {},
     "output_type": "execute_result"
    }
   ],
   "source": [
    "df.columns"
   ]
  },
  {
   "cell_type": "code",
   "execution_count": 7,
   "id": "8b7de716",
   "metadata": {},
   "outputs": [],
   "source": [
    "def get_dataset(path):\n",
    "    \n",
    "    df = pd.read_csv(path, dtype={ 'event_type':object, 'product_id':int, 'category_id':object,\n",
    "                                   'category_code':object, 'brand':str, 'price':float, 'user_id':object, \n",
    "                                   'user_session':object})\n",
    "    df = df.groupby(['user_id', 'event_time'], as_index=False).first()\n",
    "    df = df.drop_duplicates(subset=['user_id', 'event_time'])\n",
    "    df = df[['user_id','event_type']]\n",
    "    \n",
    "    return df"
   ]
  },
  {
   "cell_type": "code",
   "execution_count": 8,
   "id": "b39a72a6",
   "metadata": {},
   "outputs": [],
   "source": [
    "def prepare_dataset(df,seq_length):\n",
    "    \n",
    "    for i in df['user_id'].unique():\n",
    "        seq = []\n",
    "        for j in range(df[df.user_id == i].shape[0]):\n",
    "            seq.append(f\"{j}\")   \n",
    "        df.loc[df['user_id']==i,'seq_index'] = [k for k in seq]\n",
    "        \n",
    "    df.seq_index = df.seq_index.astype(int)  \n",
    "    df = df[df['seq_index']<seq_length].reset_index()\n",
    "    \n",
    "    df2 = pd.pivot_table(data=df,index='user_id',columns=['seq_index'],values=['event_type'],aggfunc='sum')\n",
    "    df2 = df2.fillna(0)\n",
    "    df2 = df2.replace(['view'],1)\n",
    "    df2 = df2.replace(['cart'],2)\n",
    "    df2 = df2.replace(['purchase'],3)\n",
    "    df2 = df2[df2['event_type',  1 ]!= 0]\n",
    "    \n",
    "    df3 = pd.pivot_table(data=df,index='user_id',columns=['seq_index'],values=['product_id'],aggfunc='sum')\n",
    "    df3 = df3.fillna(0)\n",
    "    df3 = df3[df3['product_id',  1 ]!= 0]\n",
    "    \n",
    "    event_type_list = []\n",
    "    for i in range(len(df2.index)):\n",
    "        event_type = df2.iloc[i].tolist()\n",
    "        event_type.sort(reverse = True,key=lambda x: x==0)\n",
    "        event_type_list.append(event_type)\n",
    "        \n",
    "    product_id_list = []\n",
    "    for i in range(len(df2.index)):\n",
    "        product_id = df2.iloc[i].tolist()\n",
    "        product_id.sort(reverse = True,key=lambda x: x==0)\n",
    "        product_id_list.append(product_id)\n",
    "    \n",
    "        \n",
    "    return event_type_list, product_id_list\n",
    "    "
   ]
  },
  {
   "cell_type": "code",
   "execution_count": 9,
   "id": "51df4b08",
   "metadata": {},
   "outputs": [],
   "source": [
    "def train(arr, epochs, batch_size):\n",
    "    train_size = 10000\n",
    "    train = arr[:train_size, :]\n",
    "    test = arr[train_size:, :]\n",
    "    # split into input and outputs\n",
    "    train_X, train_y = train[:, :-1], train[:, -1]\n",
    "    test_X, test_y = test[:, :-1], test[:, -1]\n",
    "    # reshape input to be 3D [samples, timesteps, features]\n",
    "    train_X = train_X.reshape((train_X.shape[0], 1, train_X.shape[1]))\n",
    "    test_X = test_X.reshape((test_X.shape[0], 1, test_X.shape[1]))\n",
    "    print('train_X: {} train_y: {} test_X: {} test_y: {}'.format(train_X.shape, train_y.shape, test_X.shape, test_y.shape))\n",
    "    \n",
    "    model = Sequential()\n",
    "    model.add(LSTM(50, input_shape=(train_X.shape[1], train_X.shape[2]),return_sequences=True, dropout=0.7))\n",
    "    model.add(BatchNormalization())\n",
    "    model.add(LSTM(50, input_shape=(train_X.shape[1], train_X.shape[2]),dropout=0.7))\n",
    "    model.add(BatchNormalization())\n",
    "    model.add(Dense(64,activation='relu'))\n",
    "    model.add(Dense(53452 + 4,activation='softmax'))\n",
    "    model.compile(loss='sparse_categorical_crossentropy', optimizer='adam', metrics=['sparse_categorical_accuracy'])\n",
    "    # fit network\n",
    "    history = model.fit(train_X, train_y, epochs=epochs, batch_size=batch_size, validation_data=(test_X, test_y), verbose=2, shuffle=True)\n",
    "    # plot history\n",
    "    pyplot.plot(history.history['loss'], label='train')\n",
    "    pyplot.plot(history.history['val_loss'], label='test')\n",
    "    pyplot.legend()\n",
    "    pyplot.show()\n",
    "    \n",
    "    return model"
   ]
  },
  {
   "cell_type": "code",
   "execution_count": 10,
   "id": "72a08658",
   "metadata": {},
   "outputs": [],
   "source": [
    "def make_pred(model, data):\n",
    "    user_array = np.array(data)\n",
    "    user_array = user_array.reshape((user_array.shape[0], 1, user_array.shape[1]))\n",
    "#     pred = np.argmax(model.predict(user_array))\n",
    "    pred = model.predict(user_array)\n",
    "    scaled_pred = np.argmax(pred[0][1]*(1/(data == 1).sum()),pred[0][2]*(1/(data == 2).sum()),pred[0][3]*(1/(data == 3).sum()))\n",
    "    return scaled_pred\n",
    "    "
   ]
  },
  {
   "cell_type": "code",
   "execution_count": 11,
   "id": "d4c95283",
   "metadata": {},
   "outputs": [],
   "source": [
    "df = get_dataset(path)"
   ]
  },
  {
   "cell_type": "code",
   "execution_count": 8,
   "id": "12ffb240",
   "metadata": {},
   "outputs": [],
   "source": [
    "data = prepare_dataset(df,150)"
   ]
  },
  {
   "cell_type": "code",
   "execution_count": 48,
   "id": "c1da4859",
   "metadata": {},
   "outputs": [
    {
     "name": "stdout",
     "output_type": "stream",
     "text": [
      "train_X: (10000, 1, 149) train_y: (10000,) test_X: (879, 1, 149) test_y: (879,)\n",
      "Epoch 1/10\n",
      "313/313 - 4s - loss: 0.4566 - sparse_categorical_accuracy: 0.8939 - val_loss: 0.5139 - val_sparse_categorical_accuracy: 0.8851 - 4s/epoch - 13ms/step\n",
      "Epoch 2/10\n",
      "313/313 - 1s - loss: 0.3823 - sparse_categorical_accuracy: 0.9102 - val_loss: 0.4413 - val_sparse_categorical_accuracy: 0.8851 - 773ms/epoch - 2ms/step\n",
      "Epoch 3/10\n",
      "313/313 - 1s - loss: 0.3753 - sparse_categorical_accuracy: 0.9102 - val_loss: 0.4416 - val_sparse_categorical_accuracy: 0.8851 - 750ms/epoch - 2ms/step\n",
      "Epoch 4/10\n",
      "313/313 - 1s - loss: 0.3755 - sparse_categorical_accuracy: 0.9102 - val_loss: 0.4522 - val_sparse_categorical_accuracy: 0.8851 - 765ms/epoch - 2ms/step\n",
      "Epoch 5/10\n",
      "313/313 - 1s - loss: 0.3724 - sparse_categorical_accuracy: 0.9102 - val_loss: 0.4390 - val_sparse_categorical_accuracy: 0.8851 - 750ms/epoch - 2ms/step\n",
      "Epoch 6/10\n",
      "313/313 - 1s - loss: 0.3680 - sparse_categorical_accuracy: 0.9102 - val_loss: 0.4347 - val_sparse_categorical_accuracy: 0.8851 - 750ms/epoch - 2ms/step\n",
      "Epoch 7/10\n",
      "313/313 - 1s - loss: 0.3688 - sparse_categorical_accuracy: 0.9102 - val_loss: 0.4363 - val_sparse_categorical_accuracy: 0.8851 - 772ms/epoch - 2ms/step\n",
      "Epoch 8/10\n",
      "313/313 - 1s - loss: 0.3644 - sparse_categorical_accuracy: 0.9102 - val_loss: 0.4468 - val_sparse_categorical_accuracy: 0.8851 - 753ms/epoch - 2ms/step\n",
      "Epoch 9/10\n",
      "313/313 - 1s - loss: 0.3647 - sparse_categorical_accuracy: 0.9102 - val_loss: 0.4340 - val_sparse_categorical_accuracy: 0.8851 - 741ms/epoch - 2ms/step\n",
      "Epoch 10/10\n",
      "313/313 - 1s - loss: 0.3646 - sparse_categorical_accuracy: 0.9102 - val_loss: 0.4320 - val_sparse_categorical_accuracy: 0.8851 - 735ms/epoch - 2ms/step\n"
     ]
    },
    {
     "data": {
      "image/png": "[encoded data removed]",
      "text/plain": [
       "<Figure size 432x288 with 1 Axes>"
      ]
     },
     "metadata": {
      "needs_background": "light"
     },
     "output_type": "display_data"
    }
   ],
   "source": [
    "model = train(data, 10, 32)"
   ]
  }
 ],
 "metadata": {
  "kernelspec": {
   "display_name": "Python 3 (ipykernel)",
   "language": "python",
   "name": "python3"
  },
  "language_info": {
   "codemirror_mode": {
    "name": "ipython",
    "version": 3
   },
   "file_extension": ".py",
   "mimetype": "text/x-python",
   "name": "python",
   "nbconvert_exporter": "python",
   "pygments_lexer": "ipython3",
   "version": "3.9.7"
  }
 },
 "nbformat": 4,
 "nbformat_minor": 5
}
