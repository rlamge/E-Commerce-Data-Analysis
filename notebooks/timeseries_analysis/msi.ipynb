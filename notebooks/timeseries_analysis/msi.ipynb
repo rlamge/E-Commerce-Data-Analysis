{
  "nbformat": 4,
  "nbformat_minor": 0,
  "metadata": {
    "colab": {
      "name": "msi.ipynb",
      "provenance": [],
      "collapsed_sections": []
    },
    "kernelspec": {
      "name": "python3",
      "display_name": "Python 3"
    },
    "language_info": {
      "name": "python"
    }
  },
  "cells": [
    {
      "cell_type": "code",
      "execution_count": 1,
      "metadata": {
        "colab": {
          "base_uri": "https://localhost:8080/"
        },
        "id": "_Q4FJe6WO7hR",
        "outputId": "1ed6c03a-b18a-4c6b-d859-de44ee38417e"
      },
      "outputs": [
        {
          "output_type": "stream",
          "name": "stdout",
          "text": [
            "Requirement already satisfied: statsmodels in /usr/local/lib/python3.7/dist-packages (0.13.2)\n",
            "Requirement already satisfied: pandas>=0.25 in /usr/local/lib/python3.7/dist-packages (from statsmodels) (1.3.5)\n",
            "Requirement already satisfied: packaging>=21.3 in /usr/local/lib/python3.7/dist-packages (from statsmodels) (21.3)\n",
            "Requirement already satisfied: numpy>=1.17 in /usr/local/lib/python3.7/dist-packages (from statsmodels) (1.21.6)\n",
            "Requirement already satisfied: scipy>=1.3 in /usr/local/lib/python3.7/dist-packages (from statsmodels) (1.4.1)\n",
            "Requirement already satisfied: patsy>=0.5.2 in /usr/local/lib/python3.7/dist-packages (from statsmodels) (0.5.2)\n",
            "Requirement already satisfied: pyparsing!=3.0.5,>=2.0.2 in /usr/local/lib/python3.7/dist-packages (from packaging>=21.3->statsmodels) (3.0.8)\n",
            "Requirement already satisfied: python-dateutil>=2.7.3 in /usr/local/lib/python3.7/dist-packages (from pandas>=0.25->statsmodels) (2.8.2)\n",
            "Requirement already satisfied: pytz>=2017.3 in /usr/local/lib/python3.7/dist-packages (from pandas>=0.25->statsmodels) (2022.1)\n",
            "Requirement already satisfied: six in /usr/local/lib/python3.7/dist-packages (from patsy>=0.5.2->statsmodels) (1.15.0)\n"
          ]
        }
      ],
      "source": [
        "!pip install statsmodels --upgrade"
      ]
    },
    {
      "cell_type": "code",
      "source": [
        "import pandas as pd\n",
        "import numpy as np\n",
        "from matplotlib import pyplot as plt\n",
        "%matplotlib inline"
      ],
      "metadata": {
        "id": "hNQuNNBdPeJQ"
      },
      "execution_count": 2,
      "outputs": []
    },
    {
      "cell_type": "code",
      "source": [
        "series=pd.read_excel(\"/content/msi.xlsx\")"
      ],
      "metadata": {
        "id": "apXIMZk9Pey7"
      },
      "execution_count": 3,
      "outputs": []
    },
    {
      "cell_type": "code",
      "source": [
        "series.head()"
      ],
      "metadata": {
        "colab": {
          "base_uri": "https://localhost:8080/",
          "height": 206
        },
        "id": "FtL5FPGbPhJs",
        "outputId": "8e4fdd4f-1287-4ad0-f836-b4115173da43"
      },
      "execution_count": 4,
      "outputs": [
        {
          "output_type": "execute_result",
          "data": {
            "text/plain": [
              "  event_time  price_msi\n",
              "0 2020-12-23     449.51\n",
              "1 2020-12-23     449.51\n",
              "2 2021-02-23     449.51\n",
              "3 2020-10-26     449.51\n",
              "4 2021-01-10     449.51"
            ],
            "text/html": [
              "\n",
              "  <div id=\"df-9aa2fad8-50d6-4efd-91a7-3eb5d4aa6138\">\n",
              "    <div class=\"colab-df-container\">\n",
              "      <div>\n",
              "<style scoped>\n",
              "    .dataframe tbody tr th:only-of-type {\n",
              "        vertical-align: middle;\n",
              "    }\n",
              "\n",
              "    .dataframe tbody tr th {\n",
              "        vertical-align: top;\n",
              "    }\n",
              "\n",
              "    .dataframe thead th {\n",
              "        text-align: right;\n",
              "    }\n",
              "</style>\n",
              "<table border=\"1\" class=\"dataframe\">\n",
              "  <thead>\n",
              "    <tr style=\"text-align: right;\">\n",
              "      <th></th>\n",
              "      <th>event_time</th>\n",
              "      <th>price_msi</th>\n",
              "    </tr>\n",
              "  </thead>\n",
              "  <tbody>\n",
              "    <tr>\n",
              "      <th>0</th>\n",
              "      <td>2020-12-23</td>\n",
              "      <td>449.51</td>\n",
              "    </tr>\n",
              "    <tr>\n",
              "      <th>1</th>\n",
              "      <td>2020-12-23</td>\n",
              "      <td>449.51</td>\n",
              "    </tr>\n",
              "    <tr>\n",
              "      <th>2</th>\n",
              "      <td>2021-02-23</td>\n",
              "      <td>449.51</td>\n",
              "    </tr>\n",
              "    <tr>\n",
              "      <th>3</th>\n",
              "      <td>2020-10-26</td>\n",
              "      <td>449.51</td>\n",
              "    </tr>\n",
              "    <tr>\n",
              "      <th>4</th>\n",
              "      <td>2021-01-10</td>\n",
              "      <td>449.51</td>\n",
              "    </tr>\n",
              "  </tbody>\n",
              "</table>\n",
              "</div>\n",
              "      <button class=\"colab-df-convert\" onclick=\"convertToInteractive('df-9aa2fad8-50d6-4efd-91a7-3eb5d4aa6138')\"\n",
              "              title=\"Convert this dataframe to an interactive table.\"\n",
              "              style=\"display:none;\">\n",
              "        \n",
              "  <svg xmlns=\"http://www.w3.org/2000/svg\" height=\"24px\"viewBox=\"0 0 24 24\"\n",
              "       width=\"24px\">\n",
              "    <path d=\"M0 0h24v24H0V0z\" fill=\"none\"/>\n",
              "    <path d=\"M18.56 5.44l.94 2.06.94-2.06 2.06-.94-2.06-.94-.94-2.06-.94 2.06-2.06.94zm-11 1L8.5 8.5l.94-2.06 2.06-.94-2.06-.94L8.5 2.5l-.94 2.06-2.06.94zm10 10l.94 2.06.94-2.06 2.06-.94-2.06-.94-.94-2.06-.94 2.06-2.06.94z\"/><path d=\"M17.41 7.96l-1.37-1.37c-.4-.4-.92-.59-1.43-.59-.52 0-1.04.2-1.43.59L10.3 9.45l-7.72 7.72c-.78.78-.78 2.05 0 2.83L4 21.41c.39.39.9.59 1.41.59.51 0 1.02-.2 1.41-.59l7.78-7.78 2.81-2.81c.8-.78.8-2.07 0-2.86zM5.41 20L4 18.59l7.72-7.72 1.47 1.35L5.41 20z\"/>\n",
              "  </svg>\n",
              "      </button>\n",
              "      \n",
              "  <style>\n",
              "    .colab-df-container {\n",
              "      display:flex;\n",
              "      flex-wrap:wrap;\n",
              "      gap: 12px;\n",
              "    }\n",
              "\n",
              "    .colab-df-convert {\n",
              "      background-color: #E8F0FE;\n",
              "      border: none;\n",
              "      border-radius: 50%;\n",
              "      cursor: pointer;\n",
              "      display: none;\n",
              "      fill: #1967D2;\n",
              "      height: 32px;\n",
              "      padding: 0 0 0 0;\n",
              "      width: 32px;\n",
              "    }\n",
              "\n",
              "    .colab-df-convert:hover {\n",
              "      background-color: #E2EBFA;\n",
              "      box-shadow: 0px 1px 2px rgba(60, 64, 67, 0.3), 0px 1px 3px 1px rgba(60, 64, 67, 0.15);\n",
              "      fill: #174EA6;\n",
              "    }\n",
              "\n",
              "    [theme=dark] .colab-df-convert {\n",
              "      background-color: #3B4455;\n",
              "      fill: #D2E3FC;\n",
              "    }\n",
              "\n",
              "    [theme=dark] .colab-df-convert:hover {\n",
              "      background-color: #434B5C;\n",
              "      box-shadow: 0px 1px 3px 1px rgba(0, 0, 0, 0.15);\n",
              "      filter: drop-shadow(0px 1px 2px rgba(0, 0, 0, 0.3));\n",
              "      fill: #FFFFFF;\n",
              "    }\n",
              "  </style>\n",
              "\n",
              "      <script>\n",
              "        const buttonEl =\n",
              "          document.querySelector('#df-9aa2fad8-50d6-4efd-91a7-3eb5d4aa6138 button.colab-df-convert');\n",
              "        buttonEl.style.display =\n",
              "          google.colab.kernel.accessAllowed ? 'block' : 'none';\n",
              "\n",
              "        async function convertToInteractive(key) {\n",
              "          const element = document.querySelector('#df-9aa2fad8-50d6-4efd-91a7-3eb5d4aa6138');\n",
              "          const dataTable =\n",
              "            await google.colab.kernel.invokeFunction('convertToInteractive',\n",
              "                                                     [key], {});\n",
              "          if (!dataTable) return;\n",
              "\n",
              "          const docLinkHtml = 'Like what you see? Visit the ' +\n",
              "            '<a target=\"_blank\" href=https://colab.research.google.com/notebooks/data_table.ipynb>data table notebook</a>'\n",
              "            + ' to learn more about interactive tables.';\n",
              "          element.innerHTML = '';\n",
              "          dataTable['output_type'] = 'display_data';\n",
              "          await google.colab.output.renderOutput(dataTable, element);\n",
              "          const docLink = document.createElement('div');\n",
              "          docLink.innerHTML = docLinkHtml;\n",
              "          element.appendChild(docLink);\n",
              "        }\n",
              "      </script>\n",
              "    </div>\n",
              "  </div>\n",
              "  "
            ]
          },
          "metadata": {},
          "execution_count": 4
        }
      ]
    },
    {
      "cell_type": "code",
      "source": [
        "series[\"event_time\"]=pd.to_datetime(series[\"event_time\"])"
      ],
      "metadata": {
        "id": "9nHsXgIlPjvW"
      },
      "execution_count": 5,
      "outputs": []
    },
    {
      "cell_type": "code",
      "source": [
        "new_series=series.groupby(\"event_time\").sum()"
      ],
      "metadata": {
        "id": "982oopSQPjr8"
      },
      "execution_count": 6,
      "outputs": []
    },
    {
      "cell_type": "code",
      "source": [
        "new_series.plot()"
      ],
      "metadata": {
        "colab": {
          "base_uri": "https://localhost:8080/",
          "height": 295
        },
        "id": "2uZPDdeBPjoy",
        "outputId": "72ada4b9-1051-41d0-e6b5-7ea1d9e5c707"
      },
      "execution_count": 7,
      "outputs": [
        {
          "output_type": "execute_result",
          "data": {
            "text/plain": [
              "<matplotlib.axes._subplots.AxesSubplot at 0x7f35f4d08650>"
            ]
          },
          "metadata": {},
          "execution_count": 7
        },
        {
          "output_type": "display_data",
          "data": {
            "text/plain": [
              "<Figure size 432x288 with 1 Axes>"
            ],
            "image/png": "[encoded data removed]"
          },
          "metadata": {
            "needs_background": "light"
          }
        }
      ]
    },
    {
      "cell_type": "code",
      "source": [
        "new_series.isnull().sum()"
      ],
      "metadata": {
        "colab": {
          "base_uri": "https://localhost:8080/"
        },
        "id": "zgb280PaPjmI",
        "outputId": "5e61a3b0-5073-4db6-ff1d-6a78586bb8d0"
      },
      "execution_count": 8,
      "outputs": [
        {
          "output_type": "execute_result",
          "data": {
            "text/plain": [
              "price_msi    0\n",
              "dtype: int64"
            ]
          },
          "metadata": {},
          "execution_count": 8
        }
      ]
    },
    {
      "cell_type": "code",
      "source": [
        "from statsmodels.tsa.stattools import adfuller"
      ],
      "metadata": {
        "id": "0dlwC6u6QHdi"
      },
      "execution_count": 9,
      "outputs": []
    },
    {
      "cell_type": "code",
      "source": [
        "def adfuller_test(purchase):\n",
        "    result=adfuller(purchase)\n",
        "    labels = ['ADF Test Statistic','p-value']\n",
        "    for value,label in zip(result,labels):\n",
        "        print(label+' : '+str(value) )\n",
        "    if result[1] <= 0.05:\n",
        "        print(\"strong evidence against the null hypothesis(Ho), reject the null hypothesis. Data has no unit root and is stationary\")\n",
        "    else:\n",
        "        print(\"weak evidence against null hypothesis, time series has a unit root, indicating it is non-stationary \")"
      ],
      "metadata": {
        "id": "VzPyIuDMPyxm"
      },
      "execution_count": 10,
      "outputs": []
    },
    {
      "cell_type": "code",
      "source": [
        "adfuller_test(new_series[\"price_msi\"])"
      ],
      "metadata": {
        "colab": {
          "base_uri": "https://localhost:8080/"
        },
        "id": "wELqBCsXP_VN",
        "outputId": "19d6cd0d-eed2-44bc-ca40-043570aab124"
      },
      "execution_count": 11,
      "outputs": [
        {
          "output_type": "stream",
          "name": "stdout",
          "text": [
            "ADF Test Statistic : -0.561842931380012\n",
            "p-value : 0.8793729948033129\n",
            "weak evidence against null hypothesis, time series has a unit root, indicating it is non-stationary \n"
          ]
        }
      ]
    },
    {
      "cell_type": "code",
      "source": [
        "msi_diff=new_series[\"price_msi\"].diff()"
      ],
      "metadata": {
        "id": "-LrgIAUeQLkr"
      },
      "execution_count": 12,
      "outputs": []
    },
    {
      "cell_type": "code",
      "source": [
        "msi_diff=msi_diff.dropna()"
      ],
      "metadata": {
        "id": "I4Js1d5HQTOw"
      },
      "execution_count": 13,
      "outputs": []
    },
    {
      "cell_type": "code",
      "source": [
        "adfuller_test(msi_diff)"
      ],
      "metadata": {
        "colab": {
          "base_uri": "https://localhost:8080/"
        },
        "id": "9uXMVl3DQTLl",
        "outputId": "e766a606-d59d-41c0-bad8-ab75b6f83c94"
      },
      "execution_count": 14,
      "outputs": [
        {
          "output_type": "stream",
          "name": "stdout",
          "text": [
            "ADF Test Statistic : -9.020052221797817\n",
            "p-value : 5.808183033973445e-15\n",
            "strong evidence against the null hypothesis(Ho), reject the null hypothesis. Data has no unit root and is stationary\n"
          ]
        }
      ]
    },
    {
      "cell_type": "code",
      "source": [
        "msi_diff.shape"
      ],
      "metadata": {
        "colab": {
          "base_uri": "https://localhost:8080/"
        },
        "id": "xzMfv1scQTIf",
        "outputId": "77f05d0d-28c1-48e4-e79f-8f2954bcc19b"
      },
      "execution_count": 15,
      "outputs": [
        {
          "output_type": "execute_result",
          "data": {
            "text/plain": [
              "(149,)"
            ]
          },
          "metadata": {},
          "execution_count": 15
        }
      ]
    },
    {
      "cell_type": "code",
      "source": [
        "from statsmodels.graphics.tsaplots import plot_acf, plot_pacf\n"
      ],
      "metadata": {
        "id": "cbUEAFB2QTFH"
      },
      "execution_count": 16,
      "outputs": []
    },
    {
      "cell_type": "code",
      "source": [
        "pacf_plot = plot_pacf(msi_diff,lags=73)\n"
      ],
      "metadata": {
        "colab": {
          "base_uri": "https://localhost:8080/",
          "height": 336
        },
        "id": "cMCLwDq2QfQR",
        "outputId": "5b4b3786-a67e-4555-860d-c5bdacdb386f"
      },
      "execution_count": 17,
      "outputs": [
        {
          "output_type": "stream",
          "name": "stderr",
          "text": [
            "/usr/local/lib/python3.7/dist-packages/statsmodels/graphics/tsaplots.py:353: FutureWarning: The default method 'yw' can produce PACF values outside of the [-1,1] interval. After 0.13, the default will change tounadjusted Yule-Walker ('ywm'). You can use this method now by setting method='ywm'.\n",
            "  FutureWarning,\n"
          ]
        },
        {
          "output_type": "display_data",
          "data": {
            "text/plain": [
              "<Figure size 432x288 with 1 Axes>"
            ],
            "image/png": "[encoded data removed]"
          },
          "metadata": {
            "needs_background": "light"
          }
        }
      ]
    },
    {
      "cell_type": "code",
      "source": [
        "acf_plot = plot_acf(msi_diff, lags = 73)"
      ],
      "metadata": {
        "colab": {
          "base_uri": "https://localhost:8080/",
          "height": 281
        },
        "id": "1YJktLg7QkjT",
        "outputId": "d6af2afa-41fc-4261-aa9d-95d1d9fdc75b"
      },
      "execution_count": 18,
      "outputs": [
        {
          "output_type": "display_data",
          "data": {
            "text/plain": [
              "<Figure size 432x288 with 1 Axes>"
            ],
            "image/png": "[encoded data removed]"
          },
          "metadata": {
            "needs_background": "light"
          }
        }
      ]
    },
    {
      "cell_type": "code",
      "source": [
        "import statsmodels.api as sm\n"
      ],
      "metadata": {
        "id": "ZG51wBrfQvPY"
      },
      "execution_count": 19,
      "outputs": []
    },
    {
      "cell_type": "code",
      "source": [
        "model1 = sm.tsa.arima.ARIMA(new_series, order=(0,1,1))\n",
        "result1 = model1.fit()"
      ],
      "metadata": {
        "colab": {
          "base_uri": "https://localhost:8080/"
        },
        "id": "TVLH_7K2QzFd",
        "outputId": "ad0dd865-8cb6-47ed-e734-0762e305ea83"
      },
      "execution_count": 20,
      "outputs": [
        {
          "output_type": "stream",
          "name": "stderr",
          "text": [
            "/usr/local/lib/python3.7/dist-packages/statsmodels/tsa/base/tsa_model.py:471: ValueWarning: A date index has been provided, but it has no associated frequency information and so will be ignored when e.g. forecasting.\n",
            "  self._init_dates(dates, freq)\n",
            "/usr/local/lib/python3.7/dist-packages/statsmodels/tsa/base/tsa_model.py:471: ValueWarning: A date index has been provided, but it has no associated frequency information and so will be ignored when e.g. forecasting.\n",
            "  self._init_dates(dates, freq)\n",
            "/usr/local/lib/python3.7/dist-packages/statsmodels/tsa/base/tsa_model.py:471: ValueWarning: A date index has been provided, but it has no associated frequency information and so will be ignored when e.g. forecasting.\n",
            "  self._init_dates(dates, freq)\n"
          ]
        }
      ]
    },
    {
      "cell_type": "code",
      "source": [
        "result1.summary()"
      ],
      "metadata": {
        "colab": {
          "base_uri": "https://localhost:8080/",
          "height": 409
        },
        "id": "4bQK3NL8Q6A8",
        "outputId": "6b01dfda-a60f-439c-fb65-7027e8e7accd"
      },
      "execution_count": 21,
      "outputs": [
        {
          "output_type": "execute_result",
          "data": {
            "text/plain": [
              "<class 'statsmodels.iolib.summary.Summary'>\n",
              "\"\"\"\n",
              "                               SARIMAX Results                                \n",
              "==============================================================================\n",
              "Dep. Variable:              price_msi   No. Observations:                  150\n",
              "Model:                 ARIMA(0, 1, 1)   Log Likelihood               -1359.828\n",
              "Date:                Thu, 12 May 2022   AIC                           2723.656\n",
              "Time:                        08:19:53   BIC                           2729.664\n",
              "Sample:                             0   HQIC                          2726.097\n",
              "                                - 150                                         \n",
              "Covariance Type:                  opg                                         \n",
              "==============================================================================\n",
              "                 coef    std err          z      P>|z|      [0.025      0.975]\n",
              "------------------------------------------------------------------------------\n",
              "ma.L1         -0.8093      0.040    -19.990      0.000      -0.889      -0.730\n",
              "sigma2       4.93e+06   4.25e+05     11.589      0.000     4.1e+06    5.76e+06\n",
              "===================================================================================\n",
              "Ljung-Box (L1) (Q):                   0.56   Jarque-Bera (JB):                20.38\n",
              "Prob(Q):                              0.45   Prob(JB):                         0.00\n",
              "Heteroskedasticity (H):               8.61   Skew:                             0.61\n",
              "Prob(H) (two-sided):                  0.00   Kurtosis:                         4.34\n",
              "===================================================================================\n",
              "\n",
              "Warnings:\n",
              "[1] Covariance matrix calculated using the outer product of gradients (complex-step).\n",
              "\"\"\""
            ],
            "text/html": [
              "<table class=\"simpletable\">\n",
              "<caption>SARIMAX Results</caption>\n",
              "<tr>\n",
              "  <th>Dep. Variable:</th>       <td>price_msi</td>    <th>  No. Observations:  </th>    <td>150</td>   \n",
              "</tr>\n",
              "<tr>\n",
              "  <th>Model:</th>            <td>ARIMA(0, 1, 1)</td>  <th>  Log Likelihood     </th> <td>-1359.828</td>\n",
              "</tr>\n",
              "<tr>\n",
              "  <th>Date:</th>            <td>Thu, 12 May 2022</td> <th>  AIC                </th> <td>2723.656</td> \n",
              "</tr>\n",
              "<tr>\n",
              "  <th>Time:</th>                <td>08:19:53</td>     <th>  BIC                </th> <td>2729.664</td> \n",
              "</tr>\n",
              "<tr>\n",
              "  <th>Sample:</th>                  <td>0</td>        <th>  HQIC               </th> <td>2726.097</td> \n",
              "</tr>\n",
              "<tr>\n",
              "  <th></th>                      <td> - 150</td>      <th>                     </th>     <td> </td>    \n",
              "</tr>\n",
              "<tr>\n",
              "  <th>Covariance Type:</th>        <td>opg</td>       <th>                     </th>     <td> </td>    \n",
              "</tr>\n",
              "</table>\n",
              "<table class=\"simpletable\">\n",
              "<tr>\n",
              "     <td></td>       <th>coef</th>     <th>std err</th>      <th>z</th>      <th>P>|z|</th>  <th>[0.025</th>    <th>0.975]</th>  \n",
              "</tr>\n",
              "<tr>\n",
              "  <th>ma.L1</th>  <td>   -0.8093</td> <td>    0.040</td> <td>  -19.990</td> <td> 0.000</td> <td>   -0.889</td> <td>   -0.730</td>\n",
              "</tr>\n",
              "<tr>\n",
              "  <th>sigma2</th> <td>  4.93e+06</td> <td> 4.25e+05</td> <td>   11.589</td> <td> 0.000</td> <td>  4.1e+06</td> <td> 5.76e+06</td>\n",
              "</tr>\n",
              "</table>\n",
              "<table class=\"simpletable\">\n",
              "<tr>\n",
              "  <th>Ljung-Box (L1) (Q):</th>     <td>0.56</td> <th>  Jarque-Bera (JB):  </th> <td>20.38</td>\n",
              "</tr>\n",
              "<tr>\n",
              "  <th>Prob(Q):</th>                <td>0.45</td> <th>  Prob(JB):          </th> <td>0.00</td> \n",
              "</tr>\n",
              "<tr>\n",
              "  <th>Heteroskedasticity (H):</th> <td>8.61</td> <th>  Skew:              </th> <td>0.61</td> \n",
              "</tr>\n",
              "<tr>\n",
              "  <th>Prob(H) (two-sided):</th>    <td>0.00</td> <th>  Kurtosis:          </th> <td>4.34</td> \n",
              "</tr>\n",
              "</table><br/><br/>Warnings:<br/>[1] Covariance matrix calculated using the outer product of gradients (complex-step)."
            ]
          },
          "metadata": {},
          "execution_count": 21
        }
      ]
    },
    {
      "cell_type": "code",
      "source": [
        "forecast_1=result1.predict(start=119,end=149,dynamic=True)\n"
      ],
      "metadata": {
        "id": "pYJcK7zGQ8No"
      },
      "execution_count": 22,
      "outputs": []
    },
    {
      "cell_type": "code",
      "source": [
        "msi_diff.index=range(0,149)"
      ],
      "metadata": {
        "id": "3iQwbi5OREBq"
      },
      "execution_count": 23,
      "outputs": []
    },
    {
      "cell_type": "code",
      "source": [
        "plt.plot(new_series)\n",
        "plt.plot(forecast_1)\n",
        "plt.show()"
      ],
      "metadata": {
        "colab": {
          "base_uri": "https://localhost:8080/",
          "height": 265
        },
        "id": "57pWsdpYRG1O",
        "outputId": "d7d67cbd-45e8-4748-e299-2dfb49309d92"
      },
      "execution_count": 24,
      "outputs": [
        {
          "output_type": "display_data",
          "data": {
            "text/plain": [
              "<Figure size 432x288 with 1 Axes>"
            ],
            "image/png": "[encoded data removed]"
          },
          "metadata": {
            "needs_background": "light"
          }
        }
      ]
    },
    {
      "cell_type": "code",
      "source": [
        "model2=sm.tsa.statespace.SARIMAX(new_series,order=(1, 1, 2),seasonal_order=(0,1,1,31))\n",
        "results2=model2.fit()"
      ],
      "metadata": {
        "colab": {
          "base_uri": "https://localhost:8080/"
        },
        "id": "C7_KlDWmRQ7A",
        "outputId": "bc09a666-7208-45f8-f790-39054ad38f43"
      },
      "execution_count": 25,
      "outputs": [
        {
          "output_type": "stream",
          "name": "stderr",
          "text": [
            "/usr/local/lib/python3.7/dist-packages/statsmodels/tsa/base/tsa_model.py:471: ValueWarning: A date index has been provided, but it has no associated frequency information and so will be ignored when e.g. forecasting.\n",
            "  self._init_dates(dates, freq)\n",
            "/usr/local/lib/python3.7/dist-packages/statsmodels/tsa/base/tsa_model.py:471: ValueWarning: A date index has been provided, but it has no associated frequency information and so will be ignored when e.g. forecasting.\n",
            "  self._init_dates(dates, freq)\n",
            "/usr/local/lib/python3.7/dist-packages/statsmodels/tsa/statespace/sarimax.py:1009: UserWarning: Non-invertible starting seasonal moving average Using zeros as starting parameters.\n",
            "  warn('Non-invertible starting seasonal moving average'\n",
            "/usr/local/lib/python3.7/dist-packages/statsmodels/base/model.py:606: ConvergenceWarning: Maximum Likelihood optimization failed to converge. Check mle_retvals\n",
            "  ConvergenceWarning)\n"
          ]
        }
      ]
    },
    {
      "cell_type": "code",
      "source": [
        "results2.summary()"
      ],
      "metadata": {
        "colab": {
          "base_uri": "https://localhost:8080/",
          "height": 490
        },
        "id": "jMZUEnmtRZ6K",
        "outputId": "1d560822-73dc-4e58-dc51-e4ccbd03c00f"
      },
      "execution_count": 26,
      "outputs": [
        {
          "output_type": "execute_result",
          "data": {
            "text/plain": [
              "<class 'statsmodels.iolib.summary.Summary'>\n",
              "\"\"\"\n",
              "                                      SARIMAX Results                                       \n",
              "============================================================================================\n",
              "Dep. Variable:                            price_msi   No. Observations:                  150\n",
              "Model:             SARIMAX(1, 1, 2)x(0, 1, [1], 31)   Log Likelihood               -1098.363\n",
              "Date:                              Thu, 12 May 2022   AIC                           2206.726\n",
              "Time:                                      08:20:00   BIC                           2220.580\n",
              "Sample:                                           0   HQIC                          2212.351\n",
              "                                              - 150                                         \n",
              "Covariance Type:                                opg                                         \n",
              "==============================================================================\n",
              "                 coef    std err          z      P>|z|      [0.025      0.975]\n",
              "------------------------------------------------------------------------------\n",
              "ar.L1          0.8916      0.143      6.239      0.000       0.612       1.172\n",
              "ma.L1         -1.8061      0.112    -16.159      0.000      -2.025      -1.587\n",
              "ma.L2          0.8311      0.092      9.028      0.000       0.651       1.012\n",
              "ma.S.L31      -0.9936      0.115     -8.674      0.000      -1.218      -0.769\n",
              "sigma2       5.34e+06   2.16e-08   2.48e+14      0.000    5.34e+06    5.34e+06\n",
              "===================================================================================\n",
              "Ljung-Box (L1) (Q):                   0.03   Jarque-Bera (JB):                 6.59\n",
              "Prob(Q):                              0.86   Prob(JB):                         0.04\n",
              "Heteroskedasticity (H):               7.39   Skew:                             0.34\n",
              "Prob(H) (two-sided):                  0.00   Kurtosis:                         3.93\n",
              "===================================================================================\n",
              "\n",
              "Warnings:\n",
              "[1] Covariance matrix calculated using the outer product of gradients (complex-step).\n",
              "[2] Covariance matrix is singular or near-singular, with condition number 5.37e+29. Standard errors may be unstable.\n",
              "\"\"\""
            ],
            "text/html": [
              "<table class=\"simpletable\">\n",
              "<caption>SARIMAX Results</caption>\n",
              "<tr>\n",
              "  <th>Dep. Variable:</th>               <td>price_msi</td>            <th>  No. Observations:  </th>    <td>150</td>   \n",
              "</tr>\n",
              "<tr>\n",
              "  <th>Model:</th>           <td>SARIMAX(1, 1, 2)x(0, 1, [1], 31)</td> <th>  Log Likelihood     </th> <td>-1098.363</td>\n",
              "</tr>\n",
              "<tr>\n",
              "  <th>Date:</th>                    <td>Thu, 12 May 2022</td>         <th>  AIC                </th> <td>2206.726</td> \n",
              "</tr>\n",
              "<tr>\n",
              "  <th>Time:</th>                        <td>08:20:00</td>             <th>  BIC                </th> <td>2220.580</td> \n",
              "</tr>\n",
              "<tr>\n",
              "  <th>Sample:</th>                          <td>0</td>                <th>  HQIC               </th> <td>2212.351</td> \n",
              "</tr>\n",
              "<tr>\n",
              "  <th></th>                              <td> - 150</td>              <th>                     </th>     <td> </td>    \n",
              "</tr>\n",
              "<tr>\n",
              "  <th>Covariance Type:</th>                <td>opg</td>               <th>                     </th>     <td> </td>    \n",
              "</tr>\n",
              "</table>\n",
              "<table class=\"simpletable\">\n",
              "<tr>\n",
              "      <td></td>        <th>coef</th>     <th>std err</th>      <th>z</th>      <th>P>|z|</th>  <th>[0.025</th>    <th>0.975]</th>  \n",
              "</tr>\n",
              "<tr>\n",
              "  <th>ar.L1</th>    <td>    0.8916</td> <td>    0.143</td> <td>    6.239</td> <td> 0.000</td> <td>    0.612</td> <td>    1.172</td>\n",
              "</tr>\n",
              "<tr>\n",
              "  <th>ma.L1</th>    <td>   -1.8061</td> <td>    0.112</td> <td>  -16.159</td> <td> 0.000</td> <td>   -2.025</td> <td>   -1.587</td>\n",
              "</tr>\n",
              "<tr>\n",
              "  <th>ma.L2</th>    <td>    0.8311</td> <td>    0.092</td> <td>    9.028</td> <td> 0.000</td> <td>    0.651</td> <td>    1.012</td>\n",
              "</tr>\n",
              "<tr>\n",
              "  <th>ma.S.L31</th> <td>   -0.9936</td> <td>    0.115</td> <td>   -8.674</td> <td> 0.000</td> <td>   -1.218</td> <td>   -0.769</td>\n",
              "</tr>\n",
              "<tr>\n",
              "  <th>sigma2</th>   <td>  5.34e+06</td> <td> 2.16e-08</td> <td> 2.48e+14</td> <td> 0.000</td> <td> 5.34e+06</td> <td> 5.34e+06</td>\n",
              "</tr>\n",
              "</table>\n",
              "<table class=\"simpletable\">\n",
              "<tr>\n",
              "  <th>Ljung-Box (L1) (Q):</th>     <td>0.03</td> <th>  Jarque-Bera (JB):  </th> <td>6.59</td>\n",
              "</tr>\n",
              "<tr>\n",
              "  <th>Prob(Q):</th>                <td>0.86</td> <th>  Prob(JB):          </th> <td>0.04</td>\n",
              "</tr>\n",
              "<tr>\n",
              "  <th>Heteroskedasticity (H):</th> <td>7.39</td> <th>  Skew:              </th> <td>0.34</td>\n",
              "</tr>\n",
              "<tr>\n",
              "  <th>Prob(H) (two-sided):</th>    <td>0.00</td> <th>  Kurtosis:          </th> <td>3.93</td>\n",
              "</tr>\n",
              "</table><br/><br/>Warnings:<br/>[1] Covariance matrix calculated using the outer product of gradients (complex-step).<br/>[2] Covariance matrix is singular or near-singular, with condition number 5.37e+29. Standard errors may be unstable."
            ]
          },
          "metadata": {},
          "execution_count": 26
        }
      ]
    },
    {
      "cell_type": "code",
      "source": [
        "forecast_2=results2.predict(start=119,end=148,dynamic=True)\n"
      ],
      "metadata": {
        "id": "7Ls-d7mkRe6C"
      },
      "execution_count": 46,
      "outputs": []
    },
    {
      "cell_type": "code",
      "source": [
        "plt.plot(new_series)\n",
        "plt.plot(forecast_2)\n",
        "plt.show()"
      ],
      "metadata": {
        "colab": {
          "base_uri": "https://localhost:8080/",
          "height": 265
        },
        "id": "pwcC0P8CRkCj",
        "outputId": "ebaae4ec-2ee5-4ca8-80c6-b9facee4e224"
      },
      "execution_count": 47,
      "outputs": [
        {
          "output_type": "display_data",
          "data": {
            "text/plain": [
              "<Figure size 432x288 with 1 Axes>"
            ],
            "image/png": "[encoded data removed]"
          },
          "metadata": {
            "needs_background": "light"
          }
        }
      ]
    },
    {
      "cell_type": "code",
      "source": [
        "y=new_series.price_msi[119:149]"
      ],
      "metadata": {
        "id": "TUTXExiGVBlI"
      },
      "execution_count": 48,
      "outputs": []
    },
    {
      "cell_type": "code",
      "source": [
        "y"
      ],
      "metadata": {
        "colab": {
          "base_uri": "https://localhost:8080/"
        },
        "id": "atvVNRWhVFFT",
        "outputId": "c90deb67-d266-4186-bfe1-fa37421f8410"
      },
      "execution_count": 49,
      "outputs": [
        {
          "output_type": "execute_result",
          "data": {
            "text/plain": [
              "event_time\n",
              "2021-01-29    10123.15\n",
              "2021-01-30    13429.35\n",
              "2021-01-31    11181.42\n",
              "2021-02-01     6909.67\n",
              "2021-02-02    12542.34\n",
              "2021-02-03     6511.18\n",
              "2021-02-04     9530.74\n",
              "2021-02-05     4488.74\n",
              "2021-02-06     5719.49\n",
              "2021-02-07    13430.43\n",
              "2021-02-08     9438.21\n",
              "2021-02-09    11484.64\n",
              "2021-02-10    15216.53\n",
              "2021-02-11    10559.64\n",
              "2021-02-12     8056.53\n",
              "2021-02-13    10279.43\n",
              "2021-02-14     7153.79\n",
              "2021-02-15     9250.26\n",
              "2021-02-16    10266.37\n",
              "2021-02-17     6888.74\n",
              "2021-02-18     8388.54\n",
              "2021-02-19     8743.90\n",
              "2021-02-20     7335.35\n",
              "2021-02-21    11603.52\n",
              "2021-02-22     7642.78\n",
              "2021-02-23    16055.80\n",
              "2021-02-24     7713.62\n",
              "2021-02-25    11178.90\n",
              "2021-02-26     8341.42\n",
              "2021-02-27     5575.27\n",
              "Name: price_msi, dtype: float64"
            ]
          },
          "metadata": {},
          "execution_count": 49
        }
      ]
    },
    {
      "cell_type": "code",
      "source": [
        "residuals=forecast_2-y"
      ],
      "metadata": {
        "id": "NmKZxgpTRo5T"
      },
      "execution_count": 50,
      "outputs": []
    },
    {
      "cell_type": "code",
      "source": [
        "residuals"
      ],
      "metadata": {
        "colab": {
          "base_uri": "https://localhost:8080/"
        },
        "id": "q1uHlYZKWsBR",
        "outputId": "e0e7284f-97b2-4e10-bdbf-433de9068976"
      },
      "execution_count": 51,
      "outputs": [
        {
          "output_type": "execute_result",
          "data": {
            "text/plain": [
              "event_time\n",
              "2021-01-29    -607.496531\n",
              "2021-01-30   -4799.209934\n",
              "2021-01-31   -2781.164716\n",
              "2021-02-01     974.714140\n",
              "2021-02-02   -4360.061775\n",
              "2021-02-03    2643.245417\n",
              "2021-02-04    -487.969505\n",
              "2021-02-05    5951.740489\n",
              "2021-02-06    4382.046011\n",
              "2021-02-07   -4480.066970\n",
              "2021-02-08     166.938749\n",
              "2021-02-09   -1754.826550\n",
              "2021-02-10   -5383.472111\n",
              "2021-02-11    -729.396139\n",
              "2021-02-12    2888.411023\n",
              "2021-02-13    -849.757549\n",
              "2021-02-14    4048.717177\n",
              "2021-02-15    1161.540848\n",
              "2021-02-16     830.641602\n",
              "2021-02-17    4078.313466\n",
              "2021-02-18    3531.315222\n",
              "2021-02-19    3010.697039\n",
              "2021-02-20    3582.807491\n",
              "2021-02-21     147.259727\n",
              "2021-02-22    4528.508171\n",
              "2021-02-23   -5970.654153\n",
              "2021-02-24    3772.460515\n",
              "2021-02-25   -1089.980697\n",
              "2021-02-26    1097.343757\n",
              "2021-02-27    4888.220465\n",
              "dtype: float64"
            ]
          },
          "metadata": {},
          "execution_count": 51
        }
      ]
    },
    {
      "cell_type": "code",
      "source": [
        "residuals.plot(kind='kde')\n",
        "plt.show()"
      ],
      "metadata": {
        "colab": {
          "base_uri": "https://localhost:8080/",
          "height": 265
        },
        "id": "lZ7jwbx2R0ve",
        "outputId": "e922169c-6a17-4f91-e72e-10c2d6a22e12"
      },
      "execution_count": 52,
      "outputs": [
        {
          "output_type": "display_data",
          "data": {
            "text/plain": [
              "<Figure size 432x288 with 1 Axes>"
            ],
            "image/png": "[encoded data removed]"
          },
          "metadata": {
            "needs_background": "light"
          }
        }
      ]
    },
    {
      "cell_type": "code",
      "source": [
        "from statsmodels.graphics.gofplots import qqplot\n",
        "qqplot(residuals)"
      ],
      "metadata": {
        "colab": {
          "base_uri": "https://localhost:8080/",
          "height": 541
        },
        "id": "ekdA62JmR496",
        "outputId": "5f369a76-f51b-4e26-8ff5-75b62416d66e"
      },
      "execution_count": 53,
      "outputs": [
        {
          "output_type": "execute_result",
          "data": {
            "text/plain": [
              "<Figure size 432x288 with 1 Axes>"
            ],
            "image/png": "[encoded data removed]"
          },
          "metadata": {},
          "execution_count": 53
        },
        {
          "output_type": "display_data",
          "data": {
            "text/plain": [
              "<Figure size 432x288 with 1 Axes>"
            ],
            "image/png": "[encoded data removed]"
          },
          "metadata": {
            "needs_background": "light"
          }
        }
      ]
    },
    {
      "cell_type": "code",
      "source": [
        "RSS=sum(residuals**2)"
      ],
      "metadata": {
        "id": "kSuVtnhuR7em"
      },
      "execution_count": 54,
      "outputs": []
    },
    {
      "cell_type": "code",
      "source": [
        "RSS"
      ],
      "metadata": {
        "colab": {
          "base_uri": "https://localhost:8080/"
        },
        "id": "xKE6bSBlSRab",
        "outputId": "279335fd-0b79-43f0-d944-5365d13c8501"
      },
      "execution_count": 55,
      "outputs": [
        {
          "output_type": "execute_result",
          "data": {
            "text/plain": [
              "340835084.9429775"
            ]
          },
          "metadata": {},
          "execution_count": 55
        }
      ]
    },
    {
      "cell_type": "code",
      "source": [
        "TSS=new_series[\"price_msi\"]-new_series[\"price_msi\"].mean()"
      ],
      "metadata": {
        "id": "4TpPKFFdR-R6"
      },
      "execution_count": 56,
      "outputs": []
    },
    {
      "cell_type": "code",
      "source": [
        "TSS"
      ],
      "metadata": {
        "colab": {
          "base_uri": "https://localhost:8080/"
        },
        "id": "tIUCJC2sSR22",
        "outputId": "84f9bc55-1258-4248-c8d1-56f62fb388c8"
      },
      "execution_count": 57,
      "outputs": [
        {
          "output_type": "execute_result",
          "data": {
            "text/plain": [
              "event_time\n",
              "2020-09-25   -3840.438933\n",
              "2020-09-27   -3766.388933\n",
              "2020-09-28   -3859.828933\n",
              "2020-09-29   -4102.658933\n",
              "2020-09-30   -3818.428933\n",
              "                 ...     \n",
              "2021-02-24    3423.671067\n",
              "2021-02-25    6888.951067\n",
              "2021-02-26    4051.471067\n",
              "2021-02-27    1285.321067\n",
              "2021-02-28    7776.321067\n",
              "Name: price_msi, Length: 150, dtype: float64"
            ]
          },
          "metadata": {},
          "execution_count": 57
        }
      ]
    },
    {
      "cell_type": "code",
      "source": [
        "TSS_Squared=sum(TSS**2)"
      ],
      "metadata": {
        "id": "fu4DehtZR-Ne"
      },
      "execution_count": 58,
      "outputs": []
    },
    {
      "cell_type": "code",
      "source": [
        "r_squared= 1-(RSS/TSS_Squared)"
      ],
      "metadata": {
        "id": "3LH1hmIhSHYS"
      },
      "execution_count": 59,
      "outputs": []
    },
    {
      "cell_type": "code",
      "source": [
        "r_squared"
      ],
      "metadata": {
        "colab": {
          "base_uri": "https://localhost:8080/"
        },
        "id": "ttDtxyksSI_K",
        "outputId": "92d6e81b-df74-41cd-a869-813a31d634c6"
      },
      "execution_count": 60,
      "outputs": [
        {
          "output_type": "execute_result",
          "data": {
            "text/plain": [
              "0.8610094564487631"
            ]
          },
          "metadata": {},
          "execution_count": 60
        }
      ]
    },
    {
      "cell_type": "code",
      "source": [
        "from scipy.stats import shapiro"
      ],
      "metadata": {
        "id": "M_5Nbje3UXB3"
      },
      "execution_count": 61,
      "outputs": []
    },
    {
      "cell_type": "code",
      "source": [
        "shapiro(residuals)"
      ],
      "metadata": {
        "colab": {
          "base_uri": "https://localhost:8080/"
        },
        "id": "4KnFF_J_UW3L",
        "outputId": "0fc59344-45cb-4625-de5e-fc89315c5a84"
      },
      "execution_count": 62,
      "outputs": [
        {
          "output_type": "execute_result",
          "data": {
            "text/plain": [
              "(0.9449012279510498, 0.12329534441232681)"
            ]
          },
          "metadata": {},
          "execution_count": 62
        }
      ]
    }
  ]
}