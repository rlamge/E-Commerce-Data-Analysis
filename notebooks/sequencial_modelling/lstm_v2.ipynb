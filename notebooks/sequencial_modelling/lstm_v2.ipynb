{
 "cells": [
  {
   "cell_type": "code",
   "execution_count": 1,
   "id": "5b6374e4",
   "metadata": {},
   "outputs": [],
   "source": [
    "import pandas as pd\n",
    "import numpy as np\n",
    "from numpy import save\n",
    "from numpy import load\n",
    "from matplotlib import pyplot\n",
    "import tensorflow as tf\n",
    "from keras.layers import BatchNormalization\n",
    "from keras.models import Sequential\n",
    "from keras.layers import Dense\n",
    "from keras.layers import LSTM\n",
    "from keras.layers import Flatten\n",
    "from sklearn import preprocessing\n",
    "from keras.layers import Bidirectional"
   ]
  },
  {
   "cell_type": "code",
   "execution_count": 2,
   "id": "25076650",
   "metadata": {},
   "outputs": [],
   "source": [
    "path=r\"C:\\Users\\Shibbs\\Desktop\\Praxis\\CAPP\\cwd\\datasets\\final\\df.csv\""
   ]
  },
  {
   "cell_type": "code",
   "execution_count": 12,
   "id": "c5a67552",
   "metadata": {},
   "outputs": [],
   "source": [
    "def get_dataset(path):\n",
    "    \n",
    "    df = pd.read_csv(path, dtype={ 'event_type':object, 'product_id':int, 'category_id':object,\n",
    "                                   'category_code':object, 'brand':str, 'price':float, 'user_id':object, \n",
    "                                   'user_session':object, 'pid':int})\n",
    "    le = preprocessing.LabelEncoder()\n",
    "    df[\"pid\"] = le.fit_transform(df[\"product_id\"])\n",
    "    df = df.groupby(['user_id', 'event_time'], as_index=False).first()\n",
    "    df = df.drop_duplicates(subset=['user_id', 'event_time'])\n",
    "    df = df[['user_id','pid','event_type']]\n",
    "    \n",
    "    return df"
   ]
  },
  {
   "cell_type": "code",
   "execution_count": 13,
   "id": "d21ca8ff",
   "metadata": {},
   "outputs": [],
   "source": [
    "def prepare_dataset(df):\n",
    "    \n",
    "    # add sequence index for every uniuqe user id\n",
    "    for i in df['user_id'].unique():\n",
    "        seq = []\n",
    "        for j in range(df[df.user_id == i].shape[0]):\n",
    "            seq.append(f\"{j}\")   \n",
    "        df.loc[df['user_id']==i,'seq_index'] = [k for k in seq]\n",
    "    \n",
    "    # Only keep sequence of length 20\n",
    "    df.seq_index = df.seq_index.astype(int)  \n",
    "    df = df[df['seq_index']<20].reset_index()\n",
    "    \n",
    "    # pivot, encode and post padding both event_type and product_id sequences\n",
    "    df2 = pd.pivot_table(data=df,index='user_id',columns=['seq_index'],values=['event_type'],aggfunc='sum')\n",
    "    df2 = df2.fillna(0)\n",
    "    df2 = df2.replace(['view'],1)\n",
    "    df2 = df2.replace(['cart'],2)\n",
    "    df2 = df2.replace(['purchase'],3)\n",
    "    df2 = df2[df2['event_type',  1 ]!= 0]\n",
    "    \n",
    "    df3 = pd.pivot_table(data=df,index='user_id',columns=['seq_index'],values=['pid'],aggfunc='sum')\n",
    "    df3 = df3.fillna(0)\n",
    "    df3 = df3[df3['pid',  1 ]!= 0]\n",
    "    \n",
    "    # convert post padding to pre padding because it makes more sense\n",
    "    event_type_list = []\n",
    "    for i in range(len(df2.index)):\n",
    "        event_type = df2.iloc[i].tolist()\n",
    "        event_type.sort(reverse = True,key=lambda x: x==0)\n",
    "        event_type_list.append(event_type)\n",
    "        event_type_array = np.array(event_type_list)\n",
    "        event_type_array = event_type_array.astype(int)\n",
    "        event_type_array = event_type_array.flatten()\n",
    "        \n",
    "        \n",
    "    product_id_list = []\n",
    "    for i in range(len(df3.index)):\n",
    "        product_id = df3.iloc[i].tolist()\n",
    "        product_id.sort(reverse = True,key=lambda x: x==0)\n",
    "        product_id_list.append(product_id)\n",
    "        product_id_array = np.array(product_id_list)\n",
    "        product_id_array = product_id_array.flatten()\n",
    "        \n",
    "    \n",
    "    # delete extra sequences to match dimensions\n",
    "    event_type_=np.delete(event_type_array,[range(217580-1580,217580)])\n",
    "    product_id_=np.delete(product_id_array,[range(217580-1580,217580)])\n",
    "    \n",
    "    # combine both sequences into a 2d numpy array\n",
    "    X = np.column_stack((product_id_,event_type_))\n",
    "    X = X.reshape(10800, 20, 2)\n",
    "    X = X.astype(int)\n",
    "        \n",
    "    return X\n",
    "    "
   ]
  },
  {
   "cell_type": "code",
   "execution_count": 14,
   "id": "fff9824d",
   "metadata": {},
   "outputs": [],
   "source": [
    "df = get_dataset(path)"
   ]
  },
  {
   "cell_type": "code",
   "execution_count": 15,
   "id": "8e8f69b5",
   "metadata": {},
   "outputs": [
    {
     "data": {
      "text/html": [
       "<div>\n",
       "<style scoped>\n",
       "    .dataframe tbody tr th:only-of-type {\n",
       "        vertical-align: middle;\n",
       "    }\n",
       "\n",
       "    .dataframe tbody tr th {\n",
       "        vertical-align: top;\n",
       "    }\n",
       "\n",
       "    .dataframe thead th {\n",
       "        text-align: right;\n",
       "    }\n",
       "</style>\n",
       "<table border=\"1\" class=\"dataframe\">\n",
       "  <thead>\n",
       "    <tr style=\"text-align: right;\">\n",
       "      <th></th>\n",
       "      <th>user_id</th>\n",
       "      <th>pid</th>\n",
       "      <th>event_type</th>\n",
       "    </tr>\n",
       "  </thead>\n",
       "  <tbody>\n",
       "    <tr>\n",
       "      <th>0</th>\n",
       "      <td>1515915625353230000</td>\n",
       "      <td>48545</td>\n",
       "      <td>view</td>\n",
       "    </tr>\n",
       "    <tr>\n",
       "      <th>1</th>\n",
       "      <td>1515915625353230000</td>\n",
       "      <td>48545</td>\n",
       "      <td>view</td>\n",
       "    </tr>\n",
       "    <tr>\n",
       "      <th>2</th>\n",
       "      <td>1515915625353230000</td>\n",
       "      <td>48545</td>\n",
       "      <td>view</td>\n",
       "    </tr>\n",
       "    <tr>\n",
       "      <th>3</th>\n",
       "      <td>1515915625353230000</td>\n",
       "      <td>50637</td>\n",
       "      <td>view</td>\n",
       "    </tr>\n",
       "    <tr>\n",
       "      <th>4</th>\n",
       "      <td>1515915625353230000</td>\n",
       "      <td>42316</td>\n",
       "      <td>view</td>\n",
       "    </tr>\n",
       "    <tr>\n",
       "      <th>...</th>\n",
       "      <td>...</td>\n",
       "      <td>...</td>\n",
       "      <td>...</td>\n",
       "    </tr>\n",
       "    <tr>\n",
       "      <th>865818</th>\n",
       "      <td>1515915625611020000</td>\n",
       "      <td>47813</td>\n",
       "      <td>view</td>\n",
       "    </tr>\n",
       "    <tr>\n",
       "      <th>865819</th>\n",
       "      <td>1515915625611020000</td>\n",
       "      <td>25464</td>\n",
       "      <td>view</td>\n",
       "    </tr>\n",
       "    <tr>\n",
       "      <th>865820</th>\n",
       "      <td>1515915625611020000</td>\n",
       "      <td>38146</td>\n",
       "      <td>view</td>\n",
       "    </tr>\n",
       "    <tr>\n",
       "      <th>865821</th>\n",
       "      <td>1515915625611020000</td>\n",
       "      <td>52972</td>\n",
       "      <td>view</td>\n",
       "    </tr>\n",
       "    <tr>\n",
       "      <th>865822</th>\n",
       "      <td>1515915625611020000</td>\n",
       "      <td>23265</td>\n",
       "      <td>view</td>\n",
       "    </tr>\n",
       "  </tbody>\n",
       "</table>\n",
       "<p>865823 rows × 3 columns</p>\n",
       "</div>"
      ],
      "text/plain": [
       "                    user_id    pid event_type\n",
       "0       1515915625353230000  48545       view\n",
       "1       1515915625353230000  48545       view\n",
       "2       1515915625353230000  48545       view\n",
       "3       1515915625353230000  50637       view\n",
       "4       1515915625353230000  42316       view\n",
       "...                     ...    ...        ...\n",
       "865818  1515915625611020000  47813       view\n",
       "865819  1515915625611020000  25464       view\n",
       "865820  1515915625611020000  38146       view\n",
       "865821  1515915625611020000  52972       view\n",
       "865822  1515915625611020000  23265       view\n",
       "\n",
       "[865823 rows x 3 columns]"
      ]
     },
     "execution_count": 15,
     "metadata": {},
     "output_type": "execute_result"
    }
   ],
   "source": [
    "df"
   ]
  },
  {
   "cell_type": "code",
   "execution_count": null,
   "id": "12527024",
   "metadata": {},
   "outputs": [],
   "source": [
    "et, pid = prepare_dataset(df) # approx runtime 30 mins, instead just load the numpy array"
   ]
  },
  {
   "cell_type": "code",
   "execution_count": null,
   "id": "bc3ff01e",
   "metadata": {},
   "outputs": [],
   "source": [
    "pid = pid.astype(int)"
   ]
  },
  {
   "cell_type": "code",
   "execution_count": null,
   "id": "344fbcfb",
   "metadata": {},
   "outputs": [],
   "source": [
    "et.shape[0]/20"
   ]
  },
  {
   "cell_type": "code",
   "execution_count": null,
   "id": "da9d011c",
   "metadata": {},
   "outputs": [],
   "source": [
    "a,b=np.unique(pid,return_counts=True)"
   ]
  },
  {
   "cell_type": "code",
   "execution_count": null,
   "id": "cd56e59c",
   "metadata": {},
   "outputs": [],
   "source": [
    "len(b)"
   ]
  },
  {
   "cell_type": "code",
   "execution_count": null,
   "id": "5486eb8a",
   "metadata": {},
   "outputs": [],
   "source": [
    "pid"
   ]
  },
  {
   "cell_type": "code",
   "execution_count": null,
   "id": "dc79429a",
   "metadata": {},
   "outputs": [],
   "source": [
    "X = np.column_stack((pid,et))"
   ]
  },
  {
   "cell_type": "code",
   "execution_count": null,
   "id": "a431f39a",
   "metadata": {},
   "outputs": [],
   "source": [
    "X = X.reshape(10800, 20, 2)"
   ]
  },
  {
   "cell_type": "code",
   "execution_count": null,
   "id": "6535d6fa",
   "metadata": {},
   "outputs": [],
   "source": [
    "X"
   ]
  },
  {
   "cell_type": "code",
   "execution_count": null,
   "id": "56ebed4f",
   "metadata": {},
   "outputs": [],
   "source": [
    "#save('x.npy', x)"
   ]
  },
  {
   "cell_type": "code",
   "execution_count": 3,
   "id": "af80b698",
   "metadata": {},
   "outputs": [],
   "source": [
    "x = load('x.npy')"
   ]
  },
  {
   "cell_type": "code",
   "execution_count": 4,
   "id": "59498778",
   "metadata": {},
   "outputs": [],
   "source": [
    "x = x.astype(int)"
   ]
  },
  {
   "cell_type": "code",
   "execution_count": 10,
   "id": "2d8280f8",
   "metadata": {},
   "outputs": [
    {
     "data": {
      "text/plain": [
       "array([[[4005145,       1],\n",
       "        [4005145,       1],\n",
       "        [4005145,       1],\n",
       "        ...,\n",
       "        [  73593,       1],\n",
       "        [4012993,       1],\n",
       "        [4101974,       1]],\n",
       "\n",
       "       [[      0,       0],\n",
       "        [      0,       0],\n",
       "        [      0,       0],\n",
       "        ...,\n",
       "        [1547839,       1],\n",
       "        [3620813,       1],\n",
       "        [3721192,       1]],\n",
       "\n",
       "       [[1747855,       1],\n",
       "        [1747856,       1],\n",
       "        [1747856,       1],\n",
       "        ...,\n",
       "        [ 886022,       1],\n",
       "        [ 886022,       1],\n",
       "        [1023383,       1]],\n",
       "\n",
       "       ...,\n",
       "\n",
       "       [[1821813,       1],\n",
       "        [1821813,       2],\n",
       "        [1660969,       1],\n",
       "        ...,\n",
       "        [4013582,       1],\n",
       "        [ 453833,       1],\n",
       "        [3759430,       1]],\n",
       "\n",
       "       [[ 470796,       1],\n",
       "        [1306533,       1],\n",
       "        [2813900,       1],\n",
       "        ...,\n",
       "        [1452896,       1],\n",
       "        [1453969,       1],\n",
       "        [1682392,       1]],\n",
       "\n",
       "       [[ 475904,       1],\n",
       "        [3829355,       1],\n",
       "        [3829355,       1],\n",
       "        ...,\n",
       "        [1271563,       1],\n",
       "        [ 136700,       1],\n",
       "        [ 523117,       1]]])"
      ]
     },
     "execution_count": 10,
     "metadata": {},
     "output_type": "execute_result"
    }
   ],
   "source": [
    "x"
   ]
  },
  {
   "cell_type": "code",
   "execution_count": null,
   "id": "f68c84ac",
   "metadata": {},
   "outputs": [],
   "source": [
    "x=x.tolist()"
   ]
  },
  {
   "cell_type": "code",
   "execution_count": 19,
   "id": "d12631db",
   "metadata": {},
   "outputs": [
    {
     "data": {
      "text/plain": [
       "20"
      ]
     },
     "execution_count": 19,
     "metadata": {},
     "output_type": "execute_result"
    }
   ],
   "source": [
    "len(x[1])"
   ]
  },
  {
   "cell_type": "code",
   "execution_count": 5,
   "id": "3ac331ea",
   "metadata": {},
   "outputs": [],
   "source": [
    "#split into train test\n",
    "train_size = 10000\n",
    "train = x[:train_size, :, :]\n",
    "test = x[train_size:, :, :]"
   ]
  },
  {
   "cell_type": "code",
   "execution_count": null,
   "id": "55209a80",
   "metadata": {},
   "outputs": [],
   "source": [
    "train.shape"
   ]
  },
  {
   "cell_type": "code",
   "execution_count": null,
   "id": "ddd4836b",
   "metadata": {},
   "outputs": [],
   "source": [
    "test.shape"
   ]
  },
  {
   "cell_type": "code",
   "execution_count": 6,
   "id": "6940074d",
   "metadata": {},
   "outputs": [],
   "source": [
    "# split into input and outputs\n",
    "train_X, train_y = train[:, :-1], train[:, -1]\n",
    "test_X, test_y = test[:, :-1], test[:, -1]"
   ]
  },
  {
   "cell_type": "markdown",
   "id": "78a814a1",
   "metadata": {},
   "source": [
    "Spliting the sequence of 20 into 19(input sequence) and 1(predicting sequence)"
   ]
  },
  {
   "cell_type": "code",
   "execution_count": 7,
   "id": "16daf4f2",
   "metadata": {},
   "outputs": [
    {
     "data": {
      "text/plain": [
       "((10000, 19, 2), (10000, 2))"
      ]
     },
     "execution_count": 7,
     "metadata": {},
     "output_type": "execute_result"
    }
   ],
   "source": [
    "train_X.shape, train_y.shape"
   ]
  },
  {
   "cell_type": "code",
   "execution_count": 13,
   "id": "9b58bef5",
   "metadata": {},
   "outputs": [
    {
     "data": {
      "text/plain": [
       "2"
      ]
     },
     "execution_count": 13,
     "metadata": {},
     "output_type": "execute_result"
    }
   ],
   "source": [
    "train_X.shape[2]"
   ]
  },
  {
   "cell_type": "code",
   "execution_count": 8,
   "id": "f7f9abf4",
   "metadata": {},
   "outputs": [
    {
     "data": {
      "text/plain": [
       "((800, 19, 2), (800, 2))"
      ]
     },
     "execution_count": 8,
     "metadata": {},
     "output_type": "execute_result"
    }
   ],
   "source": [
    "# split into input and outputs\n",
    "test_X.shape, test_y.shape"
   ]
  },
  {
   "cell_type": "code",
   "execution_count": 19,
   "id": "14f57fd5",
   "metadata": {},
   "outputs": [
    {
     "name": "stdout",
     "output_type": "stream",
     "text": [
      "Epoch 1/5\n"
     ]
    },
    {
     "ename": "ValueError",
     "evalue": "in user code:\n\n    File \"C:\\Users\\Shibbs\\anaconda3\\lib\\site-packages\\keras\\engine\\training.py\", line 1021, in train_function  *\n        return step_function(self, iterator)\n    File \"C:\\Users\\Shibbs\\anaconda3\\lib\\site-packages\\keras\\engine\\training.py\", line 1010, in step_function  **\n        outputs = model.distribute_strategy.run(run_step, args=(data,))\n    File \"C:\\Users\\Shibbs\\anaconda3\\lib\\site-packages\\keras\\engine\\training.py\", line 1000, in run_step  **\n        outputs = model.train_step(data)\n    File \"C:\\Users\\Shibbs\\anaconda3\\lib\\site-packages\\keras\\engine\\training.py\", line 860, in train_step\n        loss = self.compute_loss(x, y, y_pred, sample_weight)\n    File \"C:\\Users\\Shibbs\\anaconda3\\lib\\site-packages\\keras\\engine\\training.py\", line 918, in compute_loss\n        return self.compiled_loss(\n    File \"C:\\Users\\Shibbs\\anaconda3\\lib\\site-packages\\keras\\engine\\compile_utils.py\", line 201, in __call__\n        loss_value = loss_obj(y_t, y_p, sample_weight=sw)\n    File \"C:\\Users\\Shibbs\\anaconda3\\lib\\site-packages\\keras\\losses.py\", line 141, in __call__\n        losses = call_fn(y_true, y_pred)\n    File \"C:\\Users\\Shibbs\\anaconda3\\lib\\site-packages\\keras\\losses.py\", line 245, in call  **\n        return ag_fn(y_true, y_pred, **self._fn_kwargs)\n    File \"C:\\Users\\Shibbs\\anaconda3\\lib\\site-packages\\keras\\losses.py\", line 1862, in sparse_categorical_crossentropy\n        return backend.sparse_categorical_crossentropy(\n    File \"C:\\Users\\Shibbs\\anaconda3\\lib\\site-packages\\keras\\backend.py\", line 5202, in sparse_categorical_crossentropy\n        res = tf.nn.sparse_softmax_cross_entropy_with_logits(\n\n    ValueError: `labels.shape` must equal `logits.shape` except for the last dimension. Received: labels.shape=(2,) and logits.shape=(1, 53456)\n",
     "output_type": "error",
     "traceback": [
      "\u001b[1;31m---------------------------------------------------------------------------\u001b[0m",
      "\u001b[1;31mValueError\u001b[0m                                Traceback (most recent call last)",
      "\u001b[1;32m~\\AppData\\Local\\Temp/ipykernel_12096/1551301131.py\u001b[0m in \u001b[0;36m<module>\u001b[1;34m\u001b[0m\n\u001b[0;32m      8\u001b[0m \u001b[0mmodel\u001b[0m\u001b[1;33m.\u001b[0m\u001b[0mcompile\u001b[0m\u001b[1;33m(\u001b[0m\u001b[0mloss\u001b[0m\u001b[1;33m=\u001b[0m\u001b[1;34m'sparse_categorical_crossentropy'\u001b[0m\u001b[1;33m,\u001b[0m \u001b[0moptimizer\u001b[0m\u001b[1;33m=\u001b[0m\u001b[1;34m'adam'\u001b[0m\u001b[1;33m,\u001b[0m \u001b[0mmetrics\u001b[0m\u001b[1;33m=\u001b[0m\u001b[1;33m[\u001b[0m\u001b[1;34m'accuracy'\u001b[0m\u001b[1;33m]\u001b[0m\u001b[1;33m)\u001b[0m\u001b[1;33m\u001b[0m\u001b[1;33m\u001b[0m\u001b[0m\n\u001b[0;32m      9\u001b[0m \u001b[1;31m# fit network\u001b[0m\u001b[1;33m\u001b[0m\u001b[1;33m\u001b[0m\u001b[0m\n\u001b[1;32m---> 10\u001b[1;33m \u001b[0mhistory\u001b[0m \u001b[1;33m=\u001b[0m \u001b[0mmodel\u001b[0m\u001b[1;33m.\u001b[0m\u001b[0mfit\u001b[0m\u001b[1;33m(\u001b[0m\u001b[0mtrain_X\u001b[0m\u001b[1;33m,\u001b[0m \u001b[0mtrain_y\u001b[0m\u001b[1;33m,\u001b[0m \u001b[0mepochs\u001b[0m\u001b[1;33m=\u001b[0m\u001b[1;36m5\u001b[0m\u001b[1;33m,\u001b[0m \u001b[0mbatch_size\u001b[0m\u001b[1;33m=\u001b[0m\u001b[1;36m1\u001b[0m\u001b[1;33m,\u001b[0m \u001b[0mvalidation_data\u001b[0m\u001b[1;33m=\u001b[0m\u001b[1;33m(\u001b[0m\u001b[0mtest_X\u001b[0m\u001b[1;33m,\u001b[0m \u001b[0mtest_y\u001b[0m\u001b[1;33m)\u001b[0m\u001b[1;33m,\u001b[0m \u001b[0mverbose\u001b[0m\u001b[1;33m=\u001b[0m\u001b[1;36m1\u001b[0m\u001b[1;33m,\u001b[0m \u001b[0mshuffle\u001b[0m\u001b[1;33m=\u001b[0m\u001b[1;32mFalse\u001b[0m\u001b[1;33m)\u001b[0m\u001b[1;33m\u001b[0m\u001b[1;33m\u001b[0m\u001b[0m\n\u001b[0m\u001b[0;32m     11\u001b[0m \u001b[1;31m# plot history\u001b[0m\u001b[1;33m\u001b[0m\u001b[1;33m\u001b[0m\u001b[0m\n\u001b[0;32m     12\u001b[0m \u001b[0mpyplot\u001b[0m\u001b[1;33m.\u001b[0m\u001b[0mplot\u001b[0m\u001b[1;33m(\u001b[0m\u001b[0mhistory\u001b[0m\u001b[1;33m.\u001b[0m\u001b[0mhistory\u001b[0m\u001b[1;33m[\u001b[0m\u001b[1;34m'loss'\u001b[0m\u001b[1;33m]\u001b[0m\u001b[1;33m,\u001b[0m \u001b[0mlabel\u001b[0m\u001b[1;33m=\u001b[0m\u001b[1;34m'train'\u001b[0m\u001b[1;33m)\u001b[0m\u001b[1;33m\u001b[0m\u001b[1;33m\u001b[0m\u001b[0m\n",
      "\u001b[1;32m~\\anaconda3\\lib\\site-packages\\keras\\utils\\traceback_utils.py\u001b[0m in \u001b[0;36merror_handler\u001b[1;34m(*args, **kwargs)\u001b[0m\n\u001b[0;32m     65\u001b[0m     \u001b[1;32mexcept\u001b[0m \u001b[0mException\u001b[0m \u001b[1;32mas\u001b[0m \u001b[0me\u001b[0m\u001b[1;33m:\u001b[0m  \u001b[1;31m# pylint: disable=broad-except\u001b[0m\u001b[1;33m\u001b[0m\u001b[1;33m\u001b[0m\u001b[0m\n\u001b[0;32m     66\u001b[0m       \u001b[0mfiltered_tb\u001b[0m \u001b[1;33m=\u001b[0m \u001b[0m_process_traceback_frames\u001b[0m\u001b[1;33m(\u001b[0m\u001b[0me\u001b[0m\u001b[1;33m.\u001b[0m\u001b[0m__traceback__\u001b[0m\u001b[1;33m)\u001b[0m\u001b[1;33m\u001b[0m\u001b[1;33m\u001b[0m\u001b[0m\n\u001b[1;32m---> 67\u001b[1;33m       \u001b[1;32mraise\u001b[0m \u001b[0me\u001b[0m\u001b[1;33m.\u001b[0m\u001b[0mwith_traceback\u001b[0m\u001b[1;33m(\u001b[0m\u001b[0mfiltered_tb\u001b[0m\u001b[1;33m)\u001b[0m \u001b[1;32mfrom\u001b[0m \u001b[1;32mNone\u001b[0m\u001b[1;33m\u001b[0m\u001b[1;33m\u001b[0m\u001b[0m\n\u001b[0m\u001b[0;32m     68\u001b[0m     \u001b[1;32mfinally\u001b[0m\u001b[1;33m:\u001b[0m\u001b[1;33m\u001b[0m\u001b[1;33m\u001b[0m\u001b[0m\n\u001b[0;32m     69\u001b[0m       \u001b[1;32mdel\u001b[0m \u001b[0mfiltered_tb\u001b[0m\u001b[1;33m\u001b[0m\u001b[1;33m\u001b[0m\u001b[0m\n",
      "\u001b[1;32m~\\anaconda3\\lib\\site-packages\\tensorflow\\python\\framework\\func_graph.py\u001b[0m in \u001b[0;36mautograph_handler\u001b[1;34m(*args, **kwargs)\u001b[0m\n\u001b[0;32m   1145\u001b[0m           \u001b[1;32mexcept\u001b[0m \u001b[0mException\u001b[0m \u001b[1;32mas\u001b[0m \u001b[0me\u001b[0m\u001b[1;33m:\u001b[0m  \u001b[1;31m# pylint:disable=broad-except\u001b[0m\u001b[1;33m\u001b[0m\u001b[1;33m\u001b[0m\u001b[0m\n\u001b[0;32m   1146\u001b[0m             \u001b[1;32mif\u001b[0m \u001b[0mhasattr\u001b[0m\u001b[1;33m(\u001b[0m\u001b[0me\u001b[0m\u001b[1;33m,\u001b[0m \u001b[1;34m\"ag_error_metadata\"\u001b[0m\u001b[1;33m)\u001b[0m\u001b[1;33m:\u001b[0m\u001b[1;33m\u001b[0m\u001b[1;33m\u001b[0m\u001b[0m\n\u001b[1;32m-> 1147\u001b[1;33m               \u001b[1;32mraise\u001b[0m \u001b[0me\u001b[0m\u001b[1;33m.\u001b[0m\u001b[0mag_error_metadata\u001b[0m\u001b[1;33m.\u001b[0m\u001b[0mto_exception\u001b[0m\u001b[1;33m(\u001b[0m\u001b[0me\u001b[0m\u001b[1;33m)\u001b[0m\u001b[1;33m\u001b[0m\u001b[1;33m\u001b[0m\u001b[0m\n\u001b[0m\u001b[0;32m   1148\u001b[0m             \u001b[1;32melse\u001b[0m\u001b[1;33m:\u001b[0m\u001b[1;33m\u001b[0m\u001b[1;33m\u001b[0m\u001b[0m\n\u001b[0;32m   1149\u001b[0m               \u001b[1;32mraise\u001b[0m\u001b[1;33m\u001b[0m\u001b[1;33m\u001b[0m\u001b[0m\n",
      "\u001b[1;31mValueError\u001b[0m: in user code:\n\n    File \"C:\\Users\\Shibbs\\anaconda3\\lib\\site-packages\\keras\\engine\\training.py\", line 1021, in train_function  *\n        return step_function(self, iterator)\n    File \"C:\\Users\\Shibbs\\anaconda3\\lib\\site-packages\\keras\\engine\\training.py\", line 1010, in step_function  **\n        outputs = model.distribute_strategy.run(run_step, args=(data,))\n    File \"C:\\Users\\Shibbs\\anaconda3\\lib\\site-packages\\keras\\engine\\training.py\", line 1000, in run_step  **\n        outputs = model.train_step(data)\n    File \"C:\\Users\\Shibbs\\anaconda3\\lib\\site-packages\\keras\\engine\\training.py\", line 860, in train_step\n        loss = self.compute_loss(x, y, y_pred, sample_weight)\n    File \"C:\\Users\\Shibbs\\anaconda3\\lib\\site-packages\\keras\\engine\\training.py\", line 918, in compute_loss\n        return self.compiled_loss(\n    File \"C:\\Users\\Shibbs\\anaconda3\\lib\\site-packages\\keras\\engine\\compile_utils.py\", line 201, in __call__\n        loss_value = loss_obj(y_t, y_p, sample_weight=sw)\n    File \"C:\\Users\\Shibbs\\anaconda3\\lib\\site-packages\\keras\\losses.py\", line 141, in __call__\n        losses = call_fn(y_true, y_pred)\n    File \"C:\\Users\\Shibbs\\anaconda3\\lib\\site-packages\\keras\\losses.py\", line 245, in call  **\n        return ag_fn(y_true, y_pred, **self._fn_kwargs)\n    File \"C:\\Users\\Shibbs\\anaconda3\\lib\\site-packages\\keras\\losses.py\", line 1862, in sparse_categorical_crossentropy\n        return backend.sparse_categorical_crossentropy(\n    File \"C:\\Users\\Shibbs\\anaconda3\\lib\\site-packages\\keras\\backend.py\", line 5202, in sparse_categorical_crossentropy\n        res = tf.nn.sparse_softmax_cross_entropy_with_logits(\n\n    ValueError: `labels.shape` must equal `logits.shape` except for the last dimension. Received: labels.shape=(2,) and logits.shape=(1, 53456)\n"
     ]
    }
   ],
   "source": [
    "    model = Sequential()\n",
    "    model.add(LSTM(50, input_shape=(train_X.shape[1], train_X.shape[2]), dropout=0.5))\n",
    "    model.add(BatchNormalization())\n",
    "    \n",
    "    model.add(Dense(1024,activation='relu'))\n",
    "    model.add(Flatten())\n",
    "    model.add(Dense(53453+3 ,activation='softmax'))\n",
    "    model.compile(loss='sparse_categorical_crossentropy', optimizer='adam', metrics=['accuracy'])\n",
    "    # fit network\n",
    "    history = model.fit(train_X, train_y, epochs=5, batch_size=1, validation_data=(test_X, test_y), verbose=1, shuffle=False)\n",
    "    # plot history\n",
    "    pyplot.plot(history.history['loss'], label='train')\n",
    "    pyplot.plot(history.history['val_loss'], label='test')\n",
    "    pyplot.legend()\n",
    "    pyplot.show()"
   ]
  },
  {
   "cell_type": "code",
   "execution_count": null,
   "id": "145d9918",
   "metadata": {},
   "outputs": [],
   "source": [
    "model = Sequential()\n",
    "model.add(LSTM(20, activation='relu', input_shape=(19,2), dropout=0.3, return_sequences=True))\n",
    "model.add(BatchNormalization())\n",
    "model.add(LSTM(20, activation='relu', input_shape=(19,2), dropout=0.3))\n",
    "model.add(BatchNormalization())\n",
    "model.add(Dense(64,activation='relu'))\n",
    "model.add(Dense(2,activation='softmax'))\n",
    "model.compile(optimizer='adam', loss='categorical_crossentropy',metrics=['categorical_accuracy']) # changed loss to categorical_crossentropy but loss = nan\n",
    "history = model.fit(train_X, train_y, batch_size=1,epochs=3, validation_data=(test_X, test_y), verbose=1)"
   ]
  },
  {
   "cell_type": "code",
   "execution_count": null,
   "id": "38f571e8",
   "metadata": {},
   "outputs": [],
   "source": [
    "test_input =       [[      0,       0],\n",
    "                    [      0,       0],\n",
    "                    [      0,       0],\n",
    "                    [      0,       0],\n",
    "                    [      0,       0],\n",
    "                    [      0,       0],\n",
    "                    [      0,       0],\n",
    "                    [      0,       0],\n",
    "                    [      0,       0],\n",
    "                    [      0,       0],\n",
    "                    [      0,       0],\n",
    "                    [      0,       0],\n",
    "                    [      0,       0],\n",
    "                    [      0,       0],\n",
    "                    [      0,       0],\n",
    "                    [      0,       0],\n",
    "                    [      48545,   1],\n",
    "                    [48545  ,       1],\n",
    "                    [48545  ,       2]]\n",
    "    \n",
    "test_input=np.array(test_input)\n",
    "test_input=test_input.reshape(1,19,2)\n",
    "\n",
    "test_output = model.predict(test_input, verbose=1)\n",
    "test_output"
   ]
  },
  {
   "cell_type": "markdown",
   "id": "0c624eab",
   "metadata": {},
   "source": [
    "# END"
   ]
  },
  {
   "cell_type": "code",
   "execution_count": 3,
   "id": "e3ca03b7",
   "metadata": {},
   "outputs": [],
   "source": [
    "path=r\"C:\\Users\\Shibbs\\Desktop\\lstm_datasets\\lstm_with_seq_100.csv\""
   ]
  },
  {
   "cell_type": "code",
   "execution_count": 4,
   "id": "6cf599db",
   "metadata": {},
   "outputs": [],
   "source": [
    "df = pd.read_csv(path)"
   ]
  },
  {
   "cell_type": "code",
   "execution_count": 5,
   "id": "10dbe27d",
   "metadata": {},
   "outputs": [
    {
     "data": {
      "text/html": [
       "<div>\n",
       "<style scoped>\n",
       "    .dataframe tbody tr th:only-of-type {\n",
       "        vertical-align: middle;\n",
       "    }\n",
       "\n",
       "    .dataframe tbody tr th {\n",
       "        vertical-align: top;\n",
       "    }\n",
       "\n",
       "    .dataframe thead th {\n",
       "        text-align: right;\n",
       "    }\n",
       "</style>\n",
       "<table border=\"1\" class=\"dataframe\">\n",
       "  <thead>\n",
       "    <tr style=\"text-align: right;\">\n",
       "      <th></th>\n",
       "      <th>Unnamed: 0</th>\n",
       "      <th>user_id</th>\n",
       "      <th>event_time</th>\n",
       "      <th>product_id</th>\n",
       "      <th>event_type</th>\n",
       "      <th>seq_index</th>\n",
       "    </tr>\n",
       "  </thead>\n",
       "  <tbody>\n",
       "    <tr>\n",
       "      <th>0</th>\n",
       "      <td>0</td>\n",
       "      <td>1.515916e+18</td>\n",
       "      <td>2020-09-29 16:01:54 UTC</td>\n",
       "      <td>4005145</td>\n",
       "      <td>view</td>\n",
       "      <td>0</td>\n",
       "    </tr>\n",
       "    <tr>\n",
       "      <th>1</th>\n",
       "      <td>1</td>\n",
       "      <td>1.515916e+18</td>\n",
       "      <td>2020-09-29 16:02:34 UTC</td>\n",
       "      <td>4005145</td>\n",
       "      <td>view</td>\n",
       "      <td>1</td>\n",
       "    </tr>\n",
       "    <tr>\n",
       "      <th>2</th>\n",
       "      <td>2</td>\n",
       "      <td>1.515916e+18</td>\n",
       "      <td>2020-10-01 05:57:54 UTC</td>\n",
       "      <td>4005145</td>\n",
       "      <td>view</td>\n",
       "      <td>2</td>\n",
       "    </tr>\n",
       "    <tr>\n",
       "      <th>3</th>\n",
       "      <td>3</td>\n",
       "      <td>1.515916e+18</td>\n",
       "      <td>2020-10-02 08:23:40 UTC</td>\n",
       "      <td>4099840</td>\n",
       "      <td>view</td>\n",
       "      <td>3</td>\n",
       "    </tr>\n",
       "    <tr>\n",
       "      <th>4</th>\n",
       "      <td>4</td>\n",
       "      <td>1.515916e+18</td>\n",
       "      <td>2020-10-06 06:30:32 UTC</td>\n",
       "      <td>3506650</td>\n",
       "      <td>view</td>\n",
       "      <td>4</td>\n",
       "    </tr>\n",
       "    <tr>\n",
       "      <th>...</th>\n",
       "      <td>...</td>\n",
       "      <td>...</td>\n",
       "      <td>...</td>\n",
       "      <td>...</td>\n",
       "      <td>...</td>\n",
       "      <td>...</td>\n",
       "    </tr>\n",
       "    <tr>\n",
       "      <th>596253</th>\n",
       "      <td>596253</td>\n",
       "      <td>1.515920e+18</td>\n",
       "      <td>2020-09-24 21:31:54 UTC</td>\n",
       "      <td>1716641</td>\n",
       "      <td>view</td>\n",
       "      <td>95</td>\n",
       "    </tr>\n",
       "    <tr>\n",
       "      <th>596254</th>\n",
       "      <td>596254</td>\n",
       "      <td>1.515920e+18</td>\n",
       "      <td>2020-09-24 21:33:40 UTC</td>\n",
       "      <td>4051545</td>\n",
       "      <td>view</td>\n",
       "      <td>96</td>\n",
       "    </tr>\n",
       "    <tr>\n",
       "      <th>596255</th>\n",
       "      <td>596255</td>\n",
       "      <td>1.515920e+18</td>\n",
       "      <td>2020-09-24 21:34:07 UTC</td>\n",
       "      <td>1716639</td>\n",
       "      <td>view</td>\n",
       "      <td>97</td>\n",
       "    </tr>\n",
       "    <tr>\n",
       "      <th>596256</th>\n",
       "      <td>596256</td>\n",
       "      <td>1.515920e+18</td>\n",
       "      <td>2020-09-24 22:17:54 UTC</td>\n",
       "      <td>1682604</td>\n",
       "      <td>view</td>\n",
       "      <td>98</td>\n",
       "    </tr>\n",
       "    <tr>\n",
       "      <th>596257</th>\n",
       "      <td>596257</td>\n",
       "      <td>1.515920e+18</td>\n",
       "      <td>2020-09-24 23:07:54 UTC</td>\n",
       "      <td>933727</td>\n",
       "      <td>view</td>\n",
       "      <td>99</td>\n",
       "    </tr>\n",
       "  </tbody>\n",
       "</table>\n",
       "<p>596258 rows × 6 columns</p>\n",
       "</div>"
      ],
      "text/plain": [
       "        Unnamed: 0       user_id               event_time  product_id  \\\n",
       "0                0  1.515916e+18  2020-09-29 16:01:54 UTC     4005145   \n",
       "1                1  1.515916e+18  2020-09-29 16:02:34 UTC     4005145   \n",
       "2                2  1.515916e+18  2020-10-01 05:57:54 UTC     4005145   \n",
       "3                3  1.515916e+18  2020-10-02 08:23:40 UTC     4099840   \n",
       "4                4  1.515916e+18  2020-10-06 06:30:32 UTC     3506650   \n",
       "...            ...           ...                      ...         ...   \n",
       "596253      596253  1.515920e+18  2020-09-24 21:31:54 UTC     1716641   \n",
       "596254      596254  1.515920e+18  2020-09-24 21:33:40 UTC     4051545   \n",
       "596255      596255  1.515920e+18  2020-09-24 21:34:07 UTC     1716639   \n",
       "596256      596256  1.515920e+18  2020-09-24 22:17:54 UTC     1682604   \n",
       "596257      596257  1.515920e+18  2020-09-24 23:07:54 UTC      933727   \n",
       "\n",
       "       event_type  seq_index  \n",
       "0            view          0  \n",
       "1            view          1  \n",
       "2            view          2  \n",
       "3            view          3  \n",
       "4            view          4  \n",
       "...           ...        ...  \n",
       "596253       view         95  \n",
       "596254       view         96  \n",
       "596255       view         97  \n",
       "596256       view         98  \n",
       "596257       view         99  \n",
       "\n",
       "[596258 rows x 6 columns]"
      ]
     },
     "execution_count": 5,
     "metadata": {},
     "output_type": "execute_result"
    }
   ],
   "source": [
    "df"
   ]
  },
  {
   "cell_type": "code",
   "execution_count": 6,
   "id": "380e2a76",
   "metadata": {},
   "outputs": [],
   "source": [
    "df.seq_index = df.seq_index.astype(int)  \n",
    "df = df[df['seq_index']<20].reset_index()"
   ]
  },
  {
   "cell_type": "code",
   "execution_count": 10,
   "id": "61af8351",
   "metadata": {},
   "outputs": [],
   "source": [
    "from sklearn import preprocessing\n",
    "\n",
    "le = preprocessing.LabelEncoder()"
   ]
  },
  {
   "cell_type": "code",
   "execution_count": 11,
   "id": "0825cff9",
   "metadata": {},
   "outputs": [],
   "source": [
    "df['product_id'] = le.fit_transform(df['product_id'])"
   ]
  },
  {
   "cell_type": "code",
   "execution_count": 12,
   "id": "e59a85c7",
   "metadata": {},
   "outputs": [],
   "source": [
    "    df2 = pd.pivot_table(data=df,index='user_id',columns=['seq_index'],values=['event_type'],aggfunc='sum')\n",
    "    df2 = df2.fillna(0)\n",
    "    df2 = df2.replace(['view'],1)\n",
    "    df2 = df2.replace(['cart'],2)\n",
    "    df2 = df2.replace(['purchase'],3)\n",
    "    df2 = df2[df2['event_type',  1 ]!= 0]\n",
    "    \n",
    "    df3 = pd.pivot_table(data=df,index='user_id',columns=['seq_index'],values=['product_id'],aggfunc='sum')\n",
    "    df3 = df3.fillna(0)\n",
    "    df3 = df3[df3['product_id',  1 ]!= 0]\n",
    "    \n",
    "    # convert post padding to pre padding because it makes more sense\n",
    "event_type_list = []\n",
    "    for i in range(len(df2.index)):\n",
    "        event_type = df2.iloc[i].tolist()\n",
    "        event_type.sort(reverse = True,key=lambda x: x==0)\n",
    "        event_type_list.append(event_type)\n",
    "        event_type_array = np.array(event_type_list)\n",
    "        event_type_array = event_type_array.astype(int)\n",
    "        event_type_array = event_type_array.flatten()\n",
    "        \n",
    "        \n",
    "product_id_list = []\n",
    "    for i in range(len(df3.index)):\n",
    "        product_id = df3.iloc[i].tolist()\n",
    "        product_id.sort(reverse = True,key=lambda x: x==0)\n",
    "        product_id_list.append(product_id)\n",
    "        product_id_array = np.array(product_id_list)\n",
    "        product_id_array = product_id_array.flatten()"
   ]
  },
  {
   "cell_type": "code",
   "execution_count": 13,
   "id": "da5be20b",
   "metadata": {},
   "outputs": [
    {
     "data": {
      "text/plain": [
       "214940"
      ]
     },
     "execution_count": 13,
     "metadata": {},
     "output_type": "execute_result"
    }
   ],
   "source": [
    "event_type_array.size"
   ]
  },
  {
   "cell_type": "code",
   "execution_count": 14,
   "id": "8bf4a0a4",
   "metadata": {},
   "outputs": [
    {
     "data": {
      "text/plain": [
       "214940"
      ]
     },
     "execution_count": 14,
     "metadata": {},
     "output_type": "execute_result"
    }
   ],
   "source": [
    "product_id_array.size"
   ]
  },
  {
   "cell_type": "code",
   "execution_count": 15,
   "id": "cbf81803",
   "metadata": {},
   "outputs": [],
   "source": [
    "event_type_array=np.delete(event_type_array,[range(214940-940,214940)])\n",
    "product_id_array=np.delete(product_id_array,[range(214940-940,214940)])"
   ]
  },
  {
   "cell_type": "code",
   "execution_count": 16,
   "id": "33dc6ac4",
   "metadata": {},
   "outputs": [],
   "source": [
    "X = np.column_stack((event_type_array,product_id_array))"
   ]
  },
  {
   "cell_type": "code",
   "execution_count": 26,
   "id": "15f720c9",
   "metadata": {},
   "outputs": [],
   "source": [
    "X = X.astype(int)"
   ]
  },
  {
   "cell_type": "code",
   "execution_count": 27,
   "id": "751c932b",
   "metadata": {},
   "outputs": [],
   "source": [
    "X = X.reshape(10700, 20, 2)"
   ]
  },
  {
   "cell_type": "code",
   "execution_count": 28,
   "id": "b7935bc6",
   "metadata": {},
   "outputs": [],
   "source": [
    "#split into train test\n",
    "train_size = 10000\n",
    "train = X[:train_size, :, :]\n",
    "test = X[train_size:, :, :]"
   ]
  },
  {
   "cell_type": "code",
   "execution_count": 29,
   "id": "a3ef6911",
   "metadata": {},
   "outputs": [],
   "source": [
    "train_X, train_y = train[:, :-1], train[:, -1]\n",
    "test_X, test_y = test[:, :-1], test[:, -1]"
   ]
  },
  {
   "cell_type": "code",
   "execution_count": 44,
   "id": "a57ebd2e",
   "metadata": {},
   "outputs": [
    {
     "name": "stdout",
     "output_type": "stream",
     "text": [
      "Epoch 1/3\n",
      "10000/10000 - 40s - loss: 12516.6348 - categorical_accuracy: 0.2195 - 40s/epoch - 4ms/step\n",
      "Epoch 2/3\n",
      "10000/10000 - 38s - loss: 130.6804 - categorical_accuracy: 0.0012 - 38s/epoch - 4ms/step\n",
      "Epoch 3/3\n",
      "10000/10000 - 38s - loss: 130.6794 - categorical_accuracy: 0.0012 - 38s/epoch - 4ms/step\n"
     ]
    }
   ],
   "source": [
    "model = Sequential()\n",
    "model.add(Bidirectional(LSTM(50, activation='relu'), input_shape=(19, 2)))\n",
    "# model.add(LSTM(50, activation='relu', input_shape=(19, 2),return_sequences=True))\n",
    "model.add(Flatten())\n",
    "model.add(Dense(2))\n",
    "\n",
    "model.compile(optimizer='adam', loss='categorical_crossentropy', metrics=['categorical_accuracy'])\n",
    "\n",
    "history = model.fit(train_X, train_y, epochs=3, verbose=2, batch_size=1)"
   ]
  },
  {
   "cell_type": "code",
   "execution_count": 45,
   "id": "99df7fd6",
   "metadata": {},
   "outputs": [],
   "source": [
    "test_input = [[    0,     0],\n",
    "       [    0,     0],\n",
    "       [    0,     0],\n",
    "       [    0,     0],\n",
    "       [    0,     0],\n",
    "       [    0,     0],\n",
    "       [    0,     0],\n",
    "       [    0,     0],\n",
    "       [    0,     0],\n",
    "       [    0,     0],\n",
    "       [    0,     0],\n",
    "       [    0,     0],\n",
    "       [    0,     0],\n",
    "       [    0,     0],\n",
    "       [    0,     0],\n",
    "       [    1,  3813],\n",
    "       [    1, 11603],\n",
    "       [    1, 17366],\n",
    "       [    1, 22156]]"
   ]
  },
  {
   "cell_type": "code",
   "execution_count": 46,
   "id": "a02d9a34",
   "metadata": {},
   "outputs": [],
   "source": [
    "test_input = np.array(test_input)"
   ]
  },
  {
   "cell_type": "code",
   "execution_count": 47,
   "id": "a7561be3",
   "metadata": {},
   "outputs": [],
   "source": [
    "test_input = test_input.reshape((1, 19, 2))"
   ]
  },
  {
   "cell_type": "code",
   "execution_count": 48,
   "id": "91b9014f",
   "metadata": {},
   "outputs": [],
   "source": [
    "test_output = model.predict(test_input, verbose=0)"
   ]
  },
  {
   "cell_type": "code",
   "execution_count": 49,
   "id": "ed819c1c",
   "metadata": {},
   "outputs": [
    {
     "data": {
      "text/plain": [
       "array([[ 294041.38, -410986.66]], dtype=float32)"
      ]
     },
     "execution_count": 49,
     "metadata": {},
     "output_type": "execute_result"
    }
   ],
   "source": [
    "test_output"
   ]
  },
  {
   "cell_type": "code",
   "execution_count": null,
   "id": "02d719b5",
   "metadata": {},
   "outputs": [],
   "source": []
  }
 ],
 "metadata": {
  "kernelspec": {
   "display_name": "Python 3 (ipykernel)",
   "language": "python",
   "name": "python3"
  },
  "language_info": {
   "codemirror_mode": {
    "name": "ipython",
    "version": 3
   },
   "file_extension": ".py",
   "mimetype": "text/x-python",
   "name": "python",
   "nbconvert_exporter": "python",
   "pygments_lexer": "ipython3",
   "version": "3.9.7"
  }
 },
 "nbformat": 4,
 "nbformat_minor": 5
}
