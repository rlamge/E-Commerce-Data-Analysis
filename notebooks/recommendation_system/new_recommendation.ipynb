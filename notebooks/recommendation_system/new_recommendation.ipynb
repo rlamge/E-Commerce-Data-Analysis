{
 "cells": [
  {
   "cell_type": "code",
   "execution_count": 1,
   "id": "a11cb3f0",
   "metadata": {},
   "outputs": [],
   "source": [
    "import numpy as np\n",
    "import pandas as pd\n",
    "import matplotlib.pyplot as plt\n",
    "from sklearn.preprocessing import MinMaxScaler\n",
    "from surprise import Reader\n",
    "from surprise import Dataset\n",
    "from surprise.model_selection import cross_validate\n",
    "from surprise import NormalPredictor\n",
    "from surprise import KNNBasic\n",
    "from surprise import KNNWithMeans\n",
    "from surprise import KNNWithZScore\n",
    "from surprise import KNNBaseline\n",
    "from surprise import SVD\n",
    "from surprise import BaselineOnly\n",
    "from surprise import SVDpp\n",
    "from surprise import NMF\n",
    "from surprise import SlopeOne\n",
    "from surprise import CoClustering\n",
    "from surprise.accuracy import rmse\n",
    "from surprise import accuracy\n",
    "from surprise.model_selection import train_test_split\n",
    "from surprise.model_selection import GridSearchCV"
   ]
  },
  {
   "cell_type": "code",
   "execution_count": 2,
   "id": "79a6af8c",
   "metadata": {},
   "outputs": [],
   "source": [
    "path = r\"C:\\Users\\Shibbs\\Desktop\\Praxis\\CAPP\\cwd\\datasets\\final\\df.csv\""
   ]
  },
  {
   "cell_type": "code",
   "execution_count": 10,
   "id": "cec412c7",
   "metadata": {},
   "outputs": [],
   "source": [
    "def get_only_view_data(path, view_count_limit):\n",
    "    df = pd.read_csv(path ,sep=',', index_col=False, dtype='unicode')\n",
    "    only_view = df.loc[df['event_type'] == 'view']\n",
    "    only_view_count = only_view.groupby(['user_id','product_id'])['event_type'].count().reset_index()\n",
    "    only_view_count = only_view_count.rename(columns={\"event_type\": \"view_count\"})\n",
    "    only_view_count = only_view_count[only_view_count['view_count']<view_count_limit]\n",
    "    \n",
    "    return only_view_count"
   ]
  },
  {
   "cell_type": "code",
   "execution_count": 4,
   "id": "01032056",
   "metadata": {},
   "outputs": [],
   "source": [
    "def get_only_cart_data(path, cart_count_limit):\n",
    "    df = pd.read_csv(path ,sep=',', index_col=False, dtype='unicode')\n",
    "    only_cart = df.loc[df['event_type'] == 'cart']\n",
    "    only_cart_count = only_cart.groupby(['user_id','product_id'])['event_type'].count().reset_index()\n",
    "    only_cart_count = only_cart_count.rename(columns={\"event_type\": \"cart_count\"})\n",
    "    only_cart_count = only_cart_count[only_cart_count['cart_count']<cart_count_limit]\n",
    "    \n",
    "    return only_cart_count"
   ]
  },
  {
   "cell_type": "code",
   "execution_count": 5,
   "id": "db4ad234",
   "metadata": {},
   "outputs": [],
   "source": [
    "def get_only_purchase_data(path, purchase_count_limit):\n",
    "    df = pd.read_csv(path ,sep=',', index_col=False, dtype='unicode')\n",
    "    only_purchase = df.loc[df['event_type'] == 'cart']\n",
    "    only_purchase_count = only_purchase.groupby(['user_id','product_id'])['event_type'].count().reset_index()\n",
    "    only_purchase_count = only_purchase_count.rename(columns={\"event_type\": \"purchase_count\"})\n",
    "    only_purchase_count = only_purchase_count[only_purchase_count['purchase_count']<purchase_count_limit]\n",
    "    \n",
    "    return only_purchase_count"
   ]
  },
  {
   "cell_type": "code",
   "execution_count": 6,
   "id": "d88b9b9a",
   "metadata": {},
   "outputs": [],
   "source": [
    "def setup_training(df):\n",
    "    reader = Reader(rating_scale=(df.view_count.min(),df.view_count.max()))\n",
    "    data = Dataset.load_from_df(df, reader)\n",
    "    dataset = data.build_full_trainset()\n",
    "    print('Number of users: ',dataset.n_users,'\\n')\n",
    "    print('Number of items: ',dataset.n_items,'\\n')\n",
    "    print('Ready for Learning...')"
   ]
  },
  {
   "cell_type": "code",
   "execution_count": 7,
   "id": "85145ad9",
   "metadata": {},
   "outputs": [],
   "source": [
    "def train_baselineonly(df, pg):\n",
    "    \n",
    "\n",
    "\n",
    "    # bsl_options = {'method': ['als','sgd'],'n_epochs': [5, 10], 'lr_all': [0.002, 0.005],\n",
    "    #               'reg_all': [0.4, 0.6]}\n",
    "    \n",
    "    bsl_algo = BaselineOnly()\n",
    "    gs = GridSearchCV(BaselineOnly, pg, measures=['rmse', 'mae'], cv=3)\n",
    "\n",
    "    gs.fit(data)\n",
    "\n",
    "    # best RMSE score\n",
    "    print(gs.best_score['rmse'])\n",
    "\n",
    "    # combination of parameters that gave the best RMSE score\n",
    "    print(gs.best_params['rmse'])"
   ]
  },
  {
   "cell_type": "code",
   "execution_count": 16,
   "id": "25c5760b",
   "metadata": {},
   "outputs": [],
   "source": [
    "def train_svd(df, pg):\n",
    "    reader = Reader(rating_scale=(df.view_count.min(),df.view_count.max()))\n",
    "    data = Dataset.load_from_df(df, reader)\n",
    "    dataset = data.build_full_trainset()\n",
    "    print('Number of users: ',dataset.n_users,'\\n')\n",
    "    print('Number of items: ',dataset.n_items,'\\n')\n",
    "    print('Ready for Learning...')\n",
    "    \n",
    "    gs = GridSearchCV(SVD, pg, measures=['rmse', 'mae'], cv=3)\n",
    "\n",
    "    gs.fit(data)\n",
    "\n",
    "    # best RMSE score\n",
    "    print(gs.best_score['rmse'])\n",
    "\n",
    "    # best RMSE score\n",
    "    print(gs.best_score['mae'])\n",
    "\n",
    "    # combination of parameters that gave the best RMSE score\n",
    "    print(gs.best_params['rmse'])\n",
    "\n",
    "    # combination of parameters that gave the best MAE score\n",
    "    print(gs.best_params['mae'])\n",
    "    \n",
    "    return "
   ]
  },
  {
   "cell_type": "code",
   "execution_count": 11,
   "id": "9e4147f7",
   "metadata": {},
   "outputs": [],
   "source": [
    "df = get_only_view_data(path,50)"
   ]
  },
  {
   "cell_type": "code",
   "execution_count": 12,
   "id": "2a55ac9d",
   "metadata": {},
   "outputs": [
    {
     "name": "stdout",
     "output_type": "stream",
     "text": [
      "Number of users:  13284 \n",
      "\n",
      "Number of items:  53450 \n",
      "\n",
      "Ready for Learning...\n"
     ]
    }
   ],
   "source": [
    "setup_training(df)"
   ]
  },
  {
   "cell_type": "code",
   "execution_count": 20,
   "id": "59ede34f",
   "metadata": {},
   "outputs": [
    {
     "name": "stdout",
     "output_type": "stream",
     "text": [
      "Estimating biases using als...\n",
      "Estimating biases using als...\n",
      "Estimating biases using als...\n",
      "Estimating biases using als...\n",
      "Estimating biases using als...\n",
      "Estimating biases using als...\n",
      "Estimating biases using als...\n",
      "Estimating biases using als...\n",
      "Estimating biases using als...\n",
      "Estimating biases using als...\n",
      "Estimating biases using als...\n",
      "Estimating biases using als...\n",
      "1.4991115832002453\n",
      "{'bsl_options': {'method': 'als', 'n_epochs': 50, 'lr_all': 0.001, 'reg_all': 0.4}}\n"
     ]
    }
   ],
   "source": [
    "train_baselineonly(df, {'bsl_options':\n",
    "                                    {'method': ['als'],\n",
    "                                     'n_epochs': [55], \n",
    "                                     'lr_all': [0.001],\n",
    "                                     'reg_all': [0.4]\n",
    "                                    }})"
   ]
  },
  {
   "cell_type": "code",
   "execution_count": 26,
   "id": "07278498",
   "metadata": {},
   "outputs": [
    {
     "name": "stdout",
     "output_type": "stream",
     "text": [
      "Number of users:  13284 \n",
      "\n",
      "Number of items:  53450 \n",
      "\n",
      "Ready for Learning...\n",
      "1.5004584753459038\n",
      "0.7047929293298957\n",
      "{'n_epochs': 70, 'lr_all': 0.002, 'reg_all': 0.4}\n",
      "{'n_epochs': 70, 'lr_all': 0.002, 'reg_all': 0.4}\n"
     ]
    }
   ],
   "source": [
    "    reader = Reader(rating_scale=(df.view_count.min(),df.view_count.max()))\n",
    "    data = Dataset.load_from_df(df, reader)\n",
    "    dataset = data.build_full_trainset()\n",
    "    print('Number of users: ',dataset.n_users,'\\n')\n",
    "    print('Number of items: ',dataset.n_items,'\\n')\n",
    "    print('Ready for Learning...')\n",
    "    \n",
    "    gs = GridSearchCV(SVD, {'n_epochs': [70], \n",
    "               'lr_all': [0.002],\n",
    "               'reg_all': [0.4]}, measures=['rmse', 'mae'], cv=3)\n",
    "\n",
    "    gs.fit(data)\n",
    "\n",
    "    # best RMSE score\n",
    "    print(gs.best_score['rmse'])\n",
    "\n",
    "    # best RMSE score\n",
    "    print(gs.best_score['mae'])\n",
    "\n",
    "    # combination of parameters that gave the best RMSE score\n",
    "    print(gs.best_params['rmse'])\n",
    "\n",
    "    # combination of parameters that gave the best MAE score\n",
    "    print(gs.best_params['mae'])"
   ]
  },
  {
   "cell_type": "code",
   "execution_count": 20,
   "id": "725aa61e",
   "metadata": {},
   "outputs": [
    {
     "name": "stdout",
     "output_type": "stream",
     "text": [
      "Number of users:  13284 \n",
      "\n",
      "Number of items:  53450 \n",
      "\n",
      "Ready for Learning...\n",
      "1.4982060806547215\n",
      "0.7048611258188942\n",
      "{'n_epochs': 70, 'lr_all': 0.002, 'reg_all': 0.4}\n",
      "{'n_epochs': 70, 'lr_all': 0.002, 'reg_all': 0.4}\n"
     ]
    }
   ],
   "source": [
    "train_svd(df, {'n_epochs': [70], \n",
    "               'lr_all': [0.002],\n",
    "               'reg_all': [0.4]})"
   ]
  },
  {
   "cell_type": "code",
   "execution_count": null,
   "id": "34bb5729",
   "metadata": {},
   "outputs": [],
   "source": [
    "def make_pred_baselineonly(uid,iid):\n",
    "    return algo.predict(uid,iid)"
   ]
  },
  {
   "cell_type": "code",
   "execution_count": 22,
   "id": "8f598674",
   "metadata": {},
   "outputs": [],
   "source": [
    "def make_pred_svd(uid,iid):\n",
    "    return svd.predict(uid,iid)"
   ]
  },
  {
   "cell_type": "code",
   "execution_count": 28,
   "id": "8aa11b6c",
   "metadata": {},
   "outputs": [
    {
     "ename": "ValueError",
     "evalue": "refit is False, cannot use predict()",
     "output_type": "error",
     "traceback": [
      "\u001b[1;31m---------------------------------------------------------------------------\u001b[0m",
      "\u001b[1;31mValueError\u001b[0m                                Traceback (most recent call last)",
      "\u001b[1;32m~\\AppData\\Local\\Temp/ipykernel_12072/2431360003.py\u001b[0m in \u001b[0;36m<module>\u001b[1;34m\u001b[0m\n\u001b[1;32m----> 1\u001b[1;33m \u001b[0mgs\u001b[0m\u001b[1;33m.\u001b[0m\u001b[0mpredict\u001b[0m\u001b[1;33m(\u001b[0m\u001b[1;34m'1515915625353230000'\u001b[0m\u001b[1;33m,\u001b[0m\u001b[1;34m'73593'\u001b[0m\u001b[1;33m)\u001b[0m\u001b[1;33m\u001b[0m\u001b[1;33m\u001b[0m\u001b[0m\n\u001b[0m",
      "\u001b[1;32m~\\anaconda3\\lib\\site-packages\\surprise\\model_selection\\search.py\u001b[0m in \u001b[0;36mpredict\u001b[1;34m(self, *args)\u001b[0m\n\u001b[0;32m    201\u001b[0m \u001b[1;33m\u001b[0m\u001b[0m\n\u001b[0;32m    202\u001b[0m         \u001b[1;32mif\u001b[0m \u001b[1;32mnot\u001b[0m \u001b[0mself\u001b[0m\u001b[1;33m.\u001b[0m\u001b[0mrefit\u001b[0m\u001b[1;33m:\u001b[0m\u001b[1;33m\u001b[0m\u001b[1;33m\u001b[0m\u001b[0m\n\u001b[1;32m--> 203\u001b[1;33m             \u001b[1;32mraise\u001b[0m \u001b[0mValueError\u001b[0m\u001b[1;33m(\u001b[0m\u001b[1;34m'refit is False, cannot use predict()'\u001b[0m\u001b[1;33m)\u001b[0m\u001b[1;33m\u001b[0m\u001b[1;33m\u001b[0m\u001b[0m\n\u001b[0m\u001b[0;32m    204\u001b[0m \u001b[1;33m\u001b[0m\u001b[0m\n\u001b[0;32m    205\u001b[0m         \u001b[1;32mreturn\u001b[0m \u001b[0mself\u001b[0m\u001b[1;33m.\u001b[0m\u001b[0mbest_estimator\u001b[0m\u001b[1;33m[\u001b[0m\u001b[0mself\u001b[0m\u001b[1;33m.\u001b[0m\u001b[0mrefit\u001b[0m\u001b[1;33m]\u001b[0m\u001b[1;33m.\u001b[0m\u001b[0mpredict\u001b[0m\u001b[1;33m(\u001b[0m\u001b[1;33m*\u001b[0m\u001b[0margs\u001b[0m\u001b[1;33m)\u001b[0m\u001b[1;33m\u001b[0m\u001b[1;33m\u001b[0m\u001b[0m\n",
      "\u001b[1;31mValueError\u001b[0m: refit is False, cannot use predict()"
     ]
    }
   ],
   "source": [
    "gs.predict('1515915625353230000','73593')"
   ]
  },
  {
   "cell_type": "code",
   "execution_count": 24,
   "id": "136527fd",
   "metadata": {},
   "outputs": [
    {
     "ename": "NameError",
     "evalue": "name 'svd' is not defined",
     "output_type": "error",
     "traceback": [
      "\u001b[1;31m---------------------------------------------------------------------------\u001b[0m",
      "\u001b[1;31mNameError\u001b[0m                                 Traceback (most recent call last)",
      "\u001b[1;32m~\\AppData\\Local\\Temp/ipykernel_12072/2947514876.py\u001b[0m in \u001b[0;36m<module>\u001b[1;34m\u001b[0m\n\u001b[1;32m----> 1\u001b[1;33m \u001b[0mpredictions\u001b[0m \u001b[1;33m=\u001b[0m \u001b[0mmake_pred_svd\u001b[0m\u001b[1;33m(\u001b[0m\u001b[1;34m'1515915625353230000'\u001b[0m\u001b[1;33m,\u001b[0m\u001b[1;34m'73593'\u001b[0m\u001b[1;33m)\u001b[0m\u001b[1;33m\u001b[0m\u001b[1;33m\u001b[0m\u001b[0m\n\u001b[0m",
      "\u001b[1;32m~\\AppData\\Local\\Temp/ipykernel_12072/1068333252.py\u001b[0m in \u001b[0;36mmake_pred_svd\u001b[1;34m(uid, iid)\u001b[0m\n\u001b[0;32m      1\u001b[0m \u001b[1;32mdef\u001b[0m \u001b[0mmake_pred_svd\u001b[0m\u001b[1;33m(\u001b[0m\u001b[0muid\u001b[0m\u001b[1;33m,\u001b[0m\u001b[0miid\u001b[0m\u001b[1;33m)\u001b[0m\u001b[1;33m:\u001b[0m\u001b[1;33m\u001b[0m\u001b[1;33m\u001b[0m\u001b[0m\n\u001b[1;32m----> 2\u001b[1;33m     \u001b[1;32mreturn\u001b[0m \u001b[0msvd\u001b[0m\u001b[1;33m.\u001b[0m\u001b[0mpredict\u001b[0m\u001b[1;33m(\u001b[0m\u001b[0muid\u001b[0m\u001b[1;33m,\u001b[0m\u001b[0miid\u001b[0m\u001b[1;33m)\u001b[0m\u001b[1;33m\u001b[0m\u001b[1;33m\u001b[0m\u001b[0m\n\u001b[0m",
      "\u001b[1;31mNameError\u001b[0m: name 'svd' is not defined"
     ]
    }
   ],
   "source": [
    "predictions = make_pred_svd('1515915625353230000','73593')"
   ]
  },
  {
   "cell_type": "code",
   "execution_count": null,
   "id": "40b48ac9",
   "metadata": {},
   "outputs": [],
   "source": []
  }
 ],
 "metadata": {
  "kernelspec": {
   "display_name": "Python 3 (ipykernel)",
   "language": "python",
   "name": "python3"
  },
  "language_info": {
   "codemirror_mode": {
    "name": "ipython",
    "version": 3
   },
   "file_extension": ".py",
   "mimetype": "text/x-python",
   "name": "python",
   "nbconvert_exporter": "python",
   "pygments_lexer": "ipython3",
   "version": "3.9.7"
  }
 },
 "nbformat": 4,
 "nbformat_minor": 5
}
