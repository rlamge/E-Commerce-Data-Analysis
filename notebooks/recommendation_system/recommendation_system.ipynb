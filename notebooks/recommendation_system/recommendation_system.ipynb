{
 "cells": [
  {
   "cell_type": "code",
   "execution_count": 1,
   "id": "dbff2e97",
   "metadata": {},
   "outputs": [],
   "source": []
  },
  {
   "cell_type": "code",
   "execution_count": 2,
   "id": "cfb6082e",
   "metadata": {},
   "outputs": [],
   "source": [
    "import numpy as np\n",
    "import pandas as pd\n",
    "import matplotlib.pyplot as plt\n",
    "from sklearn.preprocessing import MinMaxScaler\n",
    "from surprise import Reader\n",
    "from surprise import Dataset\n",
    "from surprise.model_selection import cross_validate\n",
    "from surprise import NormalPredictor\n",
    "from surprise import KNNBasic\n",
    "from surprise import KNNWithMeans\n",
    "from surprise import KNNWithZScore\n",
    "from surprise import KNNBaseline\n",
    "from surprise import SVD\n",
    "from surprise import BaselineOnly\n",
    "from surprise import SVDpp\n",
    "from surprise import NMF\n",
    "from surprise import SlopeOne\n",
    "from surprise import CoClustering\n",
    "from surprise.accuracy import rmse\n",
    "from surprise import accuracy\n",
    "from surprise.model_selection import train_test_split\n",
    "from surprise.model_selection import GridSearchCV"
   ]
  },
  {
   "cell_type": "code",
   "execution_count": 3,
   "id": "af688509",
   "metadata": {},
   "outputs": [],
   "source": [
    "df = pd.read_excel(r\"C:\\Users\\Shibbs\\Desktop\\Praxis\\CAPP\\cwd\\datasets\\final\\df.xlsx\")"
   ]
  },
  {
   "cell_type": "code",
   "execution_count": 44,
   "id": "ccfb1fbc",
   "metadata": {},
   "outputs": [],
   "source": [
    "#df=pd.read_excel(r\"C:\\Users\\Shibbs\\Desktop\\groupby.xlsx\")"
   ]
  },
  {
   "cell_type": "code",
   "execution_count": 4,
   "id": "508bf9ab",
   "metadata": {},
   "outputs": [
    {
     "data": {
      "text/plain": [
       "Index(['Unnamed: 0', 'event_time', 'event_type', 'product_id', 'category_id',\n",
       "       'category_code', 'brand', 'price', 'user_id', 'user_session'],\n",
       "      dtype='object')"
      ]
     },
     "execution_count": 4,
     "metadata": {},
     "output_type": "execute_result"
    }
   ],
   "source": [
    "df.columns"
   ]
  },
  {
   "cell_type": "code",
   "execution_count": 5,
   "id": "e696e777",
   "metadata": {},
   "outputs": [
    {
     "name": "stdout",
     "output_type": "stream",
     "text": [
      "<class 'pandas.core.frame.DataFrame'>\n",
      "RangeIndex: 885124 entries, 0 to 885123\n",
      "Data columns (total 10 columns):\n",
      " #   Column         Non-Null Count   Dtype  \n",
      "---  ------         --------------   -----  \n",
      " 0   Unnamed: 0     885124 non-null  int64  \n",
      " 1   event_time     885124 non-null  object \n",
      " 2   event_type     885124 non-null  object \n",
      " 3   product_id     885124 non-null  int64  \n",
      " 4   category_id    885124 non-null  float64\n",
      " 5   category_code  731308 non-null  object \n",
      " 6   brand          672760 non-null  object \n",
      " 7   price          885124 non-null  float64\n",
      " 8   user_id        885124 non-null  float64\n",
      " 9   user_session   884959 non-null  object \n",
      "dtypes: float64(3), int64(2), object(5)\n",
      "memory usage: 67.5+ MB\n"
     ]
    }
   ],
   "source": [
    "df.info()"
   ]
  },
  {
   "cell_type": "code",
   "execution_count": 6,
   "id": "f0d42b8b",
   "metadata": {},
   "outputs": [],
   "source": [
    "df.drop(['Unnamed: 0'],axis=1,inplace=True)"
   ]
  },
  {
   "cell_type": "code",
   "execution_count": 7,
   "id": "20ea65fc",
   "metadata": {},
   "outputs": [],
   "source": [
    "df.category_id=df.category_id.astype('object')"
   ]
  },
  {
   "cell_type": "code",
   "execution_count": 8,
   "id": "60fc2c8e",
   "metadata": {},
   "outputs": [
    {
     "data": {
      "text/plain": [
       "718"
      ]
     },
     "execution_count": 8,
     "metadata": {},
     "output_type": "execute_result"
    }
   ],
   "source": [
    "df.category_id.nunique()"
   ]
  },
  {
   "cell_type": "code",
   "execution_count": 9,
   "id": "f605abda",
   "metadata": {},
   "outputs": [
    {
     "data": {
      "text/html": [
       "<div>\n",
       "<style scoped>\n",
       "    .dataframe tbody tr th:only-of-type {\n",
       "        vertical-align: middle;\n",
       "    }\n",
       "\n",
       "    .dataframe tbody tr th {\n",
       "        vertical-align: top;\n",
       "    }\n",
       "\n",
       "    .dataframe thead th {\n",
       "        text-align: right;\n",
       "    }\n",
       "</style>\n",
       "<table border=\"1\" class=\"dataframe\">\n",
       "  <thead>\n",
       "    <tr style=\"text-align: right;\">\n",
       "      <th></th>\n",
       "      <th>event_time</th>\n",
       "      <th>event_type</th>\n",
       "      <th>product_id</th>\n",
       "      <th>category_id</th>\n",
       "      <th>category_code</th>\n",
       "      <th>brand</th>\n",
       "      <th>price</th>\n",
       "      <th>user_id</th>\n",
       "      <th>user_session</th>\n",
       "    </tr>\n",
       "  </thead>\n",
       "  <tbody>\n",
       "    <tr>\n",
       "      <th>0</th>\n",
       "      <td>2020-11-20 15:19:47 UTC</td>\n",
       "      <td>view</td>\n",
       "      <td>1642613</td>\n",
       "      <td>2144415938450030080.0</td>\n",
       "      <td>auto.accessories.immobilizer</td>\n",
       "      <td>falcon</td>\n",
       "      <td>25.56</td>\n",
       "      <td>1.515916e+18</td>\n",
       "      <td>9cdf5Yzi4W</td>\n",
       "    </tr>\n",
       "    <tr>\n",
       "      <th>1</th>\n",
       "      <td>2020-10-18 18:29:34 UTC</td>\n",
       "      <td>view</td>\n",
       "      <td>1642613</td>\n",
       "      <td>2144415938450030080.0</td>\n",
       "      <td>auto.accessories.immobilizer</td>\n",
       "      <td>falcon</td>\n",
       "      <td>25.56</td>\n",
       "      <td>1.515916e+18</td>\n",
       "      <td>DomDtlfN2x</td>\n",
       "    </tr>\n",
       "    <tr>\n",
       "      <th>2</th>\n",
       "      <td>2020-11-20 19:18:47 UTC</td>\n",
       "      <td>view</td>\n",
       "      <td>1642613</td>\n",
       "      <td>2144415938450030080.0</td>\n",
       "      <td>auto.accessories.immobilizer</td>\n",
       "      <td>falcon</td>\n",
       "      <td>25.56</td>\n",
       "      <td>1.515916e+18</td>\n",
       "      <td>N5U9nr75XP</td>\n",
       "    </tr>\n",
       "    <tr>\n",
       "      <th>3</th>\n",
       "      <td>2020-12-20 01:25:28 UTC</td>\n",
       "      <td>view</td>\n",
       "      <td>1642613</td>\n",
       "      <td>2144415938450030080.0</td>\n",
       "      <td>auto.accessories.immobilizer</td>\n",
       "      <td>falcon</td>\n",
       "      <td>25.56</td>\n",
       "      <td>1.515916e+18</td>\n",
       "      <td>apG36IgOcf</td>\n",
       "    </tr>\n",
       "    <tr>\n",
       "      <th>4</th>\n",
       "      <td>2021-02-24 15:59:50 UTC</td>\n",
       "      <td>view</td>\n",
       "      <td>1642613</td>\n",
       "      <td>2144415938450030080.0</td>\n",
       "      <td>auto.accessories.immobilizer</td>\n",
       "      <td>falcon</td>\n",
       "      <td>25.56</td>\n",
       "      <td>1.515916e+18</td>\n",
       "      <td>7CZ3WuPoU3</td>\n",
       "    </tr>\n",
       "    <tr>\n",
       "      <th>5</th>\n",
       "      <td>2021-01-12 12:57:43 UTC</td>\n",
       "      <td>view</td>\n",
       "      <td>1642613</td>\n",
       "      <td>2144415938450030080.0</td>\n",
       "      <td>auto.accessories.immobilizer</td>\n",
       "      <td>falcon</td>\n",
       "      <td>25.56</td>\n",
       "      <td>1.515916e+18</td>\n",
       "      <td>bVBY4mrES8</td>\n",
       "    </tr>\n",
       "    <tr>\n",
       "      <th>6</th>\n",
       "      <td>2021-02-24 15:58:41 UTC</td>\n",
       "      <td>view</td>\n",
       "      <td>1642613</td>\n",
       "      <td>2144415938450030080.0</td>\n",
       "      <td>auto.accessories.immobilizer</td>\n",
       "      <td>falcon</td>\n",
       "      <td>25.56</td>\n",
       "      <td>1.515916e+18</td>\n",
       "      <td>7CZ3WuPoU3</td>\n",
       "    </tr>\n",
       "    <tr>\n",
       "      <th>7</th>\n",
       "      <td>2020-11-08 19:52:34 UTC</td>\n",
       "      <td>view</td>\n",
       "      <td>1642613</td>\n",
       "      <td>2144415938450030080.0</td>\n",
       "      <td>auto.accessories.immobilizer</td>\n",
       "      <td>falcon</td>\n",
       "      <td>25.56</td>\n",
       "      <td>1.515916e+18</td>\n",
       "      <td>BoOX5GqMUb</td>\n",
       "    </tr>\n",
       "    <tr>\n",
       "      <th>8</th>\n",
       "      <td>2021-02-24 15:58:12 UTC</td>\n",
       "      <td>view</td>\n",
       "      <td>1642613</td>\n",
       "      <td>2144415938450030080.0</td>\n",
       "      <td>auto.accessories.immobilizer</td>\n",
       "      <td>falcon</td>\n",
       "      <td>25.56</td>\n",
       "      <td>1.515916e+18</td>\n",
       "      <td>7CZ3WuPoU3</td>\n",
       "    </tr>\n",
       "    <tr>\n",
       "      <th>9</th>\n",
       "      <td>2021-01-16 16:45:09 UTC</td>\n",
       "      <td>view</td>\n",
       "      <td>1642613</td>\n",
       "      <td>2144415938450030080.0</td>\n",
       "      <td>auto.accessories.immobilizer</td>\n",
       "      <td>falcon</td>\n",
       "      <td>25.56</td>\n",
       "      <td>1.515916e+18</td>\n",
       "      <td>86v346hK2d</td>\n",
       "    </tr>\n",
       "  </tbody>\n",
       "</table>\n",
       "</div>"
      ],
      "text/plain": [
       "                event_time event_type  product_id            category_id  \\\n",
       "0  2020-11-20 15:19:47 UTC       view     1642613  2144415938450030080.0   \n",
       "1  2020-10-18 18:29:34 UTC       view     1642613  2144415938450030080.0   \n",
       "2  2020-11-20 19:18:47 UTC       view     1642613  2144415938450030080.0   \n",
       "3  2020-12-20 01:25:28 UTC       view     1642613  2144415938450030080.0   \n",
       "4  2021-02-24 15:59:50 UTC       view     1642613  2144415938450030080.0   \n",
       "5  2021-01-12 12:57:43 UTC       view     1642613  2144415938450030080.0   \n",
       "6  2021-02-24 15:58:41 UTC       view     1642613  2144415938450030080.0   \n",
       "7  2020-11-08 19:52:34 UTC       view     1642613  2144415938450030080.0   \n",
       "8  2021-02-24 15:58:12 UTC       view     1642613  2144415938450030080.0   \n",
       "9  2021-01-16 16:45:09 UTC       view     1642613  2144415938450030080.0   \n",
       "\n",
       "                  category_code   brand  price       user_id user_session  \n",
       "0  auto.accessories.immobilizer  falcon  25.56  1.515916e+18   9cdf5Yzi4W  \n",
       "1  auto.accessories.immobilizer  falcon  25.56  1.515916e+18   DomDtlfN2x  \n",
       "2  auto.accessories.immobilizer  falcon  25.56  1.515916e+18   N5U9nr75XP  \n",
       "3  auto.accessories.immobilizer  falcon  25.56  1.515916e+18   apG36IgOcf  \n",
       "4  auto.accessories.immobilizer  falcon  25.56  1.515916e+18   7CZ3WuPoU3  \n",
       "5  auto.accessories.immobilizer  falcon  25.56  1.515916e+18   bVBY4mrES8  \n",
       "6  auto.accessories.immobilizer  falcon  25.56  1.515916e+18   7CZ3WuPoU3  \n",
       "7  auto.accessories.immobilizer  falcon  25.56  1.515916e+18   BoOX5GqMUb  \n",
       "8  auto.accessories.immobilizer  falcon  25.56  1.515916e+18   7CZ3WuPoU3  \n",
       "9  auto.accessories.immobilizer  falcon  25.56  1.515916e+18   86v346hK2d  "
      ]
     },
     "execution_count": 9,
     "metadata": {},
     "output_type": "execute_result"
    }
   ],
   "source": [
    "df.head(10)"
   ]
  },
  {
   "cell_type": "code",
   "execution_count": 10,
   "id": "a3bfec48",
   "metadata": {},
   "outputs": [
    {
     "name": "stdout",
     "output_type": "stream",
     "text": [
      "1 2 3 4 5 6 7 8 9 10 11 12 13 14 15 16 17 18 19 20 21 22 23 24 25 26 27 28 29 30 31 32 33 34 35 36 37 38 39 40 41 42 43 44 45 46 47 48 49 50 51 52 53 54 55 56 57 58 59 60 61 62 63 64 65 66 67 68 69 70 71 72 73 74 75 76 77 78 79 80 81 82 83 84 85 86 87 88 89 90 91 92 93 94 95 96 97 98 99 100 101 102 103 104 105 106 107 108 109 110 111 112 113 114 115 116 117 118 119 120 121 122 123 124 125 126 127 128 129 130 131 132 133 134 135 136 137 138 139 140 141 142 143 144 145 146 147 148 149 150 151 152 153 154 155 156 157 158 159 160 161 162 163 164 165 166 167 168 169 170 171 172 173 174 175 176 177 178 179 180 181 182 183 184 185 186 187 188 189 190 191 192 193 194 195 196 197 198 199 200 201 202 203 204 205 206 207 208 209 210 211 212 213 214 215 216 217 218 219 220 221 222 223 224 225 226 227 228 229 230 231 232 233 234 235 236 237 238 239 240 241 242 243 244 245 246 247 248 249 250 251 252 253 254 255 256 257 258 259 260 261 262 263 264 265 266 267 268 269 270 271 272 273 274 275 276 277 278 279 280 281 282 283 284 285 286 287 288 289 290 291 292 293 294 295 296 297 298 299 300 301 302 303 304 305 306 307 308 309 310 311 312 313 314 315 316 317 318 319 320 321 322 323 324 325 326 327 328 329 330 331 332 333 334 335 336 337 338 339 340 341 342 343 344 345 346 347 348 349 350 351 352 353 354 355 356 357 358 359 360 361 362 363 364 365 366 367 368 369 370 371 372 373 374 375 376 377 378 379 380 381 382 383 384 385 386 387 388 389 390 391 392 393 394 395 396 397 398 399 400 401 402 403 404 405 406 407 408 409 410 411 412 413 414 415 416 417 418 419 420 421 422 423 424 425 426 427 428 429 430 431 432 433 434 435 436 437 438 439 440 441 442 443 444 445 446 447 448 449 450 451 452 453 454 455 456 457 458 459 460 461 462 463 464 465 466 467 468 469 470 471 472 473 474 475 476 477 478 479 480 481 482 483 484 485 486 487 488 489 490 491 492 493 494 495 496 497 498 499 500 501 502 503 504 505 506 507 508 509 510 511 512 513 514 515 516 517 518 519 520 521 522 523 524 525 526 527 528 529 530 531 532 533 534 535 536 537 538 539 540 541 542 543 544 545 546 547 548 549 550 551 552 553 554 555 556 557 558 559 560 561 562 563 564 565 566 567 568 569 570 571 572 573 574 575 576 577 578 579 580 581 582 583 584 585 586 587 588 589 590 591 592 593 594 595 596 597 598 599 600 601 602 603 604 605 606 607 608 609 610 611 612 613 614 615 616 617 618 619 620 621 622 623 624 625 626 627 628 629 630 631 632 633 634 635 636 637 638 639 640 641 642 643 644 645 646 647 648 649 650 651 652 653 654 655 656 657 658 659 660 661 662 663 664 665 666 667 668 669 670 671 672 673 674 675 676 677 678 679 680 681 682 683 684 685 686 687 688 689 690 691 692 693 694 695 696 697 698 699 700 701 702 703 704 705 706 707 708 709 710 711 712 713 714 715 716 717 718 "
     ]
    },
    {
     "data": {
      "text/html": [
       "<div>\n",
       "<style scoped>\n",
       "    .dataframe tbody tr th:only-of-type {\n",
       "        vertical-align: middle;\n",
       "    }\n",
       "\n",
       "    .dataframe tbody tr th {\n",
       "        vertical-align: top;\n",
       "    }\n",
       "\n",
       "    .dataframe thead th {\n",
       "        text-align: right;\n",
       "    }\n",
       "</style>\n",
       "<table border=\"1\" class=\"dataframe\">\n",
       "  <thead>\n",
       "    <tr style=\"text-align: right;\">\n",
       "      <th></th>\n",
       "      <th>event_time</th>\n",
       "      <th>event_type</th>\n",
       "      <th>product_id</th>\n",
       "      <th>category_id</th>\n",
       "      <th>price</th>\n",
       "      <th>user_id</th>\n",
       "      <th>user_session</th>\n",
       "      <th>user_score</th>\n",
       "      <th>user_purchase</th>\n",
       "      <th>price_category</th>\n",
       "    </tr>\n",
       "  </thead>\n",
       "  <tbody>\n",
       "    <tr>\n",
       "      <th>0</th>\n",
       "      <td>2020-11-20 15:19:47 UTC</td>\n",
       "      <td>view</td>\n",
       "      <td>1642613</td>\n",
       "      <td>2144415938450030080.0</td>\n",
       "      <td>25.56</td>\n",
       "      <td>1.515916e+18</td>\n",
       "      <td>9cdf5Yzi4W</td>\n",
       "      <td>1</td>\n",
       "      <td>0</td>\n",
       "      <td>2.0</td>\n",
       "    </tr>\n",
       "    <tr>\n",
       "      <th>1</th>\n",
       "      <td>2020-10-18 18:29:34 UTC</td>\n",
       "      <td>view</td>\n",
       "      <td>1642613</td>\n",
       "      <td>2144415938450030080.0</td>\n",
       "      <td>25.56</td>\n",
       "      <td>1.515916e+18</td>\n",
       "      <td>DomDtlfN2x</td>\n",
       "      <td>1</td>\n",
       "      <td>0</td>\n",
       "      <td>2.0</td>\n",
       "    </tr>\n",
       "    <tr>\n",
       "      <th>2</th>\n",
       "      <td>2020-11-20 19:18:47 UTC</td>\n",
       "      <td>view</td>\n",
       "      <td>1642613</td>\n",
       "      <td>2144415938450030080.0</td>\n",
       "      <td>25.56</td>\n",
       "      <td>1.515916e+18</td>\n",
       "      <td>N5U9nr75XP</td>\n",
       "      <td>1</td>\n",
       "      <td>0</td>\n",
       "      <td>2.0</td>\n",
       "    </tr>\n",
       "    <tr>\n",
       "      <th>3</th>\n",
       "      <td>2020-12-20 01:25:28 UTC</td>\n",
       "      <td>view</td>\n",
       "      <td>1642613</td>\n",
       "      <td>2144415938450030080.0</td>\n",
       "      <td>25.56</td>\n",
       "      <td>1.515916e+18</td>\n",
       "      <td>apG36IgOcf</td>\n",
       "      <td>1</td>\n",
       "      <td>0</td>\n",
       "      <td>2.0</td>\n",
       "    </tr>\n",
       "    <tr>\n",
       "      <th>4</th>\n",
       "      <td>2021-02-24 15:59:50 UTC</td>\n",
       "      <td>view</td>\n",
       "      <td>1642613</td>\n",
       "      <td>2144415938450030080.0</td>\n",
       "      <td>25.56</td>\n",
       "      <td>1.515916e+18</td>\n",
       "      <td>7CZ3WuPoU3</td>\n",
       "      <td>1</td>\n",
       "      <td>0</td>\n",
       "      <td>2.0</td>\n",
       "    </tr>\n",
       "  </tbody>\n",
       "</table>\n",
       "</div>"
      ],
      "text/plain": [
       "                event_time event_type  product_id            category_id  \\\n",
       "0  2020-11-20 15:19:47 UTC       view     1642613  2144415938450030080.0   \n",
       "1  2020-10-18 18:29:34 UTC       view     1642613  2144415938450030080.0   \n",
       "2  2020-11-20 19:18:47 UTC       view     1642613  2144415938450030080.0   \n",
       "3  2020-12-20 01:25:28 UTC       view     1642613  2144415938450030080.0   \n",
       "4  2021-02-24 15:59:50 UTC       view     1642613  2144415938450030080.0   \n",
       "\n",
       "   price       user_id user_session  user_score  user_purchase  price_category  \n",
       "0  25.56  1.515916e+18   9cdf5Yzi4W           1              0             2.0  \n",
       "1  25.56  1.515916e+18   DomDtlfN2x           1              0             2.0  \n",
       "2  25.56  1.515916e+18   N5U9nr75XP           1              0             2.0  \n",
       "3  25.56  1.515916e+18   apG36IgOcf           1              0             2.0  \n",
       "4  25.56  1.515916e+18   7CZ3WuPoU3           1              0             2.0  "
      ]
     },
     "execution_count": 10,
     "metadata": {},
     "output_type": "execute_result"
    }
   ],
   "source": [
    "df['user_score'] = df['event_type'].map({'view':1,'cart':16,'purchase':48})\n",
    "df['user_purchase'] = df['event_type'].apply(lambda x: 1 if x=='purchase' else 0)\n",
    "df['price_category'] = 0\n",
    "j=0\n",
    "# divide price range into 5 categories (Low to High) for each category code.\n",
    "for i in df['category_id'].unique():\n",
    "    # find all indices of given unique category_code and fill the price_category column of respective indices with 5 category range of price.\n",
    "    df.loc[df['category_id']==i,'price_category'] = pd.qcut(x=df['price'][df['category_id']==i],q=3,labels=False, duplicates = 'drop')\n",
    "    j=j+1\n",
    "    print(j,sep=' ',end=' ',flush=True)\n",
    "\n",
    "df.price_category=df.price_category+1\n",
    "df=df[['event_time','event_type','product_id','category_id','price','user_id','user_session','user_score','user_purchase','price_category']]\n",
    "df.dropna(inplace=True)\n",
    "df.head()"
   ]
  },
  {
   "cell_type": "code",
   "execution_count": 11,
   "id": "4e130b74",
   "metadata": {},
   "outputs": [
    {
     "data": {
      "text/plain": [
       "event_time        0\n",
       "event_type        0\n",
       "product_id        0\n",
       "category_id       0\n",
       "price             0\n",
       "user_id           0\n",
       "user_session      0\n",
       "user_score        0\n",
       "user_purchase     0\n",
       "price_category    0\n",
       "dtype: int64"
      ]
     },
     "execution_count": 11,
     "metadata": {},
     "output_type": "execute_result"
    }
   ],
   "source": [
    "df.isnull().sum()"
   ]
  },
  {
   "cell_type": "code",
   "execution_count": 12,
   "id": "4c2b19d0",
   "metadata": {},
   "outputs": [
    {
     "name": "stdout",
     "output_type": "stream",
     "text": [
      "<class 'pandas.core.frame.DataFrame'>\n",
      "Int64Index: 883693 entries, 0 to 885123\n",
      "Data columns (total 10 columns):\n",
      " #   Column          Non-Null Count   Dtype  \n",
      "---  ------          --------------   -----  \n",
      " 0   event_time      883693 non-null  object \n",
      " 1   event_type      883693 non-null  object \n",
      " 2   product_id      883693 non-null  int64  \n",
      " 3   category_id     883693 non-null  object \n",
      " 4   price           883693 non-null  float64\n",
      " 5   user_id         883693 non-null  float64\n",
      " 6   user_session    883693 non-null  object \n",
      " 7   user_score      883693 non-null  int64  \n",
      " 8   user_purchase   883693 non-null  int64  \n",
      " 9   price_category  883693 non-null  float64\n",
      "dtypes: float64(3), int64(3), object(4)\n",
      "memory usage: 74.2+ MB\n"
     ]
    }
   ],
   "source": [
    "df.info()"
   ]
  },
  {
   "cell_type": "code",
   "execution_count": 13,
   "id": "cf61f91e",
   "metadata": {},
   "outputs": [],
   "source": [
    "df['i_s'] =  df['user_score'] * df['price_category']*df['price']"
   ]
  },
  {
   "cell_type": "code",
   "execution_count": 14,
   "id": "99596cae",
   "metadata": {},
   "outputs": [],
   "source": [
    "# new dataframe grouped by user_id and product_id, for each product id sum of all user scores and user purchases.\n",
    "df = df.groupby(['user_id','event_time'])[['event_type','product_id']].sum().reset_index()\n",
    "\n",
    "std = MinMaxScaler(feature_range=(1,5))\n",
    "std.fit(df['i_s'].values.reshape(-1,1))\n",
    "df['interaction_score'] = std.transform(df['i_s'].values.reshape(-1,1))\n",
    "\n",
    "# group['user_purchase'] = group['user_purchase'].apply(lambda x: 1 if x>1 else x)\n",
    "# group['user_score'] = df['user_score'].apply(lambda x: 100 if x>100 else x)\n",
    "\n",
    "#minmax scaler (1,5) applied on user score to get interaction score.\n",
    "# std = MinMaxScaler(feature_range=(1,5))\n",
    "# std.fit(group['user_score'].values.reshape(-1,1))\n",
    "# group['interaction_score'] = std.transform(group['user_score'].values.reshape(-1,1))\n",
    "\n",
    "# group = group.merge(df[['product_id','category_code','brand','price','price_category']].drop_duplicates('product_id'),on=['product_id'])"
   ]
  },
  {
   "cell_type": "code",
   "execution_count": 15,
   "id": "1b76aacc",
   "metadata": {},
   "outputs": [
    {
     "data": {
      "text/html": [
       "<div>\n",
       "<style scoped>\n",
       "    .dataframe tbody tr th:only-of-type {\n",
       "        vertical-align: middle;\n",
       "    }\n",
       "\n",
       "    .dataframe tbody tr th {\n",
       "        vertical-align: top;\n",
       "    }\n",
       "\n",
       "    .dataframe thead th {\n",
       "        text-align: right;\n",
       "    }\n",
       "</style>\n",
       "<table border=\"1\" class=\"dataframe\">\n",
       "  <thead>\n",
       "    <tr style=\"text-align: right;\">\n",
       "      <th></th>\n",
       "      <th>user_id</th>\n",
       "      <th>event_time</th>\n",
       "      <th>i_s</th>\n",
       "      <th>product_id</th>\n",
       "      <th>interaction_score</th>\n",
       "    </tr>\n",
       "  </thead>\n",
       "  <tbody>\n",
       "    <tr>\n",
       "      <th>0</th>\n",
       "      <td>1.515916e+18</td>\n",
       "      <td>2020-09-29 16:01:54 UTC</td>\n",
       "      <td>722.94</td>\n",
       "      <td>4005145</td>\n",
       "      <td>1.003071</td>\n",
       "    </tr>\n",
       "    <tr>\n",
       "      <th>1</th>\n",
       "      <td>1.515916e+18</td>\n",
       "      <td>2020-09-29 16:02:34 UTC</td>\n",
       "      <td>722.94</td>\n",
       "      <td>4005145</td>\n",
       "      <td>1.003071</td>\n",
       "    </tr>\n",
       "    <tr>\n",
       "      <th>2</th>\n",
       "      <td>1.515916e+18</td>\n",
       "      <td>2020-10-01 05:57:54 UTC</td>\n",
       "      <td>722.94</td>\n",
       "      <td>4005145</td>\n",
       "      <td>1.003071</td>\n",
       "    </tr>\n",
       "    <tr>\n",
       "      <th>3</th>\n",
       "      <td>1.515916e+18</td>\n",
       "      <td>2020-10-02 08:23:40 UTC</td>\n",
       "      <td>274.40</td>\n",
       "      <td>4099840</td>\n",
       "      <td>1.001165</td>\n",
       "    </tr>\n",
       "    <tr>\n",
       "      <th>4</th>\n",
       "      <td>1.515916e+18</td>\n",
       "      <td>2020-10-06 06:30:32 UTC</td>\n",
       "      <td>86.94</td>\n",
       "      <td>3506650</td>\n",
       "      <td>1.000368</td>\n",
       "    </tr>\n",
       "    <tr>\n",
       "      <th>...</th>\n",
       "      <td>...</td>\n",
       "      <td>...</td>\n",
       "      <td>...</td>\n",
       "      <td>...</td>\n",
       "      <td>...</td>\n",
       "    </tr>\n",
       "    <tr>\n",
       "      <th>864451</th>\n",
       "      <td>1.515916e+18</td>\n",
       "      <td>2021-02-28 23:54:18 UTC</td>\n",
       "      <td>64.44</td>\n",
       "      <td>3829355</td>\n",
       "      <td>1.000273</td>\n",
       "    </tr>\n",
       "    <tr>\n",
       "      <th>864452</th>\n",
       "      <td>1.515916e+18</td>\n",
       "      <td>2021-02-28 23:55:01 UTC</td>\n",
       "      <td>659.82</td>\n",
       "      <td>953226</td>\n",
       "      <td>1.002803</td>\n",
       "    </tr>\n",
       "    <tr>\n",
       "      <th>864453</th>\n",
       "      <td>1.515916e+18</td>\n",
       "      <td>2021-02-28 23:58:05 UTC</td>\n",
       "      <td>80.03</td>\n",
       "      <td>1715907</td>\n",
       "      <td>1.000339</td>\n",
       "    </tr>\n",
       "    <tr>\n",
       "      <th>864454</th>\n",
       "      <td>1.515916e+18</td>\n",
       "      <td>2021-02-28 23:58:09 UTC</td>\n",
       "      <td>129.84</td>\n",
       "      <td>4170534</td>\n",
       "      <td>1.000551</td>\n",
       "    </tr>\n",
       "    <tr>\n",
       "      <th>864455</th>\n",
       "      <td>1.515916e+18</td>\n",
       "      <td>2021-02-28 23:58:14 UTC</td>\n",
       "      <td>10.16</td>\n",
       "      <td>888273</td>\n",
       "      <td>1.000042</td>\n",
       "    </tr>\n",
       "  </tbody>\n",
       "</table>\n",
       "<p>864456 rows × 5 columns</p>\n",
       "</div>"
      ],
      "text/plain": [
       "             user_id               event_time     i_s  product_id  \\\n",
       "0       1.515916e+18  2020-09-29 16:01:54 UTC  722.94     4005145   \n",
       "1       1.515916e+18  2020-09-29 16:02:34 UTC  722.94     4005145   \n",
       "2       1.515916e+18  2020-10-01 05:57:54 UTC  722.94     4005145   \n",
       "3       1.515916e+18  2020-10-02 08:23:40 UTC  274.40     4099840   \n",
       "4       1.515916e+18  2020-10-06 06:30:32 UTC   86.94     3506650   \n",
       "...              ...                      ...     ...         ...   \n",
       "864451  1.515916e+18  2021-02-28 23:54:18 UTC   64.44     3829355   \n",
       "864452  1.515916e+18  2021-02-28 23:55:01 UTC  659.82      953226   \n",
       "864453  1.515916e+18  2021-02-28 23:58:05 UTC   80.03     1715907   \n",
       "864454  1.515916e+18  2021-02-28 23:58:09 UTC  129.84     4170534   \n",
       "864455  1.515916e+18  2021-02-28 23:58:14 UTC   10.16      888273   \n",
       "\n",
       "        interaction_score  \n",
       "0                1.003071  \n",
       "1                1.003071  \n",
       "2                1.003071  \n",
       "3                1.001165  \n",
       "4                1.000368  \n",
       "...                   ...  \n",
       "864451           1.000273  \n",
       "864452           1.002803  \n",
       "864453           1.000339  \n",
       "864454           1.000551  \n",
       "864455           1.000042  \n",
       "\n",
       "[864456 rows x 5 columns]"
      ]
     },
     "execution_count": 15,
     "metadata": {},
     "output_type": "execute_result"
    }
   ],
   "source": [
    "df"
   ]
  },
  {
   "cell_type": "code",
   "execution_count": 82,
   "id": "48f0ceb2",
   "metadata": {},
   "outputs": [],
   "source": [
    "df.to_excel(r\"C:\\Users\\Shibbs\\Desktop\\Praxis\\CAPP\\cwd\\datasets\\final\\recommend.xlsx\")"
   ]
  },
  {
   "cell_type": "code",
   "execution_count": 114,
   "id": "e3edf171",
   "metadata": {},
   "outputs": [],
   "source": [
    "#minmax scaler (1,5) applied on user score to get interaction score.\n",
    "\n",
    "\n",
    "# group = group.merge(df[['product_id','category_code','brand','price','price_category']].drop_duplicates('product_id'),on=['product_id'])"
   ]
  },
  {
   "cell_type": "code",
   "execution_count": 115,
   "id": "71444ea7",
   "metadata": {},
   "outputs": [],
   "source": [
    "#df.sort_values(by='event_time', inplace=True)"
   ]
  },
  {
   "cell_type": "code",
   "execution_count": 33,
   "id": "1917383e",
   "metadata": {},
   "outputs": [
    {
     "data": {
      "text/html": [
       "<div>\n",
       "<style scoped>\n",
       "    .dataframe tbody tr th:only-of-type {\n",
       "        vertical-align: middle;\n",
       "    }\n",
       "\n",
       "    .dataframe tbody tr th {\n",
       "        vertical-align: top;\n",
       "    }\n",
       "\n",
       "    .dataframe thead th {\n",
       "        text-align: right;\n",
       "    }\n",
       "</style>\n",
       "<table border=\"1\" class=\"dataframe\">\n",
       "  <thead>\n",
       "    <tr style=\"text-align: right;\">\n",
       "      <th></th>\n",
       "      <th>user_id</th>\n",
       "      <th>event_time</th>\n",
       "      <th>i_s</th>\n",
       "      <th>product_id</th>\n",
       "    </tr>\n",
       "  </thead>\n",
       "  <tbody>\n",
       "    <tr>\n",
       "      <th>0</th>\n",
       "      <td>1.515916e+18</td>\n",
       "      <td>2020-09-29 16:01:54 UTC</td>\n",
       "      <td>3.0</td>\n",
       "      <td>4005145</td>\n",
       "    </tr>\n",
       "    <tr>\n",
       "      <th>1</th>\n",
       "      <td>1.515916e+18</td>\n",
       "      <td>2020-09-29 16:02:34 UTC</td>\n",
       "      <td>3.0</td>\n",
       "      <td>4005145</td>\n",
       "    </tr>\n",
       "    <tr>\n",
       "      <th>2</th>\n",
       "      <td>1.515916e+18</td>\n",
       "      <td>2020-10-01 05:57:54 UTC</td>\n",
       "      <td>3.0</td>\n",
       "      <td>4005145</td>\n",
       "    </tr>\n",
       "    <tr>\n",
       "      <th>3</th>\n",
       "      <td>1.515916e+18</td>\n",
       "      <td>2020-10-02 08:23:40 UTC</td>\n",
       "      <td>1.0</td>\n",
       "      <td>4099840</td>\n",
       "    </tr>\n",
       "    <tr>\n",
       "      <th>4</th>\n",
       "      <td>1.515916e+18</td>\n",
       "      <td>2020-10-06 06:30:32 UTC</td>\n",
       "      <td>3.0</td>\n",
       "      <td>3506650</td>\n",
       "    </tr>\n",
       "    <tr>\n",
       "      <th>...</th>\n",
       "      <td>...</td>\n",
       "      <td>...</td>\n",
       "      <td>...</td>\n",
       "      <td>...</td>\n",
       "    </tr>\n",
       "    <tr>\n",
       "      <th>864451</th>\n",
       "      <td>1.515916e+18</td>\n",
       "      <td>2021-02-28 23:54:18 UTC</td>\n",
       "      <td>2.0</td>\n",
       "      <td>3829355</td>\n",
       "    </tr>\n",
       "    <tr>\n",
       "      <th>864452</th>\n",
       "      <td>1.515916e+18</td>\n",
       "      <td>2021-02-28 23:55:01 UTC</td>\n",
       "      <td>3.0</td>\n",
       "      <td>953226</td>\n",
       "    </tr>\n",
       "    <tr>\n",
       "      <th>864453</th>\n",
       "      <td>1.515916e+18</td>\n",
       "      <td>2021-02-28 23:58:05 UTC</td>\n",
       "      <td>1.0</td>\n",
       "      <td>1715907</td>\n",
       "    </tr>\n",
       "    <tr>\n",
       "      <th>864454</th>\n",
       "      <td>1.515916e+18</td>\n",
       "      <td>2021-02-28 23:58:09 UTC</td>\n",
       "      <td>2.0</td>\n",
       "      <td>4170534</td>\n",
       "    </tr>\n",
       "    <tr>\n",
       "      <th>864455</th>\n",
       "      <td>1.515916e+18</td>\n",
       "      <td>2021-02-28 23:58:14 UTC</td>\n",
       "      <td>1.0</td>\n",
       "      <td>888273</td>\n",
       "    </tr>\n",
       "  </tbody>\n",
       "</table>\n",
       "<p>864456 rows × 4 columns</p>\n",
       "</div>"
      ],
      "text/plain": [
       "             user_id               event_time  i_s  product_id\n",
       "0       1.515916e+18  2020-09-29 16:01:54 UTC  3.0     4005145\n",
       "1       1.515916e+18  2020-09-29 16:02:34 UTC  3.0     4005145\n",
       "2       1.515916e+18  2020-10-01 05:57:54 UTC  3.0     4005145\n",
       "3       1.515916e+18  2020-10-02 08:23:40 UTC  1.0     4099840\n",
       "4       1.515916e+18  2020-10-06 06:30:32 UTC  3.0     3506650\n",
       "...              ...                      ...  ...         ...\n",
       "864451  1.515916e+18  2021-02-28 23:54:18 UTC  2.0     3829355\n",
       "864452  1.515916e+18  2021-02-28 23:55:01 UTC  3.0      953226\n",
       "864453  1.515916e+18  2021-02-28 23:58:05 UTC  1.0     1715907\n",
       "864454  1.515916e+18  2021-02-28 23:58:09 UTC  2.0     4170534\n",
       "864455  1.515916e+18  2021-02-28 23:58:14 UTC  1.0      888273\n",
       "\n",
       "[864456 rows x 4 columns]"
      ]
     },
     "execution_count": 33,
     "metadata": {},
     "output_type": "execute_result"
    }
   ],
   "source": [
    "df"
   ]
  },
  {
   "cell_type": "code",
   "execution_count": 117,
   "id": "9e3b9432",
   "metadata": {},
   "outputs": [],
   "source": [
    "#df = df[['event_time','user_id', 'product_id', 'interaction_score']]"
   ]
  },
  {
   "cell_type": "code",
   "execution_count": 16,
   "id": "ef76701a",
   "metadata": {},
   "outputs": [
    {
     "data": {
      "text/plain": [
       "0.02778190267215901"
      ]
     },
     "execution_count": 16,
     "metadata": {},
     "output_type": "execute_result"
    }
   ],
   "source": [
    "df['interaction_score'].std()"
   ]
  },
  {
   "cell_type": "code",
   "execution_count": 17,
   "id": "2e6e86f4",
   "metadata": {},
   "outputs": [
    {
     "data": {
      "text/plain": [
       "1.0"
      ]
     },
     "execution_count": 17,
     "metadata": {},
     "output_type": "execute_result"
    }
   ],
   "source": [
    "df.interaction_score.min()"
   ]
  },
  {
   "cell_type": "code",
   "execution_count": 18,
   "id": "fe11371c",
   "metadata": {},
   "outputs": [
    {
     "data": {
      "text/plain": [
       "5.0"
      ]
     },
     "execution_count": 18,
     "metadata": {},
     "output_type": "execute_result"
    }
   ],
   "source": [
    "df.interaction_score.max()"
   ]
  },
  {
   "cell_type": "code",
   "execution_count": 19,
   "id": "ddeae0db",
   "metadata": {},
   "outputs": [],
   "source": [
    "df = df[['user_id', 'product_id', 'interaction_score']]"
   ]
  },
  {
   "cell_type": "code",
   "execution_count": 22,
   "id": "bbd96435",
   "metadata": {},
   "outputs": [
    {
     "data": {
      "text/html": [
       "<div>\n",
       "<style scoped>\n",
       "    .dataframe tbody tr th:only-of-type {\n",
       "        vertical-align: middle;\n",
       "    }\n",
       "\n",
       "    .dataframe tbody tr th {\n",
       "        vertical-align: top;\n",
       "    }\n",
       "\n",
       "    .dataframe thead th {\n",
       "        text-align: right;\n",
       "    }\n",
       "</style>\n",
       "<table border=\"1\" class=\"dataframe\">\n",
       "  <thead>\n",
       "    <tr style=\"text-align: right;\">\n",
       "      <th></th>\n",
       "      <th>user_id</th>\n",
       "      <th>product_id</th>\n",
       "      <th>interaction_score</th>\n",
       "    </tr>\n",
       "  </thead>\n",
       "  <tbody>\n",
       "    <tr>\n",
       "      <th>0</th>\n",
       "      <td>1.515916e+18</td>\n",
       "      <td>4005145</td>\n",
       "      <td>1.003071</td>\n",
       "    </tr>\n",
       "    <tr>\n",
       "      <th>1</th>\n",
       "      <td>1.515916e+18</td>\n",
       "      <td>4005145</td>\n",
       "      <td>1.003071</td>\n",
       "    </tr>\n",
       "    <tr>\n",
       "      <th>2</th>\n",
       "      <td>1.515916e+18</td>\n",
       "      <td>4005145</td>\n",
       "      <td>1.003071</td>\n",
       "    </tr>\n",
       "    <tr>\n",
       "      <th>3</th>\n",
       "      <td>1.515916e+18</td>\n",
       "      <td>4099840</td>\n",
       "      <td>1.001165</td>\n",
       "    </tr>\n",
       "    <tr>\n",
       "      <th>4</th>\n",
       "      <td>1.515916e+18</td>\n",
       "      <td>3506650</td>\n",
       "      <td>1.000368</td>\n",
       "    </tr>\n",
       "    <tr>\n",
       "      <th>...</th>\n",
       "      <td>...</td>\n",
       "      <td>...</td>\n",
       "      <td>...</td>\n",
       "    </tr>\n",
       "    <tr>\n",
       "      <th>864451</th>\n",
       "      <td>1.515916e+18</td>\n",
       "      <td>3829355</td>\n",
       "      <td>1.000273</td>\n",
       "    </tr>\n",
       "    <tr>\n",
       "      <th>864452</th>\n",
       "      <td>1.515916e+18</td>\n",
       "      <td>953226</td>\n",
       "      <td>1.002803</td>\n",
       "    </tr>\n",
       "    <tr>\n",
       "      <th>864453</th>\n",
       "      <td>1.515916e+18</td>\n",
       "      <td>1715907</td>\n",
       "      <td>1.000339</td>\n",
       "    </tr>\n",
       "    <tr>\n",
       "      <th>864454</th>\n",
       "      <td>1.515916e+18</td>\n",
       "      <td>4170534</td>\n",
       "      <td>1.000551</td>\n",
       "    </tr>\n",
       "    <tr>\n",
       "      <th>864455</th>\n",
       "      <td>1.515916e+18</td>\n",
       "      <td>888273</td>\n",
       "      <td>1.000042</td>\n",
       "    </tr>\n",
       "  </tbody>\n",
       "</table>\n",
       "<p>864456 rows × 3 columns</p>\n",
       "</div>"
      ],
      "text/plain": [
       "             user_id  product_id  interaction_score\n",
       "0       1.515916e+18     4005145           1.003071\n",
       "1       1.515916e+18     4005145           1.003071\n",
       "2       1.515916e+18     4005145           1.003071\n",
       "3       1.515916e+18     4099840           1.001165\n",
       "4       1.515916e+18     3506650           1.000368\n",
       "...              ...         ...                ...\n",
       "864451  1.515916e+18     3829355           1.000273\n",
       "864452  1.515916e+18      953226           1.002803\n",
       "864453  1.515916e+18     1715907           1.000339\n",
       "864454  1.515916e+18     4170534           1.000551\n",
       "864455  1.515916e+18      888273           1.000042\n",
       "\n",
       "[864456 rows x 3 columns]"
      ]
     },
     "execution_count": 22,
     "metadata": {},
     "output_type": "execute_result"
    }
   ],
   "source": [
    "df"
   ]
  },
  {
   "cell_type": "code",
   "execution_count": 25,
   "id": "58a5edd7",
   "metadata": {},
   "outputs": [
    {
     "ename": "KeyboardInterrupt",
     "evalue": "",
     "output_type": "error",
     "traceback": [
      "\u001b[1;31m---------------------------------------------------------------------------\u001b[0m",
      "\u001b[1;31mKeyboardInterrupt\u001b[0m                         Traceback (most recent call last)",
      "\u001b[1;32m~\\AppData\\Local\\Temp/ipykernel_2868/2939470603.py\u001b[0m in \u001b[0;36m<module>\u001b[1;34m\u001b[0m\n\u001b[0;32m      8\u001b[0m \u001b[1;33m\u001b[0m\u001b[0m\n\u001b[0;32m      9\u001b[0m  \u001b[1;31m# Perform cross validation\u001b[0m\u001b[1;33m\u001b[0m\u001b[1;33m\u001b[0m\u001b[0m\n\u001b[1;32m---> 10\u001b[1;33m  \u001b[0mresults\u001b[0m \u001b[1;33m=\u001b[0m \u001b[0mcross_validate\u001b[0m\u001b[1;33m(\u001b[0m\u001b[0malgorithm\u001b[0m\u001b[1;33m,\u001b[0m \u001b[0mdata\u001b[0m\u001b[1;33m,\u001b[0m \u001b[0mmeasures\u001b[0m\u001b[1;33m=\u001b[0m\u001b[1;33m[\u001b[0m\u001b[1;34m'RMSE'\u001b[0m\u001b[1;33m]\u001b[0m\u001b[1;33m,\u001b[0m \u001b[0mcv\u001b[0m\u001b[1;33m=\u001b[0m\u001b[1;36m3\u001b[0m\u001b[1;33m,\u001b[0m \u001b[0mverbose\u001b[0m\u001b[1;33m=\u001b[0m\u001b[1;32mFalse\u001b[0m\u001b[1;33m)\u001b[0m\u001b[1;33m\u001b[0m\u001b[1;33m\u001b[0m\u001b[0m\n\u001b[0m\u001b[0;32m     11\u001b[0m \u001b[1;33m\u001b[0m\u001b[0m\n\u001b[0;32m     12\u001b[0m  \u001b[1;31m# Get results & append algorithm name\u001b[0m\u001b[1;33m\u001b[0m\u001b[1;33m\u001b[0m\u001b[0m\n",
      "\u001b[1;32m~\\anaconda3\\lib\\site-packages\\surprise\\model_selection\\validation.py\u001b[0m in \u001b[0;36mcross_validate\u001b[1;34m(algo, data, measures, cv, return_train_measures, n_jobs, pre_dispatch, verbose)\u001b[0m\n\u001b[0;32m    101\u001b[0m                                            return_train_measures)\n\u001b[0;32m    102\u001b[0m                     for (trainset, testset) in cv.split(data))\n\u001b[1;32m--> 103\u001b[1;33m     \u001b[0mout\u001b[0m \u001b[1;33m=\u001b[0m \u001b[0mParallel\u001b[0m\u001b[1;33m(\u001b[0m\u001b[0mn_jobs\u001b[0m\u001b[1;33m=\u001b[0m\u001b[0mn_jobs\u001b[0m\u001b[1;33m,\u001b[0m \u001b[0mpre_dispatch\u001b[0m\u001b[1;33m=\u001b[0m\u001b[0mpre_dispatch\u001b[0m\u001b[1;33m)\u001b[0m\u001b[1;33m(\u001b[0m\u001b[0mdelayed_list\u001b[0m\u001b[1;33m)\u001b[0m\u001b[1;33m\u001b[0m\u001b[1;33m\u001b[0m\u001b[0m\n\u001b[0m\u001b[0;32m    104\u001b[0m \u001b[1;33m\u001b[0m\u001b[0m\n\u001b[0;32m    105\u001b[0m     (test_measures_dicts,\n",
      "\u001b[1;32m~\\anaconda3\\lib\\site-packages\\joblib\\parallel.py\u001b[0m in \u001b[0;36m__call__\u001b[1;34m(self, iterable)\u001b[0m\n\u001b[0;32m   1041\u001b[0m             \u001b[1;31m# remaining jobs.\u001b[0m\u001b[1;33m\u001b[0m\u001b[1;33m\u001b[0m\u001b[0m\n\u001b[0;32m   1042\u001b[0m             \u001b[0mself\u001b[0m\u001b[1;33m.\u001b[0m\u001b[0m_iterating\u001b[0m \u001b[1;33m=\u001b[0m \u001b[1;32mFalse\u001b[0m\u001b[1;33m\u001b[0m\u001b[1;33m\u001b[0m\u001b[0m\n\u001b[1;32m-> 1043\u001b[1;33m             \u001b[1;32mif\u001b[0m \u001b[0mself\u001b[0m\u001b[1;33m.\u001b[0m\u001b[0mdispatch_one_batch\u001b[0m\u001b[1;33m(\u001b[0m\u001b[0miterator\u001b[0m\u001b[1;33m)\u001b[0m\u001b[1;33m:\u001b[0m\u001b[1;33m\u001b[0m\u001b[1;33m\u001b[0m\u001b[0m\n\u001b[0m\u001b[0;32m   1044\u001b[0m                 \u001b[0mself\u001b[0m\u001b[1;33m.\u001b[0m\u001b[0m_iterating\u001b[0m \u001b[1;33m=\u001b[0m \u001b[0mself\u001b[0m\u001b[1;33m.\u001b[0m\u001b[0m_original_iterator\u001b[0m \u001b[1;32mis\u001b[0m \u001b[1;32mnot\u001b[0m \u001b[1;32mNone\u001b[0m\u001b[1;33m\u001b[0m\u001b[1;33m\u001b[0m\u001b[0m\n\u001b[0;32m   1045\u001b[0m \u001b[1;33m\u001b[0m\u001b[0m\n",
      "\u001b[1;32m~\\anaconda3\\lib\\site-packages\\joblib\\parallel.py\u001b[0m in \u001b[0;36mdispatch_one_batch\u001b[1;34m(self, iterator)\u001b[0m\n\u001b[0;32m    859\u001b[0m                 \u001b[1;32mreturn\u001b[0m \u001b[1;32mFalse\u001b[0m\u001b[1;33m\u001b[0m\u001b[1;33m\u001b[0m\u001b[0m\n\u001b[0;32m    860\u001b[0m             \u001b[1;32melse\u001b[0m\u001b[1;33m:\u001b[0m\u001b[1;33m\u001b[0m\u001b[1;33m\u001b[0m\u001b[0m\n\u001b[1;32m--> 861\u001b[1;33m                 \u001b[0mself\u001b[0m\u001b[1;33m.\u001b[0m\u001b[0m_dispatch\u001b[0m\u001b[1;33m(\u001b[0m\u001b[0mtasks\u001b[0m\u001b[1;33m)\u001b[0m\u001b[1;33m\u001b[0m\u001b[1;33m\u001b[0m\u001b[0m\n\u001b[0m\u001b[0;32m    862\u001b[0m                 \u001b[1;32mreturn\u001b[0m \u001b[1;32mTrue\u001b[0m\u001b[1;33m\u001b[0m\u001b[1;33m\u001b[0m\u001b[0m\n\u001b[0;32m    863\u001b[0m \u001b[1;33m\u001b[0m\u001b[0m\n",
      "\u001b[1;32m~\\anaconda3\\lib\\site-packages\\joblib\\parallel.py\u001b[0m in \u001b[0;36m_dispatch\u001b[1;34m(self, batch)\u001b[0m\n\u001b[0;32m    777\u001b[0m         \u001b[1;32mwith\u001b[0m \u001b[0mself\u001b[0m\u001b[1;33m.\u001b[0m\u001b[0m_lock\u001b[0m\u001b[1;33m:\u001b[0m\u001b[1;33m\u001b[0m\u001b[1;33m\u001b[0m\u001b[0m\n\u001b[0;32m    778\u001b[0m             \u001b[0mjob_idx\u001b[0m \u001b[1;33m=\u001b[0m \u001b[0mlen\u001b[0m\u001b[1;33m(\u001b[0m\u001b[0mself\u001b[0m\u001b[1;33m.\u001b[0m\u001b[0m_jobs\u001b[0m\u001b[1;33m)\u001b[0m\u001b[1;33m\u001b[0m\u001b[1;33m\u001b[0m\u001b[0m\n\u001b[1;32m--> 779\u001b[1;33m             \u001b[0mjob\u001b[0m \u001b[1;33m=\u001b[0m \u001b[0mself\u001b[0m\u001b[1;33m.\u001b[0m\u001b[0m_backend\u001b[0m\u001b[1;33m.\u001b[0m\u001b[0mapply_async\u001b[0m\u001b[1;33m(\u001b[0m\u001b[0mbatch\u001b[0m\u001b[1;33m,\u001b[0m \u001b[0mcallback\u001b[0m\u001b[1;33m=\u001b[0m\u001b[0mcb\u001b[0m\u001b[1;33m)\u001b[0m\u001b[1;33m\u001b[0m\u001b[1;33m\u001b[0m\u001b[0m\n\u001b[0m\u001b[0;32m    780\u001b[0m             \u001b[1;31m# A job can complete so quickly than its callback is\u001b[0m\u001b[1;33m\u001b[0m\u001b[1;33m\u001b[0m\u001b[0m\n\u001b[0;32m    781\u001b[0m             \u001b[1;31m# called before we get here, causing self._jobs to\u001b[0m\u001b[1;33m\u001b[0m\u001b[1;33m\u001b[0m\u001b[0m\n",
      "\u001b[1;32m~\\anaconda3\\lib\\site-packages\\joblib\\_parallel_backends.py\u001b[0m in \u001b[0;36mapply_async\u001b[1;34m(self, func, callback)\u001b[0m\n\u001b[0;32m    206\u001b[0m     \u001b[1;32mdef\u001b[0m \u001b[0mapply_async\u001b[0m\u001b[1;33m(\u001b[0m\u001b[0mself\u001b[0m\u001b[1;33m,\u001b[0m \u001b[0mfunc\u001b[0m\u001b[1;33m,\u001b[0m \u001b[0mcallback\u001b[0m\u001b[1;33m=\u001b[0m\u001b[1;32mNone\u001b[0m\u001b[1;33m)\u001b[0m\u001b[1;33m:\u001b[0m\u001b[1;33m\u001b[0m\u001b[1;33m\u001b[0m\u001b[0m\n\u001b[0;32m    207\u001b[0m         \u001b[1;34m\"\"\"Schedule a func to be run\"\"\"\u001b[0m\u001b[1;33m\u001b[0m\u001b[1;33m\u001b[0m\u001b[0m\n\u001b[1;32m--> 208\u001b[1;33m         \u001b[0mresult\u001b[0m \u001b[1;33m=\u001b[0m \u001b[0mImmediateResult\u001b[0m\u001b[1;33m(\u001b[0m\u001b[0mfunc\u001b[0m\u001b[1;33m)\u001b[0m\u001b[1;33m\u001b[0m\u001b[1;33m\u001b[0m\u001b[0m\n\u001b[0m\u001b[0;32m    209\u001b[0m         \u001b[1;32mif\u001b[0m \u001b[0mcallback\u001b[0m\u001b[1;33m:\u001b[0m\u001b[1;33m\u001b[0m\u001b[1;33m\u001b[0m\u001b[0m\n\u001b[0;32m    210\u001b[0m             \u001b[0mcallback\u001b[0m\u001b[1;33m(\u001b[0m\u001b[0mresult\u001b[0m\u001b[1;33m)\u001b[0m\u001b[1;33m\u001b[0m\u001b[1;33m\u001b[0m\u001b[0m\n",
      "\u001b[1;32m~\\anaconda3\\lib\\site-packages\\joblib\\_parallel_backends.py\u001b[0m in \u001b[0;36m__init__\u001b[1;34m(self, batch)\u001b[0m\n\u001b[0;32m    570\u001b[0m         \u001b[1;31m# Don't delay the application, to avoid keeping the input\u001b[0m\u001b[1;33m\u001b[0m\u001b[1;33m\u001b[0m\u001b[0m\n\u001b[0;32m    571\u001b[0m         \u001b[1;31m# arguments in memory\u001b[0m\u001b[1;33m\u001b[0m\u001b[1;33m\u001b[0m\u001b[0m\n\u001b[1;32m--> 572\u001b[1;33m         \u001b[0mself\u001b[0m\u001b[1;33m.\u001b[0m\u001b[0mresults\u001b[0m \u001b[1;33m=\u001b[0m \u001b[0mbatch\u001b[0m\u001b[1;33m(\u001b[0m\u001b[1;33m)\u001b[0m\u001b[1;33m\u001b[0m\u001b[1;33m\u001b[0m\u001b[0m\n\u001b[0m\u001b[0;32m    573\u001b[0m \u001b[1;33m\u001b[0m\u001b[0m\n\u001b[0;32m    574\u001b[0m     \u001b[1;32mdef\u001b[0m \u001b[0mget\u001b[0m\u001b[1;33m(\u001b[0m\u001b[0mself\u001b[0m\u001b[1;33m)\u001b[0m\u001b[1;33m:\u001b[0m\u001b[1;33m\u001b[0m\u001b[1;33m\u001b[0m\u001b[0m\n",
      "\u001b[1;32m~\\anaconda3\\lib\\site-packages\\joblib\\parallel.py\u001b[0m in \u001b[0;36m__call__\u001b[1;34m(self)\u001b[0m\n\u001b[0;32m    260\u001b[0m         \u001b[1;31m# change the default number of processes to -1\u001b[0m\u001b[1;33m\u001b[0m\u001b[1;33m\u001b[0m\u001b[0m\n\u001b[0;32m    261\u001b[0m         \u001b[1;32mwith\u001b[0m \u001b[0mparallel_backend\u001b[0m\u001b[1;33m(\u001b[0m\u001b[0mself\u001b[0m\u001b[1;33m.\u001b[0m\u001b[0m_backend\u001b[0m\u001b[1;33m,\u001b[0m \u001b[0mn_jobs\u001b[0m\u001b[1;33m=\u001b[0m\u001b[0mself\u001b[0m\u001b[1;33m.\u001b[0m\u001b[0m_n_jobs\u001b[0m\u001b[1;33m)\u001b[0m\u001b[1;33m:\u001b[0m\u001b[1;33m\u001b[0m\u001b[1;33m\u001b[0m\u001b[0m\n\u001b[1;32m--> 262\u001b[1;33m             return [func(*args, **kwargs)\n\u001b[0m\u001b[0;32m    263\u001b[0m                     for func, args, kwargs in self.items]\n\u001b[0;32m    264\u001b[0m \u001b[1;33m\u001b[0m\u001b[0m\n",
      "\u001b[1;32m~\\anaconda3\\lib\\site-packages\\joblib\\parallel.py\u001b[0m in \u001b[0;36m<listcomp>\u001b[1;34m(.0)\u001b[0m\n\u001b[0;32m    260\u001b[0m         \u001b[1;31m# change the default number of processes to -1\u001b[0m\u001b[1;33m\u001b[0m\u001b[1;33m\u001b[0m\u001b[0m\n\u001b[0;32m    261\u001b[0m         \u001b[1;32mwith\u001b[0m \u001b[0mparallel_backend\u001b[0m\u001b[1;33m(\u001b[0m\u001b[0mself\u001b[0m\u001b[1;33m.\u001b[0m\u001b[0m_backend\u001b[0m\u001b[1;33m,\u001b[0m \u001b[0mn_jobs\u001b[0m\u001b[1;33m=\u001b[0m\u001b[0mself\u001b[0m\u001b[1;33m.\u001b[0m\u001b[0m_n_jobs\u001b[0m\u001b[1;33m)\u001b[0m\u001b[1;33m:\u001b[0m\u001b[1;33m\u001b[0m\u001b[1;33m\u001b[0m\u001b[0m\n\u001b[1;32m--> 262\u001b[1;33m             return [func(*args, **kwargs)\n\u001b[0m\u001b[0;32m    263\u001b[0m                     for func, args, kwargs in self.items]\n\u001b[0;32m    264\u001b[0m \u001b[1;33m\u001b[0m\u001b[0m\n",
      "\u001b[1;32m~\\anaconda3\\lib\\site-packages\\surprise\\model_selection\\validation.py\u001b[0m in \u001b[0;36mfit_and_score\u001b[1;34m(algo, trainset, testset, measures, return_train_measures)\u001b[0m\n\u001b[0;32m    167\u001b[0m     \u001b[0mfit_time\u001b[0m \u001b[1;33m=\u001b[0m \u001b[0mtime\u001b[0m\u001b[1;33m.\u001b[0m\u001b[0mtime\u001b[0m\u001b[1;33m(\u001b[0m\u001b[1;33m)\u001b[0m \u001b[1;33m-\u001b[0m \u001b[0mstart_fit\u001b[0m\u001b[1;33m\u001b[0m\u001b[1;33m\u001b[0m\u001b[0m\n\u001b[0;32m    168\u001b[0m     \u001b[0mstart_test\u001b[0m \u001b[1;33m=\u001b[0m \u001b[0mtime\u001b[0m\u001b[1;33m.\u001b[0m\u001b[0mtime\u001b[0m\u001b[1;33m(\u001b[0m\u001b[1;33m)\u001b[0m\u001b[1;33m\u001b[0m\u001b[1;33m\u001b[0m\u001b[0m\n\u001b[1;32m--> 169\u001b[1;33m     \u001b[0mpredictions\u001b[0m \u001b[1;33m=\u001b[0m \u001b[0malgo\u001b[0m\u001b[1;33m.\u001b[0m\u001b[0mtest\u001b[0m\u001b[1;33m(\u001b[0m\u001b[0mtestset\u001b[0m\u001b[1;33m)\u001b[0m\u001b[1;33m\u001b[0m\u001b[1;33m\u001b[0m\u001b[0m\n\u001b[0m\u001b[0;32m    170\u001b[0m     \u001b[0mtest_time\u001b[0m \u001b[1;33m=\u001b[0m \u001b[0mtime\u001b[0m\u001b[1;33m.\u001b[0m\u001b[0mtime\u001b[0m\u001b[1;33m(\u001b[0m\u001b[1;33m)\u001b[0m \u001b[1;33m-\u001b[0m \u001b[0mstart_test\u001b[0m\u001b[1;33m\u001b[0m\u001b[1;33m\u001b[0m\u001b[0m\n\u001b[0;32m    171\u001b[0m \u001b[1;33m\u001b[0m\u001b[0m\n",
      "\u001b[1;32m~\\anaconda3\\lib\\site-packages\\surprise\\prediction_algorithms\\algo_base.py\u001b[0m in \u001b[0;36mtest\u001b[1;34m(self, testset, verbose)\u001b[0m\n\u001b[0;32m    162\u001b[0m \u001b[1;33m\u001b[0m\u001b[0m\n\u001b[0;32m    163\u001b[0m         \u001b[1;31m# The ratings are translated back to their original scale.\u001b[0m\u001b[1;33m\u001b[0m\u001b[1;33m\u001b[0m\u001b[0m\n\u001b[1;32m--> 164\u001b[1;33m         predictions = [self.predict(uid,\n\u001b[0m\u001b[0;32m    165\u001b[0m                                     \u001b[0miid\u001b[0m\u001b[1;33m,\u001b[0m\u001b[1;33m\u001b[0m\u001b[1;33m\u001b[0m\u001b[0m\n\u001b[0;32m    166\u001b[0m                                     \u001b[0mr_ui_trans\u001b[0m\u001b[1;33m,\u001b[0m\u001b[1;33m\u001b[0m\u001b[1;33m\u001b[0m\u001b[0m\n",
      "\u001b[1;32m~\\anaconda3\\lib\\site-packages\\surprise\\prediction_algorithms\\algo_base.py\u001b[0m in \u001b[0;36m<listcomp>\u001b[1;34m(.0)\u001b[0m\n\u001b[0;32m    162\u001b[0m \u001b[1;33m\u001b[0m\u001b[0m\n\u001b[0;32m    163\u001b[0m         \u001b[1;31m# The ratings are translated back to their original scale.\u001b[0m\u001b[1;33m\u001b[0m\u001b[1;33m\u001b[0m\u001b[0m\n\u001b[1;32m--> 164\u001b[1;33m         predictions = [self.predict(uid,\n\u001b[0m\u001b[0;32m    165\u001b[0m                                     \u001b[0miid\u001b[0m\u001b[1;33m,\u001b[0m\u001b[1;33m\u001b[0m\u001b[1;33m\u001b[0m\u001b[0m\n\u001b[0;32m    166\u001b[0m                                     \u001b[0mr_ui_trans\u001b[0m\u001b[1;33m,\u001b[0m\u001b[1;33m\u001b[0m\u001b[1;33m\u001b[0m\u001b[0m\n",
      "\u001b[1;32m~\\anaconda3\\lib\\site-packages\\surprise\\prediction_algorithms\\algo_base.py\u001b[0m in \u001b[0;36mpredict\u001b[1;34m(self, uid, iid, r_ui, clip, verbose)\u001b[0m\n\u001b[0;32m    107\u001b[0m \u001b[1;33m\u001b[0m\u001b[0m\n\u001b[0;32m    108\u001b[0m             \u001b[1;31m# If the details dict was also returned\u001b[0m\u001b[1;33m\u001b[0m\u001b[1;33m\u001b[0m\u001b[0m\n\u001b[1;32m--> 109\u001b[1;33m             \u001b[1;32mif\u001b[0m \u001b[0misinstance\u001b[0m\u001b[1;33m(\u001b[0m\u001b[0mest\u001b[0m\u001b[1;33m,\u001b[0m \u001b[0mtuple\u001b[0m\u001b[1;33m)\u001b[0m\u001b[1;33m:\u001b[0m\u001b[1;33m\u001b[0m\u001b[1;33m\u001b[0m\u001b[0m\n\u001b[0m\u001b[0;32m    110\u001b[0m                 \u001b[0mest\u001b[0m\u001b[1;33m,\u001b[0m \u001b[0mdetails\u001b[0m \u001b[1;33m=\u001b[0m \u001b[0mest\u001b[0m\u001b[1;33m\u001b[0m\u001b[1;33m\u001b[0m\u001b[0m\n\u001b[0;32m    111\u001b[0m \u001b[1;33m\u001b[0m\u001b[0m\n",
      "\u001b[1;31mKeyboardInterrupt\u001b[0m: "
     ]
    }
   ],
   "source": [
    "reader = Reader(rating_scale=(1.0,5.0))\n",
    "data = Dataset.load_from_df(df, reader)\n",
    "benchmark = []\n",
    "# Iterate over all algorithms\n",
    "for algorithm in [SVD(), SVDpp(), SlopeOne(), NMF(), NormalPredictor(), \n",
    "                  KNNBaseline(), KNNBasic(), KNNWithMeans(), KNNWithZScore(), \n",
    "                  BaselineOnly()]:\n",
    "    \n",
    " # Perform cross validation\n",
    " results = cross_validate(algorithm, data, measures=['RMSE'], cv=3, verbose=False)\n",
    " \n",
    " # Get results & append algorithm name\n",
    " tmp = pd.DataFrame.from_dict(results).mean(axis=0)\n",
    " tmp = tmp.append(pd.Series([str(algorithm).split(' ')[0].split('.')[-1]], index=['Algorithm']))\n",
    " benchmark.append(tmp)"
   ]
  },
  {
   "cell_type": "code",
   "execution_count": null,
   "id": "441f87a4",
   "metadata": {},
   "outputs": [],
   "source": [
    "surprise_results = pd.DataFrame(benchmark).set_index('Algorithm').sort_values('test_rmse')\n",
    "surprise_results"
   ]
  },
  {
   "cell_type": "code",
   "execution_count": 70,
   "id": "ac68224d",
   "metadata": {},
   "outputs": [
    {
     "name": "stdout",
     "output_type": "stream",
     "text": [
      "Estimating biases using als...\n",
      "RMSE: 0.0245\n"
     ]
    },
    {
     "data": {
      "text/plain": [
       "0.02452238104745542"
      ]
     },
     "execution_count": 70,
     "metadata": {},
     "output_type": "execute_result"
    }
   ],
   "source": [
    "bsl_options = {'method': 'als',\n",
    "               'n_epochs': 5,\n",
    "               'reg_u': 12,\n",
    "               'reg_i': 5\n",
    "               }\n",
    "\n",
    "reader = Reader(rating_scale=(df.interaction_score.min(),df.interaction_score.max()))\n",
    "\n",
    "data = Dataset.load_from_df(df, reader)\n",
    "trainset, testset = train_test_split(data, test_size=0.3)\n",
    "algo = BaselineOnly(bsl_options=bsl_options)\n",
    "predictions = algo.fit(trainset).test(testset)\n",
    "accuracy.rmse(predictions)"
   ]
  },
  {
   "cell_type": "code",
   "execution_count": null,
   "id": "13c368d6",
   "metadata": {},
   "outputs": [],
   "source": []
  }
 ],
 "metadata": {
  "kernelspec": {
   "display_name": "Python 3 (ipykernel)",
   "language": "python",
   "name": "python3"
  },
  "language_info": {
   "codemirror_mode": {
    "name": "ipython",
    "version": 3
   },
   "file_extension": ".py",
   "mimetype": "text/x-python",
   "name": "python",
   "nbconvert_exporter": "python",
   "pygments_lexer": "ipython3",
   "version": "3.9.7"
  }
 },
 "nbformat": 4,
 "nbformat_minor": 5
}
