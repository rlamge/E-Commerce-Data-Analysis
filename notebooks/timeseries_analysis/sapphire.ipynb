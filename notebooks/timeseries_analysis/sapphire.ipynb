{
  "nbformat": 4,
  "nbformat_minor": 0,
  "metadata": {
    "colab": {
      "name": "sapphire.ipynb",
      "provenance": [],
      "collapsed_sections": []
    },
    "kernelspec": {
      "name": "python3",
      "display_name": "Python 3"
    },
    "language_info": {
      "name": "python"
    }
  },
  "cells": [
    {
      "cell_type": "code",
      "execution_count": 1,
      "metadata": {
        "colab": {
          "base_uri": "https://localhost:8080/"
        },
        "id": "m0MJMg4nQ2KR",
        "outputId": "2db80382-d03d-46fe-ab42-62a6a0d98304"
      },
      "outputs": [
        {
          "output_type": "stream",
          "name": "stdout",
          "text": [
            "Requirement already satisfied: statsmodels in /usr/local/lib/python3.7/dist-packages (0.10.2)\n",
            "Collecting statsmodels\n",
            "  Downloading statsmodels-0.13.2-cp37-cp37m-manylinux_2_17_x86_64.manylinux2014_x86_64.whl (9.8 MB)\n",
            "\u001b[K     |████████████████████████████████| 9.8 MB 2.6 MB/s \n",
            "\u001b[?25hRequirement already satisfied: patsy>=0.5.2 in /usr/local/lib/python3.7/dist-packages (from statsmodels) (0.5.2)\n",
            "Requirement already satisfied: numpy>=1.17 in /usr/local/lib/python3.7/dist-packages (from statsmodels) (1.21.6)\n",
            "Requirement already satisfied: scipy>=1.3 in /usr/local/lib/python3.7/dist-packages (from statsmodels) (1.4.1)\n",
            "Requirement already satisfied: pandas>=0.25 in /usr/local/lib/python3.7/dist-packages (from statsmodels) (1.3.5)\n",
            "Requirement already satisfied: packaging>=21.3 in /usr/local/lib/python3.7/dist-packages (from statsmodels) (21.3)\n",
            "Requirement already satisfied: pyparsing!=3.0.5,>=2.0.2 in /usr/local/lib/python3.7/dist-packages (from packaging>=21.3->statsmodels) (3.0.8)\n",
            "Requirement already satisfied: pytz>=2017.3 in /usr/local/lib/python3.7/dist-packages (from pandas>=0.25->statsmodels) (2022.1)\n",
            "Requirement already satisfied: python-dateutil>=2.7.3 in /usr/local/lib/python3.7/dist-packages (from pandas>=0.25->statsmodels) (2.8.2)\n",
            "Requirement already satisfied: six in /usr/local/lib/python3.7/dist-packages (from patsy>=0.5.2->statsmodels) (1.15.0)\n",
            "Installing collected packages: statsmodels\n",
            "  Attempting uninstall: statsmodels\n",
            "    Found existing installation: statsmodels 0.10.2\n",
            "    Uninstalling statsmodels-0.10.2:\n",
            "      Successfully uninstalled statsmodels-0.10.2\n",
            "Successfully installed statsmodels-0.13.2\n"
          ]
        }
      ],
      "source": [
        "!pip install statsmodels --upgrade"
      ]
    },
    {
      "cell_type": "code",
      "source": [
        "import pandas as pd\n",
        "import numpy as np\n",
        "from matplotlib import pyplot as plt\n",
        "%matplotlib inline"
      ],
      "metadata": {
        "id": "2EkkC3dCQ5ah"
      },
      "execution_count": 2,
      "outputs": []
    },
    {
      "cell_type": "code",
      "source": [
        "series=pd.read_excel(\"/content/sapphire.xlsx\")"
      ],
      "metadata": {
        "id": "4A6qoDxBQ5U2"
      },
      "execution_count": 3,
      "outputs": []
    },
    {
      "cell_type": "code",
      "source": [
        "series.head()"
      ],
      "metadata": {
        "colab": {
          "base_uri": "https://localhost:8080/",
          "height": 206
        },
        "id": "16WTUoO2Q5P8",
        "outputId": "a835c79c-da24-489f-b6f5-aaa948e3e001"
      },
      "execution_count": 4,
      "outputs": [
        {
          "output_type": "execute_result",
          "data": {
            "text/plain": [
              "  event_time  price_sap\n",
              "0 2020-10-26     214.10\n",
              "1 2020-12-17     415.54\n",
              "2 2020-12-17     415.54\n",
              "3 2021-02-18     415.54\n",
              "4 2021-02-18     415.54"
            ],
            "text/html": [
              "\n",
              "  <div id=\"df-e5067f3c-711f-4938-8dc6-e2dd89e0674d\">\n",
              "    <div class=\"colab-df-container\">\n",
              "      <div>\n",
              "<style scoped>\n",
              "    .dataframe tbody tr th:only-of-type {\n",
              "        vertical-align: middle;\n",
              "    }\n",
              "\n",
              "    .dataframe tbody tr th {\n",
              "        vertical-align: top;\n",
              "    }\n",
              "\n",
              "    .dataframe thead th {\n",
              "        text-align: right;\n",
              "    }\n",
              "</style>\n",
              "<table border=\"1\" class=\"dataframe\">\n",
              "  <thead>\n",
              "    <tr style=\"text-align: right;\">\n",
              "      <th></th>\n",
              "      <th>event_time</th>\n",
              "      <th>price_sap</th>\n",
              "    </tr>\n",
              "  </thead>\n",
              "  <tbody>\n",
              "    <tr>\n",
              "      <th>0</th>\n",
              "      <td>2020-10-26</td>\n",
              "      <td>214.10</td>\n",
              "    </tr>\n",
              "    <tr>\n",
              "      <th>1</th>\n",
              "      <td>2020-12-17</td>\n",
              "      <td>415.54</td>\n",
              "    </tr>\n",
              "    <tr>\n",
              "      <th>2</th>\n",
              "      <td>2020-12-17</td>\n",
              "      <td>415.54</td>\n",
              "    </tr>\n",
              "    <tr>\n",
              "      <th>3</th>\n",
              "      <td>2021-02-18</td>\n",
              "      <td>415.54</td>\n",
              "    </tr>\n",
              "    <tr>\n",
              "      <th>4</th>\n",
              "      <td>2021-02-18</td>\n",
              "      <td>415.54</td>\n",
              "    </tr>\n",
              "  </tbody>\n",
              "</table>\n",
              "</div>\n",
              "      <button class=\"colab-df-convert\" onclick=\"convertToInteractive('df-e5067f3c-711f-4938-8dc6-e2dd89e0674d')\"\n",
              "              title=\"Convert this dataframe to an interactive table.\"\n",
              "              style=\"display:none;\">\n",
              "        \n",
              "  <svg xmlns=\"http://www.w3.org/2000/svg\" height=\"24px\"viewBox=\"0 0 24 24\"\n",
              "       width=\"24px\">\n",
              "    <path d=\"M0 0h24v24H0V0z\" fill=\"none\"/>\n",
              "    <path d=\"M18.56 5.44l.94 2.06.94-2.06 2.06-.94-2.06-.94-.94-2.06-.94 2.06-2.06.94zm-11 1L8.5 8.5l.94-2.06 2.06-.94-2.06-.94L8.5 2.5l-.94 2.06-2.06.94zm10 10l.94 2.06.94-2.06 2.06-.94-2.06-.94-.94-2.06-.94 2.06-2.06.94z\"/><path d=\"M17.41 7.96l-1.37-1.37c-.4-.4-.92-.59-1.43-.59-.52 0-1.04.2-1.43.59L10.3 9.45l-7.72 7.72c-.78.78-.78 2.05 0 2.83L4 21.41c.39.39.9.59 1.41.59.51 0 1.02-.2 1.41-.59l7.78-7.78 2.81-2.81c.8-.78.8-2.07 0-2.86zM5.41 20L4 18.59l7.72-7.72 1.47 1.35L5.41 20z\"/>\n",
              "  </svg>\n",
              "      </button>\n",
              "      \n",
              "  <style>\n",
              "    .colab-df-container {\n",
              "      display:flex;\n",
              "      flex-wrap:wrap;\n",
              "      gap: 12px;\n",
              "    }\n",
              "\n",
              "    .colab-df-convert {\n",
              "      background-color: #E8F0FE;\n",
              "      border: none;\n",
              "      border-radius: 50%;\n",
              "      cursor: pointer;\n",
              "      display: none;\n",
              "      fill: #1967D2;\n",
              "      height: 32px;\n",
              "      padding: 0 0 0 0;\n",
              "      width: 32px;\n",
              "    }\n",
              "\n",
              "    .colab-df-convert:hover {\n",
              "      background-color: #E2EBFA;\n",
              "      box-shadow: 0px 1px 2px rgba(60, 64, 67, 0.3), 0px 1px 3px 1px rgba(60, 64, 67, 0.15);\n",
              "      fill: #174EA6;\n",
              "    }\n",
              "\n",
              "    [theme=dark] .colab-df-convert {\n",
              "      background-color: #3B4455;\n",
              "      fill: #D2E3FC;\n",
              "    }\n",
              "\n",
              "    [theme=dark] .colab-df-convert:hover {\n",
              "      background-color: #434B5C;\n",
              "      box-shadow: 0px 1px 3px 1px rgba(0, 0, 0, 0.15);\n",
              "      filter: drop-shadow(0px 1px 2px rgba(0, 0, 0, 0.3));\n",
              "      fill: #FFFFFF;\n",
              "    }\n",
              "  </style>\n",
              "\n",
              "      <script>\n",
              "        const buttonEl =\n",
              "          document.querySelector('#df-e5067f3c-711f-4938-8dc6-e2dd89e0674d button.colab-df-convert');\n",
              "        buttonEl.style.display =\n",
              "          google.colab.kernel.accessAllowed ? 'block' : 'none';\n",
              "\n",
              "        async function convertToInteractive(key) {\n",
              "          const element = document.querySelector('#df-e5067f3c-711f-4938-8dc6-e2dd89e0674d');\n",
              "          const dataTable =\n",
              "            await google.colab.kernel.invokeFunction('convertToInteractive',\n",
              "                                                     [key], {});\n",
              "          if (!dataTable) return;\n",
              "\n",
              "          const docLinkHtml = 'Like what you see? Visit the ' +\n",
              "            '<a target=\"_blank\" href=https://colab.research.google.com/notebooks/data_table.ipynb>data table notebook</a>'\n",
              "            + ' to learn more about interactive tables.';\n",
              "          element.innerHTML = '';\n",
              "          dataTable['output_type'] = 'display_data';\n",
              "          await google.colab.output.renderOutput(dataTable, element);\n",
              "          const docLink = document.createElement('div');\n",
              "          docLink.innerHTML = docLinkHtml;\n",
              "          element.appendChild(docLink);\n",
              "        }\n",
              "      </script>\n",
              "    </div>\n",
              "  </div>\n",
              "  "
            ]
          },
          "metadata": {},
          "execution_count": 4
        }
      ]
    },
    {
      "cell_type": "code",
      "source": [
        "series[\"event_time\"]=pd.to_datetime(series[\"event_time\"])"
      ],
      "metadata": {
        "id": "UPxuZykWQ5MH"
      },
      "execution_count": 5,
      "outputs": []
    },
    {
      "cell_type": "code",
      "source": [
        "new_series=series.groupby(\"event_time\").sum()"
      ],
      "metadata": {
        "id": "_fDYZO1gQ5Ip"
      },
      "execution_count": 6,
      "outputs": []
    },
    {
      "cell_type": "code",
      "source": [
        "new_series.plot()"
      ],
      "metadata": {
        "colab": {
          "base_uri": "https://localhost:8080/",
          "height": 295
        },
        "id": "v-YB4KseRQ9X",
        "outputId": "4cad4c30-1427-40c4-d9ff-7eb4813c422b"
      },
      "execution_count": 7,
      "outputs": [
        {
          "output_type": "execute_result",
          "data": {
            "text/plain": [
              "<matplotlib.axes._subplots.AxesSubplot at 0x7f8a2b5766d0>"
            ]
          },
          "metadata": {},
          "execution_count": 7
        },
        {
          "output_type": "display_data",
          "data": {
            "text/plain": [
              "<Figure size 432x288 with 1 Axes>"
            ],
            "image/png": "[encoded data removed]"
          },
          "metadata": {
            "needs_background": "light"
          }
        }
      ]
    },
    {
      "cell_type": "code",
      "source": [
        "new_series.isnull().sum()"
      ],
      "metadata": {
        "colab": {
          "base_uri": "https://localhost:8080/"
        },
        "id": "wCKlpdSQRpqK",
        "outputId": "0d95f6a5-e23b-4f92-cc30-39969d3a9f8f"
      },
      "execution_count": 8,
      "outputs": [
        {
          "output_type": "execute_result",
          "data": {
            "text/plain": [
              "price_sap    0\n",
              "dtype: int64"
            ]
          },
          "metadata": {},
          "execution_count": 8
        }
      ]
    },
    {
      "cell_type": "code",
      "source": [
        "from statsmodels.tsa.stattools import adfuller"
      ],
      "metadata": {
        "id": "zZA3RDbqRstu"
      },
      "execution_count": 9,
      "outputs": []
    },
    {
      "cell_type": "code",
      "source": [
        "def adfuller_test(purchase):\n",
        "    result=adfuller(purchase)\n",
        "    labels = ['ADF Test Statistic','p-value']\n",
        "    for value,label in zip(result,labels):\n",
        "        print(label+' : '+str(value) )\n",
        "    if result[1] <= 0.05:\n",
        "        print(\"strong evidence against the null hypothesis(Ho), reject the null hypothesis. Data has no unit root and is stationary\")\n",
        "    else:\n",
        "        print(\"weak evidence against null hypothesis, time series has a unit root, indicating it is non-stationary \")"
      ],
      "metadata": {
        "id": "_U6McMEmRveQ"
      },
      "execution_count": 10,
      "outputs": []
    },
    {
      "cell_type": "code",
      "source": [
        "adfuller_test(new_series[\"price_sap\"])"
      ],
      "metadata": {
        "colab": {
          "base_uri": "https://localhost:8080/"
        },
        "id": "JFsfLP36Rvbt",
        "outputId": "53171c1b-8c0d-4591-99e5-d5660400f70f"
      },
      "execution_count": 11,
      "outputs": [
        {
          "output_type": "stream",
          "name": "stdout",
          "text": [
            "ADF Test Statistic : -1.907258935457423\n",
            "p-value : 0.3286540217756968\n",
            "weak evidence against null hypothesis, time series has a unit root, indicating it is non-stationary \n"
          ]
        }
      ]
    },
    {
      "cell_type": "code",
      "source": [
        "sapp_diff=new_series[\"price_sap\"].diff()"
      ],
      "metadata": {
        "id": "W9QSCbslRvZH"
      },
      "execution_count": 12,
      "outputs": []
    },
    {
      "cell_type": "code",
      "source": [
        "sapp_diff=sapp_diff.dropna()"
      ],
      "metadata": {
        "id": "RpdUVrDaRvWN"
      },
      "execution_count": 13,
      "outputs": []
    },
    {
      "cell_type": "code",
      "source": [
        "adfuller_test(sapp_diff)"
      ],
      "metadata": {
        "colab": {
          "base_uri": "https://localhost:8080/"
        },
        "id": "1TRLI0AwSEdt",
        "outputId": "ed8aeedd-bc68-44f7-fc62-5dc905da80ac"
      },
      "execution_count": 14,
      "outputs": [
        {
          "output_type": "stream",
          "name": "stdout",
          "text": [
            "ADF Test Statistic : -7.591735707413118\n",
            "p-value : 2.5208927113564864e-11\n",
            "strong evidence against the null hypothesis(Ho), reject the null hypothesis. Data has no unit root and is stationary\n"
          ]
        }
      ]
    },
    {
      "cell_type": "code",
      "source": [
        "sapp_diff.shape"
      ],
      "metadata": {
        "colab": {
          "base_uri": "https://localhost:8080/"
        },
        "id": "MhaMmzg3SI8K",
        "outputId": "46258d04-cf1f-4949-85c1-1296c856483f"
      },
      "execution_count": 15,
      "outputs": [
        {
          "output_type": "execute_result",
          "data": {
            "text/plain": [
              "(132,)"
            ]
          },
          "metadata": {},
          "execution_count": 15
        }
      ]
    },
    {
      "cell_type": "code",
      "source": [
        "sapp_diff.tail()"
      ],
      "metadata": {
        "colab": {
          "base_uri": "https://localhost:8080/"
        },
        "id": "_QDEFZbFUr8K",
        "outputId": "6f7aece4-6a37-4f3a-9698-5b5ae8e6cbbf"
      },
      "execution_count": 16,
      "outputs": [
        {
          "output_type": "execute_result",
          "data": {
            "text/plain": [
              "event_time\n",
              "2021-02-24   -4394.41\n",
              "2021-02-25      13.61\n",
              "2021-02-26    -648.56\n",
              "2021-02-27    -300.15\n",
              "2021-02-28    -166.59\n",
              "Name: price_sap, dtype: float64"
            ]
          },
          "metadata": {},
          "execution_count": 16
        }
      ]
    },
    {
      "cell_type": "code",
      "source": [
        "from statsmodels.graphics.tsaplots import plot_acf, plot_pacf\n"
      ],
      "metadata": {
        "id": "D1XwTKciSN-Q"
      },
      "execution_count": 17,
      "outputs": []
    },
    {
      "cell_type": "code",
      "source": [
        "pacf_plot = plot_pacf(sapp_diff,lags=64)\n"
      ],
      "metadata": {
        "colab": {
          "base_uri": "https://localhost:8080/",
          "height": 336
        },
        "id": "gEJ9CAVgSN7h",
        "outputId": "50937f67-84b4-432b-abaa-2e9315c7d0c3"
      },
      "execution_count": 18,
      "outputs": [
        {
          "output_type": "stream",
          "name": "stderr",
          "text": [
            "/usr/local/lib/python3.7/dist-packages/statsmodels/graphics/tsaplots.py:353: FutureWarning: The default method 'yw' can produce PACF values outside of the [-1,1] interval. After 0.13, the default will change tounadjusted Yule-Walker ('ywm'). You can use this method now by setting method='ywm'.\n",
            "  FutureWarning,\n"
          ]
        },
        {
          "output_type": "display_data",
          "data": {
            "text/plain": [
              "<Figure size 432x288 with 1 Axes>"
            ],
            "image/png": "[encoded data removed]"
          },
          "metadata": {
            "needs_background": "light"
          }
        }
      ]
    },
    {
      "cell_type": "code",
      "source": [
        "acf_plot = plot_acf(sapp_diff, lags = 66)"
      ],
      "metadata": {
        "colab": {
          "base_uri": "https://localhost:8080/",
          "height": 281
        },
        "id": "RRrmePnzSN4t",
        "outputId": "e740ecb0-4edb-4736-fe34-0eb9381520a1"
      },
      "execution_count": 19,
      "outputs": [
        {
          "output_type": "display_data",
          "data": {
            "text/plain": [
              "<Figure size 432x288 with 1 Axes>"
            ],
            "image/png": "[encoded data removed]"
          },
          "metadata": {
            "needs_background": "light"
          }
        }
      ]
    },
    {
      "cell_type": "code",
      "source": [
        "import statsmodels.api as sm\n"
      ],
      "metadata": {
        "id": "yMuqgh2XSN19"
      },
      "execution_count": 20,
      "outputs": []
    },
    {
      "cell_type": "code",
      "source": [
        "model1 = sm.tsa.arima.ARIMA(new_series, order=(0,1,2))\n",
        "result1 = model1.fit()"
      ],
      "metadata": {
        "colab": {
          "base_uri": "https://localhost:8080/"
        },
        "id": "fV5cbzCfSNsQ",
        "outputId": "b0f95975-dd68-4599-fb92-1324ead864ac"
      },
      "execution_count": 21,
      "outputs": [
        {
          "output_type": "stream",
          "name": "stderr",
          "text": [
            "/usr/local/lib/python3.7/dist-packages/statsmodels/tsa/base/tsa_model.py:471: ValueWarning: A date index has been provided, but it has no associated frequency information and so will be ignored when e.g. forecasting.\n",
            "  self._init_dates(dates, freq)\n",
            "/usr/local/lib/python3.7/dist-packages/statsmodels/tsa/base/tsa_model.py:471: ValueWarning: A date index has been provided, but it has no associated frequency information and so will be ignored when e.g. forecasting.\n",
            "  self._init_dates(dates, freq)\n",
            "/usr/local/lib/python3.7/dist-packages/statsmodels/tsa/base/tsa_model.py:471: ValueWarning: A date index has been provided, but it has no associated frequency information and so will be ignored when e.g. forecasting.\n",
            "  self._init_dates(dates, freq)\n"
          ]
        }
      ]
    },
    {
      "cell_type": "code",
      "source": [
        "result1.summary()"
      ],
      "metadata": {
        "colab": {
          "base_uri": "https://localhost:8080/",
          "height": 430
        },
        "id": "p1k9bTtJSyGr",
        "outputId": "501098b0-e38a-47d3-dfd9-8ff7f5867704"
      },
      "execution_count": 22,
      "outputs": [
        {
          "output_type": "execute_result",
          "data": {
            "text/plain": [
              "<class 'statsmodels.iolib.summary.Summary'>\n",
              "\"\"\"\n",
              "                               SARIMAX Results                                \n",
              "==============================================================================\n",
              "Dep. Variable:              price_sap   No. Observations:                  133\n",
              "Model:                 ARIMA(0, 1, 2)   Log Likelihood               -1143.307\n",
              "Date:                Thu, 12 May 2022   AIC                           2292.614\n",
              "Time:                        08:24:54   BIC                           2301.263\n",
              "Sample:                             0   HQIC                          2296.129\n",
              "                                - 133                                         \n",
              "Covariance Type:                  opg                                         \n",
              "==============================================================================\n",
              "                 coef    std err          z      P>|z|      [0.025      0.975]\n",
              "------------------------------------------------------------------------------\n",
              "ma.L1         -0.8016      0.077    -10.355      0.000      -0.953      -0.650\n",
              "ma.L2          0.1499      0.076      1.971      0.049       0.001       0.299\n",
              "sigma2      1.948e+06   1.81e+05     10.764      0.000    1.59e+06     2.3e+06\n",
              "===================================================================================\n",
              "Ljung-Box (L1) (Q):                   0.06   Jarque-Bera (JB):                30.40\n",
              "Prob(Q):                              0.81   Prob(JB):                         0.00\n",
              "Heteroskedasticity (H):               3.00   Skew:                             0.71\n",
              "Prob(H) (two-sided):                  0.00   Kurtosis:                         4.88\n",
              "===================================================================================\n",
              "\n",
              "Warnings:\n",
              "[1] Covariance matrix calculated using the outer product of gradients (complex-step).\n",
              "\"\"\""
            ],
            "text/html": [
              "<table class=\"simpletable\">\n",
              "<caption>SARIMAX Results</caption>\n",
              "<tr>\n",
              "  <th>Dep. Variable:</th>       <td>price_sap</td>    <th>  No. Observations:  </th>    <td>133</td>   \n",
              "</tr>\n",
              "<tr>\n",
              "  <th>Model:</th>            <td>ARIMA(0, 1, 2)</td>  <th>  Log Likelihood     </th> <td>-1143.307</td>\n",
              "</tr>\n",
              "<tr>\n",
              "  <th>Date:</th>            <td>Thu, 12 May 2022</td> <th>  AIC                </th> <td>2292.614</td> \n",
              "</tr>\n",
              "<tr>\n",
              "  <th>Time:</th>                <td>08:24:54</td>     <th>  BIC                </th> <td>2301.263</td> \n",
              "</tr>\n",
              "<tr>\n",
              "  <th>Sample:</th>                  <td>0</td>        <th>  HQIC               </th> <td>2296.129</td> \n",
              "</tr>\n",
              "<tr>\n",
              "  <th></th>                      <td> - 133</td>      <th>                     </th>     <td> </td>    \n",
              "</tr>\n",
              "<tr>\n",
              "  <th>Covariance Type:</th>        <td>opg</td>       <th>                     </th>     <td> </td>    \n",
              "</tr>\n",
              "</table>\n",
              "<table class=\"simpletable\">\n",
              "<tr>\n",
              "     <td></td>       <th>coef</th>     <th>std err</th>      <th>z</th>      <th>P>|z|</th>  <th>[0.025</th>    <th>0.975]</th>  \n",
              "</tr>\n",
              "<tr>\n",
              "  <th>ma.L1</th>  <td>   -0.8016</td> <td>    0.077</td> <td>  -10.355</td> <td> 0.000</td> <td>   -0.953</td> <td>   -0.650</td>\n",
              "</tr>\n",
              "<tr>\n",
              "  <th>ma.L2</th>  <td>    0.1499</td> <td>    0.076</td> <td>    1.971</td> <td> 0.049</td> <td>    0.001</td> <td>    0.299</td>\n",
              "</tr>\n",
              "<tr>\n",
              "  <th>sigma2</th> <td> 1.948e+06</td> <td> 1.81e+05</td> <td>   10.764</td> <td> 0.000</td> <td> 1.59e+06</td> <td>  2.3e+06</td>\n",
              "</tr>\n",
              "</table>\n",
              "<table class=\"simpletable\">\n",
              "<tr>\n",
              "  <th>Ljung-Box (L1) (Q):</th>     <td>0.06</td> <th>  Jarque-Bera (JB):  </th> <td>30.40</td>\n",
              "</tr>\n",
              "<tr>\n",
              "  <th>Prob(Q):</th>                <td>0.81</td> <th>  Prob(JB):          </th> <td>0.00</td> \n",
              "</tr>\n",
              "<tr>\n",
              "  <th>Heteroskedasticity (H):</th> <td>3.00</td> <th>  Skew:              </th> <td>0.71</td> \n",
              "</tr>\n",
              "<tr>\n",
              "  <th>Prob(H) (two-sided):</th>    <td>0.00</td> <th>  Kurtosis:          </th> <td>4.88</td> \n",
              "</tr>\n",
              "</table><br/><br/>Warnings:<br/>[1] Covariance matrix calculated using the outer product of gradients (complex-step)."
            ]
          },
          "metadata": {},
          "execution_count": 22
        }
      ]
    },
    {
      "cell_type": "code",
      "source": [
        "forecast_1=result1.predict(start=107,end=132,dynamic=True)\n"
      ],
      "metadata": {
        "id": "yH36tp1WSyEA"
      },
      "execution_count": 23,
      "outputs": []
    },
    {
      "cell_type": "code",
      "source": [
        "forecast_1"
      ],
      "metadata": {
        "colab": {
          "base_uri": "https://localhost:8080/"
        },
        "id": "I_35nIF5SyBK",
        "outputId": "3596afca-8bd6-445e-b257-82edc7326ec4"
      },
      "execution_count": 24,
      "outputs": [
        {
          "output_type": "execute_result",
          "data": {
            "text/plain": [
              "event_time\n",
              "2021-02-03    2802.770907\n",
              "2021-02-04    2909.085471\n",
              "2021-02-05    2909.085471\n",
              "2021-02-06    2909.085471\n",
              "2021-02-07    2909.085471\n",
              "2021-02-08    2909.085471\n",
              "2021-02-09    2909.085471\n",
              "2021-02-10    2909.085471\n",
              "2021-02-11    2909.085471\n",
              "2021-02-12    2909.085471\n",
              "2021-02-13    2909.085471\n",
              "2021-02-14    2909.085471\n",
              "2021-02-15    2909.085471\n",
              "2021-02-16    2909.085471\n",
              "2021-02-17    2909.085471\n",
              "2021-02-18    2909.085471\n",
              "2021-02-19    2909.085471\n",
              "2021-02-20    2909.085471\n",
              "2021-02-21    2909.085471\n",
              "2021-02-22    2909.085471\n",
              "2021-02-23    2909.085471\n",
              "2021-02-24    2909.085471\n",
              "2021-02-25    2909.085471\n",
              "2021-02-26    2909.085471\n",
              "2021-02-27    2909.085471\n",
              "2021-02-28    2909.085471\n",
              "Name: predicted_mean, dtype: float64"
            ]
          },
          "metadata": {},
          "execution_count": 24
        }
      ]
    },
    {
      "cell_type": "code",
      "source": [
        "sapp_diff.index=range(0,132)"
      ],
      "metadata": {
        "id": "66Ua0qm7TIm-"
      },
      "execution_count": 25,
      "outputs": []
    },
    {
      "cell_type": "code",
      "source": [
        "plt.plot(new_series)\n",
        "plt.plot(forecast_1)\n",
        "plt.show()"
      ],
      "metadata": {
        "colab": {
          "base_uri": "https://localhost:8080/",
          "height": 265
        },
        "id": "R8LyyxsTTQNJ",
        "outputId": "71fc264e-f23f-4113-b6a0-a5a518e1848b"
      },
      "execution_count": 26,
      "outputs": [
        {
          "output_type": "display_data",
          "data": {
            "text/plain": [
              "<Figure size 432x288 with 1 Axes>"
            ],
            "image/png": "[encoded data removed]"
          },
          "metadata": {
            "needs_background": "light"
          }
        }
      ]
    },
    {
      "cell_type": "code",
      "source": [
        "model2=sm.tsa.statespace.SARIMAX(new_series,order=(0, 1, 2),seasonal_order=(0,1,2,31))\n",
        "results2=model2.fit()"
      ],
      "metadata": {
        "colab": {
          "base_uri": "https://localhost:8080/"
        },
        "id": "YnTalWHvTWoz",
        "outputId": "5342614b-b509-48b9-b63c-b3461c4821a8"
      },
      "execution_count": 55,
      "outputs": [
        {
          "output_type": "stream",
          "name": "stderr",
          "text": [
            "/usr/local/lib/python3.7/dist-packages/statsmodels/tsa/base/tsa_model.py:471: ValueWarning: A date index has been provided, but it has no associated frequency information and so will be ignored when e.g. forecasting.\n",
            "  self._init_dates(dates, freq)\n",
            "/usr/local/lib/python3.7/dist-packages/statsmodels/tsa/base/tsa_model.py:471: ValueWarning: A date index has been provided, but it has no associated frequency information and so will be ignored when e.g. forecasting.\n",
            "  self._init_dates(dates, freq)\n",
            "/usr/local/lib/python3.7/dist-packages/statsmodels/tsa/statespace/sarimax.py:868: UserWarning: Too few observations to estimate starting parameters for seasonal ARMA. All parameters except for variances will be set to zeros.\n",
            "  ' zeros.' % warning_description)\n"
          ]
        }
      ]
    },
    {
      "cell_type": "code",
      "source": [
        "results2.summary()"
      ],
      "metadata": {
        "colab": {
          "base_uri": "https://localhost:8080/",
          "height": 473
        },
        "id": "Q0quGaOPTfD1",
        "outputId": "525bfd05-5cde-47ff-e035-e67c5a42903e"
      },
      "execution_count": 56,
      "outputs": [
        {
          "output_type": "execute_result",
          "data": {
            "text/plain": [
              "<class 'statsmodels.iolib.summary.Summary'>\n",
              "\"\"\"\n",
              "                                     SARIMAX Results                                      \n",
              "==========================================================================================\n",
              "Dep. Variable:                          price_sap   No. Observations:                  133\n",
              "Model:             SARIMAX(0, 1, 2)x(0, 1, 2, 31)   Log Likelihood                -890.411\n",
              "Date:                            Thu, 12 May 2022   AIC                           1790.822\n",
              "Time:                                    08:28:42   BIC                           1803.898\n",
              "Sample:                                         0   HQIC                          1796.116\n",
              "                                            - 133                                         \n",
              "Covariance Type:                              opg                                         \n",
              "==============================================================================\n",
              "                 coef    std err          z      P>|z|      [0.025      0.975]\n",
              "------------------------------------------------------------------------------\n",
              "ma.L1         -0.8442      0.092     -9.134      0.000      -1.025      -0.663\n",
              "ma.L2          0.1179      0.089      1.319      0.187      -0.057       0.293\n",
              "ma.S.L31      -0.9477      0.475     -1.996      0.046      -1.878      -0.017\n",
              "ma.S.L62       0.1648      0.273      0.603      0.546      -0.371       0.700\n",
              "sigma2      2.267e+06   1.09e+06      2.078      0.038    1.29e+05    4.41e+06\n",
              "===================================================================================\n",
              "Ljung-Box (L1) (Q):                   0.07   Jarque-Bera (JB):                19.37\n",
              "Prob(Q):                              0.79   Prob(JB):                         0.00\n",
              "Heteroskedasticity (H):               2.75   Skew:                             0.74\n",
              "Prob(H) (two-sided):                  0.00   Kurtosis:                         4.55\n",
              "===================================================================================\n",
              "\n",
              "Warnings:\n",
              "[1] Covariance matrix calculated using the outer product of gradients (complex-step).\n",
              "\"\"\""
            ],
            "text/html": [
              "<table class=\"simpletable\">\n",
              "<caption>SARIMAX Results</caption>\n",
              "<tr>\n",
              "  <th>Dep. Variable:</th>              <td>price_sap</td>           <th>  No. Observations:  </th>    <td>133</td>  \n",
              "</tr>\n",
              "<tr>\n",
              "  <th>Model:</th>           <td>SARIMAX(0, 1, 2)x(0, 1, 2, 31)</td> <th>  Log Likelihood     </th> <td>-890.411</td>\n",
              "</tr>\n",
              "<tr>\n",
              "  <th>Date:</th>                   <td>Thu, 12 May 2022</td>        <th>  AIC                </th> <td>1790.822</td>\n",
              "</tr>\n",
              "<tr>\n",
              "  <th>Time:</th>                       <td>08:28:42</td>            <th>  BIC                </th> <td>1803.898</td>\n",
              "</tr>\n",
              "<tr>\n",
              "  <th>Sample:</th>                         <td>0</td>               <th>  HQIC               </th> <td>1796.116</td>\n",
              "</tr>\n",
              "<tr>\n",
              "  <th></th>                             <td> - 133</td>             <th>                     </th>     <td> </td>   \n",
              "</tr>\n",
              "<tr>\n",
              "  <th>Covariance Type:</th>               <td>opg</td>              <th>                     </th>     <td> </td>   \n",
              "</tr>\n",
              "</table>\n",
              "<table class=\"simpletable\">\n",
              "<tr>\n",
              "      <td></td>        <th>coef</th>     <th>std err</th>      <th>z</th>      <th>P>|z|</th>  <th>[0.025</th>    <th>0.975]</th>  \n",
              "</tr>\n",
              "<tr>\n",
              "  <th>ma.L1</th>    <td>   -0.8442</td> <td>    0.092</td> <td>   -9.134</td> <td> 0.000</td> <td>   -1.025</td> <td>   -0.663</td>\n",
              "</tr>\n",
              "<tr>\n",
              "  <th>ma.L2</th>    <td>    0.1179</td> <td>    0.089</td> <td>    1.319</td> <td> 0.187</td> <td>   -0.057</td> <td>    0.293</td>\n",
              "</tr>\n",
              "<tr>\n",
              "  <th>ma.S.L31</th> <td>   -0.9477</td> <td>    0.475</td> <td>   -1.996</td> <td> 0.046</td> <td>   -1.878</td> <td>   -0.017</td>\n",
              "</tr>\n",
              "<tr>\n",
              "  <th>ma.S.L62</th> <td>    0.1648</td> <td>    0.273</td> <td>    0.603</td> <td> 0.546</td> <td>   -0.371</td> <td>    0.700</td>\n",
              "</tr>\n",
              "<tr>\n",
              "  <th>sigma2</th>   <td> 2.267e+06</td> <td> 1.09e+06</td> <td>    2.078</td> <td> 0.038</td> <td> 1.29e+05</td> <td> 4.41e+06</td>\n",
              "</tr>\n",
              "</table>\n",
              "<table class=\"simpletable\">\n",
              "<tr>\n",
              "  <th>Ljung-Box (L1) (Q):</th>     <td>0.07</td> <th>  Jarque-Bera (JB):  </th> <td>19.37</td>\n",
              "</tr>\n",
              "<tr>\n",
              "  <th>Prob(Q):</th>                <td>0.79</td> <th>  Prob(JB):          </th> <td>0.00</td> \n",
              "</tr>\n",
              "<tr>\n",
              "  <th>Heteroskedasticity (H):</th> <td>2.75</td> <th>  Skew:              </th> <td>0.74</td> \n",
              "</tr>\n",
              "<tr>\n",
              "  <th>Prob(H) (two-sided):</th>    <td>0.00</td> <th>  Kurtosis:          </th> <td>4.55</td> \n",
              "</tr>\n",
              "</table><br/><br/>Warnings:<br/>[1] Covariance matrix calculated using the outer product of gradients (complex-step)."
            ]
          },
          "metadata": {},
          "execution_count": 56
        }
      ]
    },
    {
      "cell_type": "code",
      "source": [
        "forecast_2=results2.predict(start=101,end=131,dynamic=True)\n"
      ],
      "metadata": {
        "id": "kbDzrXQfTg7w"
      },
      "execution_count": 65,
      "outputs": []
    },
    {
      "cell_type": "code",
      "source": [
        "plt.plot(new_series)\n",
        "plt.plot(forecast_2)\n",
        "plt.show()"
      ],
      "metadata": {
        "colab": {
          "base_uri": "https://localhost:8080/",
          "height": 265
        },
        "id": "cWqfxucRTqGo",
        "outputId": "a684d1d7-30ab-4251-db13-0e34f1d44353"
      },
      "execution_count": 66,
      "outputs": [
        {
          "output_type": "display_data",
          "data": {
            "text/plain": [
              "<Figure size 432x288 with 1 Axes>"
            ],
            "image/png": "[encoded data removed]"
          },
          "metadata": {
            "needs_background": "light"
          }
        }
      ]
    },
    {
      "cell_type": "code",
      "source": [
        "y=new_series.price_sap[101:132]"
      ],
      "metadata": {
        "id": "ejB8R23G8s_y"
      },
      "execution_count": 67,
      "outputs": []
    },
    {
      "cell_type": "code",
      "source": [
        "y"
      ],
      "metadata": {
        "colab": {
          "base_uri": "https://localhost:8080/"
        },
        "id": "4vRxrTGd84yb",
        "outputId": "64d24269-ec96-4d75-f9ff-f38820138967"
      },
      "execution_count": 68,
      "outputs": [
        {
          "output_type": "execute_result",
          "data": {
            "text/plain": [
              "event_time\n",
              "2021-01-28    1902.87\n",
              "2021-01-29    1824.17\n",
              "2021-01-30     615.89\n",
              "2021-01-31    3857.39\n",
              "2021-02-01    3068.71\n",
              "2021-02-02    3207.74\n",
              "2021-02-03     947.76\n",
              "2021-02-04    3869.40\n",
              "2021-02-05    1974.22\n",
              "2021-02-06    4563.43\n",
              "2021-02-07    4091.35\n",
              "2021-02-08    4738.26\n",
              "2021-02-09    3271.80\n",
              "2021-02-10    4143.21\n",
              "2021-02-11    3570.54\n",
              "2021-02-12    4536.82\n",
              "2021-02-13    3726.79\n",
              "2021-02-14    2635.24\n",
              "2021-02-15    4368.36\n",
              "2021-02-16    3803.16\n",
              "2021-02-17    4603.45\n",
              "2021-02-18    5321.68\n",
              "2021-02-19    3717.70\n",
              "2021-02-20    2940.70\n",
              "2021-02-21    3227.08\n",
              "2021-02-22    4027.46\n",
              "2021-02-23    7347.77\n",
              "2021-02-24    2953.36\n",
              "2021-02-25    2966.97\n",
              "2021-02-26    2318.41\n",
              "2021-02-27    2018.26\n",
              "Name: price_sap, dtype: float64"
            ]
          },
          "metadata": {},
          "execution_count": 68
        }
      ]
    },
    {
      "cell_type": "code",
      "source": [
        "residuals=forecast_2-y"
      ],
      "metadata": {
        "id": "BrpizA53UY7D"
      },
      "execution_count": 69,
      "outputs": []
    },
    {
      "cell_type": "code",
      "source": [
        "forecast_2"
      ],
      "metadata": {
        "colab": {
          "base_uri": "https://localhost:8080/"
        },
        "id": "A2UpwVnjUl5A",
        "outputId": "3ade0d5b-9ada-41f0-dda8-d809cf413545"
      },
      "execution_count": 70,
      "outputs": [
        {
          "output_type": "execute_result",
          "data": {
            "text/plain": [
              "event_time\n",
              "2021-01-28    3500.163829\n",
              "2021-01-29    3184.303480\n",
              "2021-01-30    2744.406529\n",
              "2021-01-31    3667.505282\n",
              "2021-02-01    3202.973796\n",
              "2021-02-02    3449.251674\n",
              "2021-02-03    3508.974462\n",
              "2021-02-04    3454.419278\n",
              "2021-02-05    3909.216782\n",
              "2021-02-06    3646.513592\n",
              "2021-02-07    4660.777879\n",
              "2021-02-08    4049.669401\n",
              "2021-02-09    4262.271781\n",
              "2021-02-10    4060.415645\n",
              "2021-02-11    4567.199139\n",
              "2021-02-12    4417.411856\n",
              "2021-02-13    3674.901402\n",
              "2021-02-14    4617.478163\n",
              "2021-02-15    4024.643753\n",
              "2021-02-16    5571.592507\n",
              "2021-02-17    3810.393166\n",
              "2021-02-18    4153.444614\n",
              "2021-02-19    3997.596111\n",
              "2021-02-20    4566.247084\n",
              "2021-02-21    5195.865047\n",
              "2021-02-22    4678.478419\n",
              "2021-02-23    4350.523081\n",
              "2021-02-24    3716.230196\n",
              "2021-02-25    4112.619955\n",
              "2021-02-26    3850.567001\n",
              "2021-02-27    3922.338731\n",
              "Name: predicted_mean, dtype: float64"
            ]
          },
          "metadata": {},
          "execution_count": 70
        }
      ]
    },
    {
      "cell_type": "code",
      "source": [
        "residuals"
      ],
      "metadata": {
        "colab": {
          "base_uri": "https://localhost:8080/"
        },
        "id": "-aV5bPZeUhqJ",
        "outputId": "3566f663-8a1c-4a6d-824f-d06ac5193900"
      },
      "execution_count": 71,
      "outputs": [
        {
          "output_type": "execute_result",
          "data": {
            "text/plain": [
              "event_time\n",
              "2021-01-28    1597.293829\n",
              "2021-01-29    1360.133480\n",
              "2021-01-30    2128.516529\n",
              "2021-01-31    -189.884718\n",
              "2021-02-01     134.263796\n",
              "2021-02-02     241.511674\n",
              "2021-02-03    2561.214462\n",
              "2021-02-04    -414.980722\n",
              "2021-02-05    1934.996782\n",
              "2021-02-06    -916.916408\n",
              "2021-02-07     569.427879\n",
              "2021-02-08    -688.590599\n",
              "2021-02-09     990.471781\n",
              "2021-02-10     -82.794355\n",
              "2021-02-11     996.659139\n",
              "2021-02-12    -119.408144\n",
              "2021-02-13     -51.888598\n",
              "2021-02-14    1982.238163\n",
              "2021-02-15    -343.716247\n",
              "2021-02-16    1768.432507\n",
              "2021-02-17    -793.056834\n",
              "2021-02-18   -1168.235386\n",
              "2021-02-19     279.896111\n",
              "2021-02-20    1625.547084\n",
              "2021-02-21    1968.785047\n",
              "2021-02-22     651.018419\n",
              "2021-02-23   -2997.246919\n",
              "2021-02-24     762.870196\n",
              "2021-02-25    1145.649955\n",
              "2021-02-26    1532.157001\n",
              "2021-02-27    1904.078731\n",
              "dtype: float64"
            ]
          },
          "metadata": {},
          "execution_count": 71
        }
      ]
    },
    {
      "cell_type": "code",
      "source": [
        "residuals.plot(kind='kde')\n",
        "plt.show()"
      ],
      "metadata": {
        "colab": {
          "base_uri": "https://localhost:8080/",
          "height": 265
        },
        "id": "__c6FgpMUxNW",
        "outputId": "ee152473-f3f7-4843-bedc-efd268d76ac7"
      },
      "execution_count": 72,
      "outputs": [
        {
          "output_type": "display_data",
          "data": {
            "text/plain": [
              "<Figure size 432x288 with 1 Axes>"
            ],
            "image/png": "[encoded data removed]"
          },
          "metadata": {
            "needs_background": "light"
          }
        }
      ]
    },
    {
      "cell_type": "code",
      "source": [
        "from statsmodels.graphics.gofplots import qqplot\n",
        "qqplot(residuals)"
      ],
      "metadata": {
        "colab": {
          "base_uri": "https://localhost:8080/",
          "height": 541
        },
        "id": "Dln3X3SjVdUf",
        "outputId": "61efd350-e1d5-41bd-da02-cd198f31f4d5"
      },
      "execution_count": 73,
      "outputs": [
        {
          "output_type": "execute_result",
          "data": {
            "text/plain": [
              "<Figure size 432x288 with 1 Axes>"
            ],
            "image/png": "[encoded data removed]"
          },
          "metadata": {},
          "execution_count": 73
        },
        {
          "output_type": "display_data",
          "data": {
            "text/plain": [
              "<Figure size 432x288 with 1 Axes>"
            ],
            "image/png": "[encoded data removed]"
          },
          "metadata": {
            "needs_background": "light"
          }
        }
      ]
    },
    {
      "cell_type": "code",
      "source": [
        "RSS=sum(residuals**2)"
      ],
      "metadata": {
        "id": "H56l3HUoUw_w"
      },
      "execution_count": 74,
      "outputs": []
    },
    {
      "cell_type": "code",
      "source": [
        "TSS=sapp_diff-sapp_diff.mean()"
      ],
      "metadata": {
        "id": "juFZCmA1Uw7s"
      },
      "execution_count": 75,
      "outputs": []
    },
    {
      "cell_type": "code",
      "source": [
        "TSS_Squared=sum(TSS**2)"
      ],
      "metadata": {
        "id": "TwSTu0y7Uw1S"
      },
      "execution_count": 76,
      "outputs": []
    },
    {
      "cell_type": "code",
      "source": [
        "r_squared= 1-(RSS/TSS_Squared)"
      ],
      "metadata": {
        "id": "k7AHxyXgVKLB"
      },
      "execution_count": 77,
      "outputs": []
    },
    {
      "cell_type": "code",
      "source": [
        "r_squared"
      ],
      "metadata": {
        "colab": {
          "base_uri": "https://localhost:8080/"
        },
        "id": "fFj0iuleVL3H",
        "outputId": "4c03580a-d989-47ce-f2cf-5eb2bced541a"
      },
      "execution_count": 78,
      "outputs": [
        {
          "output_type": "execute_result",
          "data": {
            "text/plain": [
              "0.8735914574039756"
            ]
          },
          "metadata": {},
          "execution_count": 78
        }
      ]
    },
    {
      "cell_type": "code",
      "source": [
        "from scipy.stats import shapiro"
      ],
      "metadata": {
        "id": "-34aPXLgVOs2"
      },
      "execution_count": 79,
      "outputs": []
    },
    {
      "cell_type": "code",
      "source": [
        "shapiro(residuals)"
      ],
      "metadata": {
        "colab": {
          "base_uri": "https://localhost:8080/"
        },
        "id": "P0E-ApKJVRMU",
        "outputId": "9226dd3a-8400-431c-eae4-ac6556285aed"
      },
      "execution_count": 80,
      "outputs": [
        {
          "output_type": "execute_result",
          "data": {
            "text/plain": [
              "(0.9509591460227966, 0.1659122258424759)"
            ]
          },
          "metadata": {},
          "execution_count": 80
        }
      ]
    }
  ]
}