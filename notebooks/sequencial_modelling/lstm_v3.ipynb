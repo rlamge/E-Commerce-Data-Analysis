{
 "cells": [
  {
   "cell_type": "code",
   "execution_count": 1,
   "id": "07688493",
   "metadata": {},
   "outputs": [],
   "source": [
    "import pandas as pd\n",
    "import numpy as np\n",
    "from numpy import save\n",
    "from numpy import load\n",
    "from matplotlib import pyplot\n",
    "import tensorflow as tf\n",
    "from keras.layers import BatchNormalization\n",
    "from keras.models import Sequential\n",
    "from keras.layers import Dense\n",
    "from keras.layers import LSTM\n",
    "from keras.layers import Flatten\n",
    "from sklearn import preprocessing\n",
    "from keras.layers import Bidirectional"
   ]
  },
  {
   "cell_type": "code",
   "execution_count": 2,
   "id": "96bd005f",
   "metadata": {},
   "outputs": [],
   "source": [
    "path=r\"C:\\Users\\Shibbs\\Desktop\\Praxis\\CAPP\\cwd\\datasets\\final\\df.csv\""
   ]
  },
  {
   "cell_type": "code",
   "execution_count": 3,
   "id": "3da57d99",
   "metadata": {},
   "outputs": [],
   "source": [
    "def get_dataset(path):\n",
    "    \n",
    "    df = pd.read_csv(path, dtype={'event_type':object, 'product_id':int, 'category_id':object,\n",
    "                                   'category_code':object, 'brand':str, 'price':float, 'user_id':object, \n",
    "                                   'user_session':object, 'pid':int})\n",
    "    \n",
    "    le = preprocessing.LabelEncoder()\n",
    "    df[\"pid\"] = le.fit_transform(df[\"product_id\"])\n",
    "    df = df.groupby(['user_id', 'event_time'], as_index=False).first()\n",
    "    df = df.drop_duplicates(subset=['user_id', 'event_time'])\n",
    "    df = df[['user_id','pid','event_type']]\n",
    "    \n",
    "    return df"
   ]
  },
  {
   "cell_type": "code",
   "execution_count": 4,
   "id": "d87bc677",
   "metadata": {},
   "outputs": [],
   "source": [
    "df = get_dataset(path)"
   ]
  },
  {
   "cell_type": "code",
   "execution_count": 5,
   "id": "7337c92b",
   "metadata": {},
   "outputs": [
    {
     "data": {
      "text/html": [
       "<div>\n",
       "<style scoped>\n",
       "    .dataframe tbody tr th:only-of-type {\n",
       "        vertical-align: middle;\n",
       "    }\n",
       "\n",
       "    .dataframe tbody tr th {\n",
       "        vertical-align: top;\n",
       "    }\n",
       "\n",
       "    .dataframe thead th {\n",
       "        text-align: right;\n",
       "    }\n",
       "</style>\n",
       "<table border=\"1\" class=\"dataframe\">\n",
       "  <thead>\n",
       "    <tr style=\"text-align: right;\">\n",
       "      <th></th>\n",
       "      <th>user_id</th>\n",
       "      <th>pid</th>\n",
       "      <th>event_type</th>\n",
       "    </tr>\n",
       "  </thead>\n",
       "  <tbody>\n",
       "    <tr>\n",
       "      <th>0</th>\n",
       "      <td>1515915625353230000</td>\n",
       "      <td>48545</td>\n",
       "      <td>view</td>\n",
       "    </tr>\n",
       "    <tr>\n",
       "      <th>1</th>\n",
       "      <td>1515915625353230000</td>\n",
       "      <td>48545</td>\n",
       "      <td>view</td>\n",
       "    </tr>\n",
       "    <tr>\n",
       "      <th>2</th>\n",
       "      <td>1515915625353230000</td>\n",
       "      <td>48545</td>\n",
       "      <td>view</td>\n",
       "    </tr>\n",
       "    <tr>\n",
       "      <th>3</th>\n",
       "      <td>1515915625353230000</td>\n",
       "      <td>50637</td>\n",
       "      <td>view</td>\n",
       "    </tr>\n",
       "    <tr>\n",
       "      <th>4</th>\n",
       "      <td>1515915625353230000</td>\n",
       "      <td>42316</td>\n",
       "      <td>view</td>\n",
       "    </tr>\n",
       "    <tr>\n",
       "      <th>...</th>\n",
       "      <td>...</td>\n",
       "      <td>...</td>\n",
       "      <td>...</td>\n",
       "    </tr>\n",
       "    <tr>\n",
       "      <th>865818</th>\n",
       "      <td>1515915625611020000</td>\n",
       "      <td>47813</td>\n",
       "      <td>view</td>\n",
       "    </tr>\n",
       "    <tr>\n",
       "      <th>865819</th>\n",
       "      <td>1515915625611020000</td>\n",
       "      <td>25464</td>\n",
       "      <td>view</td>\n",
       "    </tr>\n",
       "    <tr>\n",
       "      <th>865820</th>\n",
       "      <td>1515915625611020000</td>\n",
       "      <td>38146</td>\n",
       "      <td>view</td>\n",
       "    </tr>\n",
       "    <tr>\n",
       "      <th>865821</th>\n",
       "      <td>1515915625611020000</td>\n",
       "      <td>52972</td>\n",
       "      <td>view</td>\n",
       "    </tr>\n",
       "    <tr>\n",
       "      <th>865822</th>\n",
       "      <td>1515915625611020000</td>\n",
       "      <td>23265</td>\n",
       "      <td>view</td>\n",
       "    </tr>\n",
       "  </tbody>\n",
       "</table>\n",
       "<p>865823 rows × 3 columns</p>\n",
       "</div>"
      ],
      "text/plain": [
       "                    user_id    pid event_type\n",
       "0       1515915625353230000  48545       view\n",
       "1       1515915625353230000  48545       view\n",
       "2       1515915625353230000  48545       view\n",
       "3       1515915625353230000  50637       view\n",
       "4       1515915625353230000  42316       view\n",
       "...                     ...    ...        ...\n",
       "865818  1515915625611020000  47813       view\n",
       "865819  1515915625611020000  25464       view\n",
       "865820  1515915625611020000  38146       view\n",
       "865821  1515915625611020000  52972       view\n",
       "865822  1515915625611020000  23265       view\n",
       "\n",
       "[865823 rows x 3 columns]"
      ]
     },
     "execution_count": 5,
     "metadata": {},
     "output_type": "execute_result"
    }
   ],
   "source": [
    "df"
   ]
  },
  {
   "cell_type": "code",
   "execution_count": 6,
   "id": "1dbd2348",
   "metadata": {},
   "outputs": [],
   "source": [
    "def prepare_dataset(df,seq_len):\n",
    "    \n",
    "    # add sequence index for every uniuqe user id\n",
    "    for i in df['user_id'].unique():\n",
    "        seq = []\n",
    "        for j in range(df[df.user_id == i].shape[0]):\n",
    "            seq.append(f\"{j}\")   \n",
    "        df.loc[df['user_id']==i,'seq_index'] = [k for k in seq]\n",
    "    \n",
    "    # Only keep sequence of length 20\n",
    "    df.seq_index = df.seq_index.astype(int)  \n",
    "    df = df[df['seq_index']<seq_len].reset_index()\n",
    "    \n",
    "    # pivot, encode and post padding both event_type and product_id sequences\n",
    "    df2 = pd.pivot_table(data=df,index='user_id',columns=['seq_index'],values=['event_type'],aggfunc='sum')\n",
    "    df2 = df2.fillna(0)\n",
    "    df2 = df2.replace(['view'],1)\n",
    "    df2 = df2.replace(['cart'],2)\n",
    "    df2 = df2.replace(['purchase'],3)\n",
    "    df2 = df2[df2['event_type',  1 ]!= 0]\n",
    "    \n",
    "    df3 = pd.pivot_table(data=df,index='user_id',columns=['seq_index'],values=['pid'],aggfunc='sum')\n",
    "    df3 = df3.fillna(0)\n",
    "    df3 = df3[df3['pid',  1 ]!= 0]\n",
    "    \n",
    "    # convert post padding to pre padding because it makes more sense\n",
    "#     event_type_list = []\n",
    "#     for i in range(len(df2.index)):\n",
    "#         event_type = df2.iloc[i].tolist()\n",
    "#         event_type.sort(reverse = True,key=lambda x: x==0)\n",
    "#         event_type_list.append(event_type)\n",
    "#         event_type_array = np.array(event_type_list)\n",
    "#         event_type_array = event_type_array.astype(int)\n",
    "#         event_type_array = event_type_array.flatten()\n",
    "        \n",
    "        \n",
    "#     product_id_list = []\n",
    "#     for i in range(len(df3.index)):\n",
    "#         product_id = df3.iloc[i].tolist()\n",
    "#         product_id.sort(reverse = True,key=lambda x: x==0)\n",
    "#         product_id_list.append(product_id)\n",
    "#         product_id_array = np.array(product_id_list)\n",
    "#         product_id_array = product_id_array.flatten()\n",
    "        \n",
    "    event_type_list = []\n",
    "    for i in range(len(df2.index)):\n",
    "        event_type = df2.iloc[i].tolist()\n",
    "        event_type.sort(reverse = True,key=lambda x: x==0)\n",
    "        event_type_list.append(event_type)\n",
    "        \n",
    "    product_id_list = []\n",
    "    for i in range(len(df3.index)):\n",
    "        product_id = df3.iloc[i].tolist()\n",
    "        product_id.sort(reverse = True,key=lambda x: x==0)\n",
    "        product_id_list.append(product_id)\n",
    "        \n",
    "    \n",
    "    # delete extra sequences to match dimensions\n",
    "#     event_type_=np.delete(event_type_array,[range(217580-1580,217580)])\n",
    "#     product_id_=np.delete(product_id_array,[range(217580-1580,217580)])\n",
    "    \n",
    "#     # combine both sequences into a 2d numpy array\n",
    "#     X = np.column_stack((product_id_,event_type_))\n",
    "#     X = X.reshape(10800, 20, 2)\n",
    "# #     X = X.astype(int)\n",
    "        \n",
    "    return event_type_list, product_id_list"
   ]
  },
  {
   "cell_type": "code",
   "execution_count": 28,
   "id": "9809d9ec",
   "metadata": {},
   "outputs": [],
   "source": [
    "def train(arr, epochs, batch_size):\n",
    "    train_size = 10000\n",
    "    train = arr[:train_size, :]\n",
    "    test = arr[train_size:, :]\n",
    "    # split into input and outputs\n",
    "    train_X, train_y = train[:, :-1], train[:, -1]\n",
    "    test_X, test_y = test[:, :-1], test[:, -1]\n",
    "    # reshape input to be 3D [samples, timesteps, features]\n",
    "    train_X = train_X.reshape((train_X.shape[0], 1, train_X.shape[1]))\n",
    "    test_X = test_X.reshape((test_X.shape[0], 1, test_X.shape[1]))\n",
    "    print('train_X: {} train_y: {} test_X: {} test_y: {}'.format(train_X.shape, train_y.shape, test_X.shape, test_y.shape))\n",
    "    \n",
    "    model = Sequential()\n",
    "#     model.add(LSTM(50, input_shape=(train_X.shape[1], train_X.shape[2]),return_sequences=True, dropout=0.5))\n",
    "#     model.add(BatchNormalization())\n",
    "    model.add(LSTM(64, input_shape=(train_X.shape[1], train_X.shape[2]),return_sequences=True, dropout=0.5))\n",
    "    model.add(BatchNormalization())\n",
    "    model.add(LSTM(64, input_shape=(train_X.shape[1], train_X.shape[2]),dropout=0.5))\n",
    "    model.add(BatchNormalization())\n",
    "#     model.add(Dense(1024,activation='relu'))\n",
    "#     model.add(Dense(512,activation='relu'))\n",
    "    model.add(Dense(64,activation='relu'))\n",
    "    model.add(Dense(4 ,activation='softmax'))\n",
    "    model.compile(loss='sparse_categorical_crossentropy', optimizer='adam', metrics=['sparse_categorical_accuracy'])\n",
    "    # fit network\n",
    "    history = model.fit(train_X, train_y, epochs=epochs, batch_size=batch_size, validation_data=(test_X, test_y), verbose=1, shuffle=False)\n",
    "    # plot history\n",
    "    pyplot.plot(history.history['loss'], label='train')\n",
    "    pyplot.plot(history.history['val_loss'], label='test')\n",
    "    pyplot.legend()\n",
    "    pyplot.show()\n",
    "    \n",
    "    return model"
   ]
  },
  {
   "cell_type": "code",
   "execution_count": 24,
   "id": "9fc8b96e",
   "metadata": {},
   "outputs": [],
   "source": [
    "# et,pid=prepare_dataset(df,seq_len=30) #approx runtime 25-30mins\n"
   ]
  },
  {
   "cell_type": "code",
   "execution_count": null,
   "id": "4eb24997",
   "metadata": {},
   "outputs": [],
   "source": []
  },
  {
   "cell_type": "code",
   "execution_count": 29,
   "id": "55882318",
   "metadata": {},
   "outputs": [
    {
     "name": "stdout",
     "output_type": "stream",
     "text": [
      "train_X: (10000, 1, 29) train_y: (10000,) test_X: (879, 1, 29) test_y: (879,)\n",
      "Epoch 1/5\n",
      "313/313 [==============================] - 4s 4ms/step - loss: 0.4581 - sparse_categorical_accuracy: 0.8896 - val_loss: 0.5527 - val_sparse_categorical_accuracy: 0.9181\n",
      "Epoch 2/5\n",
      "313/313 [==============================] - 1s 3ms/step - loss: 0.3752 - sparse_categorical_accuracy: 0.9096 - val_loss: 0.3584 - val_sparse_categorical_accuracy: 0.9181\n",
      "Epoch 3/5\n",
      "313/313 [==============================] - 1s 3ms/step - loss: 0.3695 - sparse_categorical_accuracy: 0.9092 - val_loss: 0.3640 - val_sparse_categorical_accuracy: 0.9181\n",
      "Epoch 4/5\n",
      "313/313 [==============================] - 1s 3ms/step - loss: 0.3611 - sparse_categorical_accuracy: 0.9094 - val_loss: 0.3675 - val_sparse_categorical_accuracy: 0.9181\n",
      "Epoch 5/5\n",
      "313/313 [==============================] - 1s 3ms/step - loss: 0.3606 - sparse_categorical_accuracy: 0.9098 - val_loss: 0.3640 - val_sparse_categorical_accuracy: 0.9181\n"
     ]
    },
    {
     "data": {
      "image/png": "[encoded data removed]",
      "text/plain": [
       "<Figure size 432x288 with 1 Axes>"
      ]
     },
     "metadata": {
      "needs_background": "light"
     },
     "output_type": "display_data"
    }
   ],
   "source": [
    "model = train(np.array(et).astype(int), 5, 32)"
   ]
  },
  {
   "cell_type": "code",
   "execution_count": 20,
   "id": "1c008e9a",
   "metadata": {},
   "outputs": [
    {
     "ename": "NameError",
     "evalue": "name 'train_X' is not defined",
     "output_type": "error",
     "traceback": [
      "\u001b[1;31m---------------------------------------------------------------------------\u001b[0m",
      "\u001b[1;31mNameError\u001b[0m                                 Traceback (most recent call last)",
      "\u001b[1;32m~\\AppData\\Local\\Temp/ipykernel_10640/2619306661.py\u001b[0m in \u001b[0;36m<module>\u001b[1;34m\u001b[0m\n\u001b[1;32m----> 1\u001b[1;33m \u001b[0mtrain_X\u001b[0m\u001b[1;33m[\u001b[0m\u001b[1;36m2\u001b[0m\u001b[1;33m]\u001b[0m\u001b[1;33m\u001b[0m\u001b[1;33m\u001b[0m\u001b[0m\n\u001b[0m",
      "\u001b[1;31mNameError\u001b[0m: name 'train_X' is not defined"
     ]
    }
   ],
   "source": [
    "train_X[2]"
   ]
  },
  {
   "cell_type": "code",
   "execution_count": 36,
   "id": "86e450eb",
   "metadata": {},
   "outputs": [],
   "source": [
    "test_input=[[ 0,0,0,0,0,0,0,0,0,0,0,0,1,1,1,1,1,1,1,1,1,1,1,1,1,1,1,1,2]]"
   ]
  },
  {
   "cell_type": "code",
   "execution_count": 37,
   "id": "a5d2f965",
   "metadata": {},
   "outputs": [],
   "source": [
    "test_input_array = np.array(test_input)"
   ]
  },
  {
   "cell_type": "code",
   "execution_count": 38,
   "id": "3f080d6b",
   "metadata": {},
   "outputs": [],
   "source": [
    "test_input_array=test_input_array.astype(int)"
   ]
  },
  {
   "cell_type": "code",
   "execution_count": 39,
   "id": "cff15241",
   "metadata": {},
   "outputs": [],
   "source": [
    "test_input_array = test_input_array.reshape((test_input_array.shape[0], 1, test_input_array.shape[1]))"
   ]
  },
  {
   "cell_type": "code",
   "execution_count": 40,
   "id": "e3ce8e71",
   "metadata": {},
   "outputs": [
    {
     "data": {
      "text/plain": [
       "array([[4.6299006e-05, 9.0585113e-01, 5.4006387e-02, 4.0096242e-02]],\n",
       "      dtype=float32)"
      ]
     },
     "execution_count": 40,
     "metadata": {},
     "output_type": "execute_result"
    }
   ],
   "source": [
    "model.predict(test_input_array)"
   ]
  },
  {
   "cell_type": "code",
   "execution_count": 69,
   "id": "7e10785f",
   "metadata": {},
   "outputs": [
    {
     "data": {
      "text/plain": [
       "28028"
      ]
     },
     "execution_count": 69,
     "metadata": {},
     "output_type": "execute_result"
    }
   ],
   "source": [
    "len(np.unique(pid))"
   ]
  },
  {
   "cell_type": "code",
   "execution_count": null,
   "id": "c62b711c",
   "metadata": {},
   "outputs": [],
   "source": []
  },
  {
   "cell_type": "code",
   "execution_count": null,
   "id": "9a37d518",
   "metadata": {},
   "outputs": [],
   "source": []
  },
  {
   "cell_type": "code",
   "execution_count": 22,
   "id": "14154a14",
   "metadata": {},
   "outputs": [],
   "source": [
    "df = pd.read_csv(r\"C:\\Users\\Shibbs\\Desktop\\lstm_datasets\\lstm_with_seq_100.csv\")"
   ]
  },
  {
   "cell_type": "code",
   "execution_count": 24,
   "id": "25ca45da",
   "metadata": {},
   "outputs": [],
   "source": [
    "df=df[['user_id','product_id','event_type','seq_index']]"
   ]
  },
  {
   "cell_type": "code",
   "execution_count": 25,
   "id": "a959af78",
   "metadata": {},
   "outputs": [
    {
     "data": {
      "text/html": [
       "<div>\n",
       "<style scoped>\n",
       "    .dataframe tbody tr th:only-of-type {\n",
       "        vertical-align: middle;\n",
       "    }\n",
       "\n",
       "    .dataframe tbody tr th {\n",
       "        vertical-align: top;\n",
       "    }\n",
       "\n",
       "    .dataframe thead th {\n",
       "        text-align: right;\n",
       "    }\n",
       "</style>\n",
       "<table border=\"1\" class=\"dataframe\">\n",
       "  <thead>\n",
       "    <tr style=\"text-align: right;\">\n",
       "      <th></th>\n",
       "      <th>user_id</th>\n",
       "      <th>product_id</th>\n",
       "      <th>event_type</th>\n",
       "      <th>seq_index</th>\n",
       "    </tr>\n",
       "  </thead>\n",
       "  <tbody>\n",
       "    <tr>\n",
       "      <th>0</th>\n",
       "      <td>1.515916e+18</td>\n",
       "      <td>4005145</td>\n",
       "      <td>view</td>\n",
       "      <td>0</td>\n",
       "    </tr>\n",
       "    <tr>\n",
       "      <th>1</th>\n",
       "      <td>1.515916e+18</td>\n",
       "      <td>4005145</td>\n",
       "      <td>view</td>\n",
       "      <td>1</td>\n",
       "    </tr>\n",
       "    <tr>\n",
       "      <th>2</th>\n",
       "      <td>1.515916e+18</td>\n",
       "      <td>4005145</td>\n",
       "      <td>view</td>\n",
       "      <td>2</td>\n",
       "    </tr>\n",
       "    <tr>\n",
       "      <th>3</th>\n",
       "      <td>1.515916e+18</td>\n",
       "      <td>4099840</td>\n",
       "      <td>view</td>\n",
       "      <td>3</td>\n",
       "    </tr>\n",
       "    <tr>\n",
       "      <th>4</th>\n",
       "      <td>1.515916e+18</td>\n",
       "      <td>3506650</td>\n",
       "      <td>view</td>\n",
       "      <td>4</td>\n",
       "    </tr>\n",
       "    <tr>\n",
       "      <th>...</th>\n",
       "      <td>...</td>\n",
       "      <td>...</td>\n",
       "      <td>...</td>\n",
       "      <td>...</td>\n",
       "    </tr>\n",
       "    <tr>\n",
       "      <th>596253</th>\n",
       "      <td>1.515920e+18</td>\n",
       "      <td>1716641</td>\n",
       "      <td>view</td>\n",
       "      <td>95</td>\n",
       "    </tr>\n",
       "    <tr>\n",
       "      <th>596254</th>\n",
       "      <td>1.515920e+18</td>\n",
       "      <td>4051545</td>\n",
       "      <td>view</td>\n",
       "      <td>96</td>\n",
       "    </tr>\n",
       "    <tr>\n",
       "      <th>596255</th>\n",
       "      <td>1.515920e+18</td>\n",
       "      <td>1716639</td>\n",
       "      <td>view</td>\n",
       "      <td>97</td>\n",
       "    </tr>\n",
       "    <tr>\n",
       "      <th>596256</th>\n",
       "      <td>1.515920e+18</td>\n",
       "      <td>1682604</td>\n",
       "      <td>view</td>\n",
       "      <td>98</td>\n",
       "    </tr>\n",
       "    <tr>\n",
       "      <th>596257</th>\n",
       "      <td>1.515920e+18</td>\n",
       "      <td>933727</td>\n",
       "      <td>view</td>\n",
       "      <td>99</td>\n",
       "    </tr>\n",
       "  </tbody>\n",
       "</table>\n",
       "<p>596258 rows × 4 columns</p>\n",
       "</div>"
      ],
      "text/plain": [
       "             user_id  product_id event_type  seq_index\n",
       "0       1.515916e+18     4005145       view          0\n",
       "1       1.515916e+18     4005145       view          1\n",
       "2       1.515916e+18     4005145       view          2\n",
       "3       1.515916e+18     4099840       view          3\n",
       "4       1.515916e+18     3506650       view          4\n",
       "...              ...         ...        ...        ...\n",
       "596253  1.515920e+18     1716641       view         95\n",
       "596254  1.515920e+18     4051545       view         96\n",
       "596255  1.515920e+18     1716639       view         97\n",
       "596256  1.515920e+18     1682604       view         98\n",
       "596257  1.515920e+18      933727       view         99\n",
       "\n",
       "[596258 rows x 4 columns]"
      ]
     },
     "execution_count": 25,
     "metadata": {},
     "output_type": "execute_result"
    }
   ],
   "source": [
    "df"
   ]
  },
  {
   "cell_type": "code",
   "execution_count": null,
   "id": "50bb68c9",
   "metadata": {},
   "outputs": [],
   "source": []
  }
 ],
 "metadata": {
  "kernelspec": {
   "display_name": "Python 3 (ipykernel)",
   "language": "python",
   "name": "python3"
  },
  "language_info": {
   "codemirror_mode": {
    "name": "ipython",
    "version": 3
   },
   "file_extension": ".py",
   "mimetype": "text/x-python",
   "name": "python",
   "nbconvert_exporter": "python",
   "pygments_lexer": "ipython3",
   "version": "3.9.7"
  }
 },
 "nbformat": 4,
 "nbformat_minor": 5
}
